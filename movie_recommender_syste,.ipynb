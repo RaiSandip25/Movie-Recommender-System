{
 "cells": [
  {
   "cell_type": "code",
   "execution_count": 1,
   "id": "73834798",
   "metadata": {},
   "outputs": [],
   "source": [
    "import numpy as np\n",
    "import pandas as pd\n",
    "import ast"
   ]
  },
  {
   "cell_type": "code",
   "execution_count": 2,
   "id": "388bc4ae",
   "metadata": {},
   "outputs": [],
   "source": [
    "movie = pd.read_csv(\"tmdb_5000_movies.csv\")\n",
    "credit = pd.read_csv(\"tmdb_5000_credits.csv\")"
   ]
  },
  {
   "cell_type": "code",
   "execution_count": 3,
   "id": "533c07ce",
   "metadata": {},
   "outputs": [
    {
     "data": {
      "text/html": [
       "<div>\n",
       "<style scoped>\n",
       "    .dataframe tbody tr th:only-of-type {\n",
       "        vertical-align: middle;\n",
       "    }\n",
       "\n",
       "    .dataframe tbody tr th {\n",
       "        vertical-align: top;\n",
       "    }\n",
       "\n",
       "    .dataframe thead th {\n",
       "        text-align: right;\n",
       "    }\n",
       "</style>\n",
       "<table border=\"1\" class=\"dataframe\">\n",
       "  <thead>\n",
       "    <tr style=\"text-align: right;\">\n",
       "      <th></th>\n",
       "      <th>budget</th>\n",
       "      <th>genres</th>\n",
       "      <th>homepage</th>\n",
       "      <th>id</th>\n",
       "      <th>keywords</th>\n",
       "      <th>original_language</th>\n",
       "      <th>original_title</th>\n",
       "      <th>overview</th>\n",
       "      <th>popularity</th>\n",
       "      <th>production_companies</th>\n",
       "      <th>production_countries</th>\n",
       "      <th>release_date</th>\n",
       "      <th>revenue</th>\n",
       "      <th>runtime</th>\n",
       "      <th>spoken_languages</th>\n",
       "      <th>status</th>\n",
       "      <th>tagline</th>\n",
       "      <th>title</th>\n",
       "      <th>vote_average</th>\n",
       "      <th>vote_count</th>\n",
       "    </tr>\n",
       "  </thead>\n",
       "  <tbody>\n",
       "    <tr>\n",
       "      <th>0</th>\n",
       "      <td>237000000</td>\n",
       "      <td>[{\"id\": 28, \"name\": \"Action\"}, {\"id\": 12, \"nam...</td>\n",
       "      <td>http://www.avatarmovie.com/</td>\n",
       "      <td>19995</td>\n",
       "      <td>[{\"id\": 1463, \"name\": \"culture clash\"}, {\"id\":...</td>\n",
       "      <td>en</td>\n",
       "      <td>Avatar</td>\n",
       "      <td>In the 22nd century, a paraplegic Marine is di...</td>\n",
       "      <td>150.437577</td>\n",
       "      <td>[{\"name\": \"Ingenious Film Partners\", \"id\": 289...</td>\n",
       "      <td>[{\"iso_3166_1\": \"US\", \"name\": \"United States o...</td>\n",
       "      <td>2009-12-10</td>\n",
       "      <td>2787965087</td>\n",
       "      <td>162.0</td>\n",
       "      <td>[{\"iso_639_1\": \"en\", \"name\": \"English\"}, {\"iso...</td>\n",
       "      <td>Released</td>\n",
       "      <td>Enter the World of Pandora.</td>\n",
       "      <td>Avatar</td>\n",
       "      <td>7.2</td>\n",
       "      <td>11800</td>\n",
       "    </tr>\n",
       "    <tr>\n",
       "      <th>1</th>\n",
       "      <td>300000000</td>\n",
       "      <td>[{\"id\": 12, \"name\": \"Adventure\"}, {\"id\": 14, \"...</td>\n",
       "      <td>http://disney.go.com/disneypictures/pirates/</td>\n",
       "      <td>285</td>\n",
       "      <td>[{\"id\": 270, \"name\": \"ocean\"}, {\"id\": 726, \"na...</td>\n",
       "      <td>en</td>\n",
       "      <td>Pirates of the Caribbean: At World's End</td>\n",
       "      <td>Captain Barbossa, long believed to be dead, ha...</td>\n",
       "      <td>139.082615</td>\n",
       "      <td>[{\"name\": \"Walt Disney Pictures\", \"id\": 2}, {\"...</td>\n",
       "      <td>[{\"iso_3166_1\": \"US\", \"name\": \"United States o...</td>\n",
       "      <td>2007-05-19</td>\n",
       "      <td>961000000</td>\n",
       "      <td>169.0</td>\n",
       "      <td>[{\"iso_639_1\": \"en\", \"name\": \"English\"}]</td>\n",
       "      <td>Released</td>\n",
       "      <td>At the end of the world, the adventure begins.</td>\n",
       "      <td>Pirates of the Caribbean: At World's End</td>\n",
       "      <td>6.9</td>\n",
       "      <td>4500</td>\n",
       "    </tr>\n",
       "    <tr>\n",
       "      <th>2</th>\n",
       "      <td>245000000</td>\n",
       "      <td>[{\"id\": 28, \"name\": \"Action\"}, {\"id\": 12, \"nam...</td>\n",
       "      <td>http://www.sonypictures.com/movies/spectre/</td>\n",
       "      <td>206647</td>\n",
       "      <td>[{\"id\": 470, \"name\": \"spy\"}, {\"id\": 818, \"name...</td>\n",
       "      <td>en</td>\n",
       "      <td>Spectre</td>\n",
       "      <td>A cryptic message from Bond’s past sends him o...</td>\n",
       "      <td>107.376788</td>\n",
       "      <td>[{\"name\": \"Columbia Pictures\", \"id\": 5}, {\"nam...</td>\n",
       "      <td>[{\"iso_3166_1\": \"GB\", \"name\": \"United Kingdom\"...</td>\n",
       "      <td>2015-10-26</td>\n",
       "      <td>880674609</td>\n",
       "      <td>148.0</td>\n",
       "      <td>[{\"iso_639_1\": \"fr\", \"name\": \"Fran\\u00e7ais\"},...</td>\n",
       "      <td>Released</td>\n",
       "      <td>A Plan No One Escapes</td>\n",
       "      <td>Spectre</td>\n",
       "      <td>6.3</td>\n",
       "      <td>4466</td>\n",
       "    </tr>\n",
       "  </tbody>\n",
       "</table>\n",
       "</div>"
      ],
      "text/plain": [
       "      budget                                             genres  \\\n",
       "0  237000000  [{\"id\": 28, \"name\": \"Action\"}, {\"id\": 12, \"nam...   \n",
       "1  300000000  [{\"id\": 12, \"name\": \"Adventure\"}, {\"id\": 14, \"...   \n",
       "2  245000000  [{\"id\": 28, \"name\": \"Action\"}, {\"id\": 12, \"nam...   \n",
       "\n",
       "                                       homepage      id  \\\n",
       "0                   http://www.avatarmovie.com/   19995   \n",
       "1  http://disney.go.com/disneypictures/pirates/     285   \n",
       "2   http://www.sonypictures.com/movies/spectre/  206647   \n",
       "\n",
       "                                            keywords original_language  \\\n",
       "0  [{\"id\": 1463, \"name\": \"culture clash\"}, {\"id\":...                en   \n",
       "1  [{\"id\": 270, \"name\": \"ocean\"}, {\"id\": 726, \"na...                en   \n",
       "2  [{\"id\": 470, \"name\": \"spy\"}, {\"id\": 818, \"name...                en   \n",
       "\n",
       "                             original_title  \\\n",
       "0                                    Avatar   \n",
       "1  Pirates of the Caribbean: At World's End   \n",
       "2                                   Spectre   \n",
       "\n",
       "                                            overview  popularity  \\\n",
       "0  In the 22nd century, a paraplegic Marine is di...  150.437577   \n",
       "1  Captain Barbossa, long believed to be dead, ha...  139.082615   \n",
       "2  A cryptic message from Bond’s past sends him o...  107.376788   \n",
       "\n",
       "                                production_companies  \\\n",
       "0  [{\"name\": \"Ingenious Film Partners\", \"id\": 289...   \n",
       "1  [{\"name\": \"Walt Disney Pictures\", \"id\": 2}, {\"...   \n",
       "2  [{\"name\": \"Columbia Pictures\", \"id\": 5}, {\"nam...   \n",
       "\n",
       "                                production_countries release_date     revenue  \\\n",
       "0  [{\"iso_3166_1\": \"US\", \"name\": \"United States o...   2009-12-10  2787965087   \n",
       "1  [{\"iso_3166_1\": \"US\", \"name\": \"United States o...   2007-05-19   961000000   \n",
       "2  [{\"iso_3166_1\": \"GB\", \"name\": \"United Kingdom\"...   2015-10-26   880674609   \n",
       "\n",
       "   runtime                                   spoken_languages    status  \\\n",
       "0    162.0  [{\"iso_639_1\": \"en\", \"name\": \"English\"}, {\"iso...  Released   \n",
       "1    169.0           [{\"iso_639_1\": \"en\", \"name\": \"English\"}]  Released   \n",
       "2    148.0  [{\"iso_639_1\": \"fr\", \"name\": \"Fran\\u00e7ais\"},...  Released   \n",
       "\n",
       "                                          tagline  \\\n",
       "0                     Enter the World of Pandora.   \n",
       "1  At the end of the world, the adventure begins.   \n",
       "2                           A Plan No One Escapes   \n",
       "\n",
       "                                      title  vote_average  vote_count  \n",
       "0                                    Avatar           7.2       11800  \n",
       "1  Pirates of the Caribbean: At World's End           6.9        4500  \n",
       "2                                   Spectre           6.3        4466  "
      ]
     },
     "execution_count": 3,
     "metadata": {},
     "output_type": "execute_result"
    }
   ],
   "source": [
    "movie.head(3)"
   ]
  },
  {
   "cell_type": "code",
   "execution_count": 4,
   "id": "8955ebd9",
   "metadata": {},
   "outputs": [
    {
     "data": {
      "text/html": [
       "<div>\n",
       "<style scoped>\n",
       "    .dataframe tbody tr th:only-of-type {\n",
       "        vertical-align: middle;\n",
       "    }\n",
       "\n",
       "    .dataframe tbody tr th {\n",
       "        vertical-align: top;\n",
       "    }\n",
       "\n",
       "    .dataframe thead th {\n",
       "        text-align: right;\n",
       "    }\n",
       "</style>\n",
       "<table border=\"1\" class=\"dataframe\">\n",
       "  <thead>\n",
       "    <tr style=\"text-align: right;\">\n",
       "      <th></th>\n",
       "      <th>movie_id</th>\n",
       "      <th>title</th>\n",
       "      <th>cast</th>\n",
       "      <th>crew</th>\n",
       "    </tr>\n",
       "  </thead>\n",
       "  <tbody>\n",
       "    <tr>\n",
       "      <th>0</th>\n",
       "      <td>19995</td>\n",
       "      <td>Avatar</td>\n",
       "      <td>[{\"cast_id\": 242, \"character\": \"Jake Sully\", \"...</td>\n",
       "      <td>[{\"credit_id\": \"52fe48009251416c750aca23\", \"de...</td>\n",
       "    </tr>\n",
       "    <tr>\n",
       "      <th>1</th>\n",
       "      <td>285</td>\n",
       "      <td>Pirates of the Caribbean: At World's End</td>\n",
       "      <td>[{\"cast_id\": 4, \"character\": \"Captain Jack Spa...</td>\n",
       "      <td>[{\"credit_id\": \"52fe4232c3a36847f800b579\", \"de...</td>\n",
       "    </tr>\n",
       "    <tr>\n",
       "      <th>2</th>\n",
       "      <td>206647</td>\n",
       "      <td>Spectre</td>\n",
       "      <td>[{\"cast_id\": 1, \"character\": \"James Bond\", \"cr...</td>\n",
       "      <td>[{\"credit_id\": \"54805967c3a36829b5002c41\", \"de...</td>\n",
       "    </tr>\n",
       "  </tbody>\n",
       "</table>\n",
       "</div>"
      ],
      "text/plain": [
       "   movie_id                                     title  \\\n",
       "0     19995                                    Avatar   \n",
       "1       285  Pirates of the Caribbean: At World's End   \n",
       "2    206647                                   Spectre   \n",
       "\n",
       "                                                cast  \\\n",
       "0  [{\"cast_id\": 242, \"character\": \"Jake Sully\", \"...   \n",
       "1  [{\"cast_id\": 4, \"character\": \"Captain Jack Spa...   \n",
       "2  [{\"cast_id\": 1, \"character\": \"James Bond\", \"cr...   \n",
       "\n",
       "                                                crew  \n",
       "0  [{\"credit_id\": \"52fe48009251416c750aca23\", \"de...  \n",
       "1  [{\"credit_id\": \"52fe4232c3a36847f800b579\", \"de...  \n",
       "2  [{\"credit_id\": \"54805967c3a36829b5002c41\", \"de...  "
      ]
     },
     "execution_count": 4,
     "metadata": {},
     "output_type": "execute_result"
    }
   ],
   "source": [
    "credit.head(3)"
   ]
  },
  {
   "cell_type": "code",
   "execution_count": 5,
   "id": "a3d41c73",
   "metadata": {},
   "outputs": [
    {
     "data": {
      "text/plain": [
       "(4803, 20)"
      ]
     },
     "execution_count": 5,
     "metadata": {},
     "output_type": "execute_result"
    }
   ],
   "source": [
    "movie.shape"
   ]
  },
  {
   "cell_type": "code",
   "execution_count": 6,
   "id": "ca69353d",
   "metadata": {},
   "outputs": [
    {
     "name": "stdout",
     "output_type": "stream",
     "text": [
      "<class 'pandas.core.frame.DataFrame'>\n",
      "RangeIndex: 4803 entries, 0 to 4802\n",
      "Data columns (total 20 columns):\n",
      " #   Column                Non-Null Count  Dtype  \n",
      "---  ------                --------------  -----  \n",
      " 0   budget                4803 non-null   int64  \n",
      " 1   genres                4803 non-null   object \n",
      " 2   homepage              1712 non-null   object \n",
      " 3   id                    4803 non-null   int64  \n",
      " 4   keywords              4803 non-null   object \n",
      " 5   original_language     4803 non-null   object \n",
      " 6   original_title        4803 non-null   object \n",
      " 7   overview              4800 non-null   object \n",
      " 8   popularity            4803 non-null   float64\n",
      " 9   production_companies  4803 non-null   object \n",
      " 10  production_countries  4803 non-null   object \n",
      " 11  release_date          4802 non-null   object \n",
      " 12  revenue               4803 non-null   int64  \n",
      " 13  runtime               4801 non-null   float64\n",
      " 14  spoken_languages      4803 non-null   object \n",
      " 15  status                4803 non-null   object \n",
      " 16  tagline               3959 non-null   object \n",
      " 17  title                 4803 non-null   object \n",
      " 18  vote_average          4803 non-null   float64\n",
      " 19  vote_count            4803 non-null   int64  \n",
      "dtypes: float64(3), int64(4), object(13)\n",
      "memory usage: 750.6+ KB\n"
     ]
    }
   ],
   "source": [
    "movie.info()"
   ]
  },
  {
   "cell_type": "code",
   "execution_count": 7,
   "id": "bf526737",
   "metadata": {},
   "outputs": [
    {
     "data": {
      "text/plain": [
       "(4803, 4)"
      ]
     },
     "execution_count": 7,
     "metadata": {},
     "output_type": "execute_result"
    }
   ],
   "source": [
    "credit.shape"
   ]
  },
  {
   "cell_type": "code",
   "execution_count": 8,
   "id": "c60a7a6a",
   "metadata": {},
   "outputs": [
    {
     "name": "stdout",
     "output_type": "stream",
     "text": [
      "<class 'pandas.core.frame.DataFrame'>\n",
      "RangeIndex: 4803 entries, 0 to 4802\n",
      "Data columns (total 4 columns):\n",
      " #   Column    Non-Null Count  Dtype \n",
      "---  ------    --------------  ----- \n",
      " 0   movie_id  4803 non-null   int64 \n",
      " 1   title     4803 non-null   object\n",
      " 2   cast      4803 non-null   object\n",
      " 3   crew      4803 non-null   object\n",
      "dtypes: int64(1), object(3)\n",
      "memory usage: 150.2+ KB\n"
     ]
    }
   ],
   "source": [
    "credit.info()"
   ]
  },
  {
   "cell_type": "code",
   "execution_count": 9,
   "id": "c19c43f4",
   "metadata": {},
   "outputs": [
    {
     "data": {
      "text/plain": [
       "array(['[{\"cast_id\": 242, \"character\": \"Jake Sully\", \"credit_id\": \"5602a8a7c3a3685532001c9a\", \"gender\": 2, \"id\": 65731, \"name\": \"Sam Worthington\", \"order\": 0}, {\"cast_id\": 3, \"character\": \"Neytiri\", \"credit_id\": \"52fe48009251416c750ac9cb\", \"gender\": 1, \"id\": 8691, \"name\": \"Zoe Saldana\", \"order\": 1}, {\"cast_id\": 25, \"character\": \"Dr. Grace Augustine\", \"credit_id\": \"52fe48009251416c750aca39\", \"gender\": 1, \"id\": 10205, \"name\": \"Sigourney Weaver\", \"order\": 2}, {\"cast_id\": 4, \"character\": \"Col. Quaritch\", \"credit_id\": \"52fe48009251416c750ac9cf\", \"gender\": 2, \"id\": 32747, \"name\": \"Stephen Lang\", \"order\": 3}, {\"cast_id\": 5, \"character\": \"Trudy Chacon\", \"credit_id\": \"52fe48009251416c750ac9d3\", \"gender\": 1, \"id\": 17647, \"name\": \"Michelle Rodriguez\", \"order\": 4}, {\"cast_id\": 8, \"character\": \"Selfridge\", \"credit_id\": \"52fe48009251416c750ac9e1\", \"gender\": 2, \"id\": 1771, \"name\": \"Giovanni Ribisi\", \"order\": 5}, {\"cast_id\": 7, \"character\": \"Norm Spellman\", \"credit_id\": \"52fe48009251416c750ac9dd\", \"gender\": 2, \"id\": 59231, \"name\": \"Joel David Moore\", \"order\": 6}, {\"cast_id\": 9, \"character\": \"Moat\", \"credit_id\": \"52fe48009251416c750ac9e5\", \"gender\": 1, \"id\": 30485, \"name\": \"CCH Pounder\", \"order\": 7}, {\"cast_id\": 11, \"character\": \"Eytukan\", \"credit_id\": \"52fe48009251416c750ac9ed\", \"gender\": 2, \"id\": 15853, \"name\": \"Wes Studi\", \"order\": 8}, {\"cast_id\": 10, \"character\": \"Tsu\\'Tey\", \"credit_id\": \"52fe48009251416c750ac9e9\", \"gender\": 2, \"id\": 10964, \"name\": \"Laz Alonso\", \"order\": 9}, {\"cast_id\": 12, \"character\": \"Dr. Max Patel\", \"credit_id\": \"52fe48009251416c750ac9f1\", \"gender\": 2, \"id\": 95697, \"name\": \"Dileep Rao\", \"order\": 10}, {\"cast_id\": 13, \"character\": \"Lyle Wainfleet\", \"credit_id\": \"52fe48009251416c750ac9f5\", \"gender\": 2, \"id\": 98215, \"name\": \"Matt Gerald\", \"order\": 11}, {\"cast_id\": 32, \"character\": \"Private Fike\", \"credit_id\": \"52fe48009251416c750aca5b\", \"gender\": 2, \"id\": 154153, \"name\": \"Sean Anthony Moran\", \"order\": 12}, {\"cast_id\": 33, \"character\": \"Cryo Vault Med Tech\", \"credit_id\": \"52fe48009251416c750aca5f\", \"gender\": 2, \"id\": 397312, \"name\": \"Jason Whyte\", \"order\": 13}, {\"cast_id\": 34, \"character\": \"Venture Star Crew Chief\", \"credit_id\": \"52fe48009251416c750aca63\", \"gender\": 2, \"id\": 42317, \"name\": \"Scott Lawrence\", \"order\": 14}, {\"cast_id\": 35, \"character\": \"Lock Up Trooper\", \"credit_id\": \"52fe48009251416c750aca67\", \"gender\": 2, \"id\": 986734, \"name\": \"Kelly Kilgour\", \"order\": 15}, {\"cast_id\": 36, \"character\": \"Shuttle Pilot\", \"credit_id\": \"52fe48009251416c750aca6b\", \"gender\": 0, \"id\": 1207227, \"name\": \"James Patrick Pitt\", \"order\": 16}, {\"cast_id\": 37, \"character\": \"Shuttle Co-Pilot\", \"credit_id\": \"52fe48009251416c750aca6f\", \"gender\": 0, \"id\": 1180936, \"name\": \"Sean Patrick Murphy\", \"order\": 17}, {\"cast_id\": 38, \"character\": \"Shuttle Crew Chief\", \"credit_id\": \"52fe48009251416c750aca73\", \"gender\": 2, \"id\": 1019578, \"name\": \"Peter Dillon\", \"order\": 18}, {\"cast_id\": 39, \"character\": \"Tractor Operator / Troupe\", \"credit_id\": \"52fe48009251416c750aca77\", \"gender\": 0, \"id\": 91443, \"name\": \"Kevin Dorman\", \"order\": 19}, {\"cast_id\": 40, \"character\": \"Dragon Gunship Pilot\", \"credit_id\": \"52fe48009251416c750aca7b\", \"gender\": 2, \"id\": 173391, \"name\": \"Kelson Henderson\", \"order\": 20}, {\"cast_id\": 41, \"character\": \"Dragon Gunship Gunner\", \"credit_id\": \"52fe48009251416c750aca7f\", \"gender\": 0, \"id\": 1207236, \"name\": \"David Van Horn\", \"order\": 21}, {\"cast_id\": 42, \"character\": \"Dragon Gunship Navigator\", \"credit_id\": \"52fe48009251416c750aca83\", \"gender\": 0, \"id\": 215913, \"name\": \"Jacob Tomuri\", \"order\": 22}, {\"cast_id\": 43, \"character\": \"Suit #1\", \"credit_id\": \"52fe48009251416c750aca87\", \"gender\": 0, \"id\": 143206, \"name\": \"Michael Blain-Rozgay\", \"order\": 23}, {\"cast_id\": 44, \"character\": \"Suit #2\", \"credit_id\": \"52fe48009251416c750aca8b\", \"gender\": 2, \"id\": 169676, \"name\": \"Jon Curry\", \"order\": 24}, {\"cast_id\": 46, \"character\": \"Ambient Room Tech\", \"credit_id\": \"52fe48009251416c750aca8f\", \"gender\": 0, \"id\": 1048610, \"name\": \"Luke Hawker\", \"order\": 25}, {\"cast_id\": 47, \"character\": \"Ambient Room Tech / Troupe\", \"credit_id\": \"52fe48009251416c750aca93\", \"gender\": 0, \"id\": 42288, \"name\": \"Woody Schultz\", \"order\": 26}, {\"cast_id\": 48, \"character\": \"Horse Clan Leader\", \"credit_id\": \"52fe48009251416c750aca97\", \"gender\": 2, \"id\": 68278, \"name\": \"Peter Mensah\", \"order\": 27}, {\"cast_id\": 49, \"character\": \"Link Room Tech\", \"credit_id\": \"52fe48009251416c750aca9b\", \"gender\": 0, \"id\": 1207247, \"name\": \"Sonia Yee\", \"order\": 28}, {\"cast_id\": 50, \"character\": \"Basketball Avatar / Troupe\", \"credit_id\": \"52fe48009251416c750aca9f\", \"gender\": 1, \"id\": 1207248, \"name\": \"Jahnel Curfman\", \"order\": 29}, {\"cast_id\": 51, \"character\": \"Basketball Avatar\", \"credit_id\": \"52fe48009251416c750acaa3\", \"gender\": 0, \"id\": 89714, \"name\": \"Ilram Choi\", \"order\": 30}, {\"cast_id\": 52, \"character\": \"Na\\'vi Child\", \"credit_id\": \"52fe48009251416c750acaa7\", \"gender\": 0, \"id\": 1207249, \"name\": \"Kyla Warren\", \"order\": 31}, {\"cast_id\": 53, \"character\": \"Troupe\", \"credit_id\": \"52fe48009251416c750acaab\", \"gender\": 0, \"id\": 1207250, \"name\": \"Lisa Roumain\", \"order\": 32}, {\"cast_id\": 54, \"character\": \"Troupe\", \"credit_id\": \"52fe48009251416c750acaaf\", \"gender\": 1, \"id\": 83105, \"name\": \"Debra Wilson\", \"order\": 33}, {\"cast_id\": 57, \"character\": \"Troupe\", \"credit_id\": \"52fe48009251416c750acabb\", \"gender\": 0, \"id\": 1207253, \"name\": \"Chris Mala\", \"order\": 34}, {\"cast_id\": 55, \"character\": \"Troupe\", \"credit_id\": \"52fe48009251416c750acab3\", \"gender\": 0, \"id\": 1207251, \"name\": \"Taylor Kibby\", \"order\": 35}, {\"cast_id\": 56, \"character\": \"Troupe\", \"credit_id\": \"52fe48009251416c750acab7\", \"gender\": 0, \"id\": 1207252, \"name\": \"Jodie Landau\", \"order\": 36}, {\"cast_id\": 58, \"character\": \"Troupe\", \"credit_id\": \"52fe48009251416c750acabf\", \"gender\": 0, \"id\": 1207254, \"name\": \"Julie Lamm\", \"order\": 37}, {\"cast_id\": 59, \"character\": \"Troupe\", \"credit_id\": \"52fe48009251416c750acac3\", \"gender\": 0, \"id\": 1207257, \"name\": \"Cullen B. Madden\", \"order\": 38}, {\"cast_id\": 60, \"character\": \"Troupe\", \"credit_id\": \"52fe48009251416c750acac7\", \"gender\": 0, \"id\": 1207259, \"name\": \"Joseph Brady Madden\", \"order\": 39}, {\"cast_id\": 61, \"character\": \"Troupe\", \"credit_id\": \"52fe48009251416c750acacb\", \"gender\": 0, \"id\": 1207262, \"name\": \"Frankie Torres\", \"order\": 40}, {\"cast_id\": 62, \"character\": \"Troupe\", \"credit_id\": \"52fe48009251416c750acacf\", \"gender\": 1, \"id\": 1158600, \"name\": \"Austin Wilson\", \"order\": 41}, {\"cast_id\": 63, \"character\": \"Troupe\", \"credit_id\": \"52fe48019251416c750acad3\", \"gender\": 1, \"id\": 983705, \"name\": \"Sara Wilson\", \"order\": 42}, {\"cast_id\": 64, \"character\": \"Troupe\", \"credit_id\": \"52fe48019251416c750acad7\", \"gender\": 0, \"id\": 1207263, \"name\": \"Tamica Washington-Miller\", \"order\": 43}, {\"cast_id\": 65, \"character\": \"Op Center Staff\", \"credit_id\": \"52fe48019251416c750acadb\", \"gender\": 1, \"id\": 1145098, \"name\": \"Lucy Briant\", \"order\": 44}, {\"cast_id\": 66, \"character\": \"Op Center Staff\", \"credit_id\": \"52fe48019251416c750acadf\", \"gender\": 2, \"id\": 33305, \"name\": \"Nathan Meister\", \"order\": 45}, {\"cast_id\": 67, \"character\": \"Op Center Staff\", \"credit_id\": \"52fe48019251416c750acae3\", \"gender\": 0, \"id\": 1207264, \"name\": \"Gerry Blair\", \"order\": 46}, {\"cast_id\": 68, \"character\": \"Op Center Staff\", \"credit_id\": \"52fe48019251416c750acae7\", \"gender\": 2, \"id\": 33311, \"name\": \"Matthew Chamberlain\", \"order\": 47}, {\"cast_id\": 69, \"character\": \"Op Center Staff\", \"credit_id\": \"52fe48019251416c750acaeb\", \"gender\": 0, \"id\": 1207265, \"name\": \"Paul Yates\", \"order\": 48}, {\"cast_id\": 70, \"character\": \"Op Center Duty Officer\", \"credit_id\": \"52fe48019251416c750acaef\", \"gender\": 0, \"id\": 1207266, \"name\": \"Wray Wilson\", \"order\": 49}, {\"cast_id\": 71, \"character\": \"Op Center Staff\", \"credit_id\": \"52fe48019251416c750acaf3\", \"gender\": 2, \"id\": 54492, \"name\": \"James Gaylyn\", \"order\": 50}, {\"cast_id\": 72, \"character\": \"Dancer\", \"credit_id\": \"52fe48019251416c750acaf7\", \"gender\": 0, \"id\": 1207267, \"name\": \"Melvin Leno Clark III\", \"order\": 51}, {\"cast_id\": 73, \"character\": \"Dancer\", \"credit_id\": \"52fe48019251416c750acafb\", \"gender\": 0, \"id\": 1207268, \"name\": \"Carvon Futrell\", \"order\": 52}, {\"cast_id\": 74, \"character\": \"Dancer\", \"credit_id\": \"52fe48019251416c750acaff\", \"gender\": 0, \"id\": 1207269, \"name\": \"Brandon Jelkes\", \"order\": 53}, {\"cast_id\": 75, \"character\": \"Dancer\", \"credit_id\": \"52fe48019251416c750acb03\", \"gender\": 0, \"id\": 1207270, \"name\": \"Micah Moch\", \"order\": 54}, {\"cast_id\": 76, \"character\": \"Dancer\", \"credit_id\": \"52fe48019251416c750acb07\", \"gender\": 0, \"id\": 1207271, \"name\": \"Hanniyah Muhammad\", \"order\": 55}, {\"cast_id\": 77, \"character\": \"Dancer\", \"credit_id\": \"52fe48019251416c750acb0b\", \"gender\": 0, \"id\": 1207272, \"name\": \"Christopher Nolen\", \"order\": 56}, {\"cast_id\": 78, \"character\": \"Dancer\", \"credit_id\": \"52fe48019251416c750acb0f\", \"gender\": 0, \"id\": 1207273, \"name\": \"Christa Oliver\", \"order\": 57}, {\"cast_id\": 79, \"character\": \"Dancer\", \"credit_id\": \"52fe48019251416c750acb13\", \"gender\": 0, \"id\": 1207274, \"name\": \"April Marie Thomas\", \"order\": 58}, {\"cast_id\": 80, \"character\": \"Dancer\", \"credit_id\": \"52fe48019251416c750acb17\", \"gender\": 0, \"id\": 1207275, \"name\": \"Bravita A. Threatt\", \"order\": 59}, {\"cast_id\": 81, \"character\": \"Mining Chief (uncredited)\", \"credit_id\": \"52fe48019251416c750acb1b\", \"gender\": 0, \"id\": 1207276, \"name\": \"Colin Bleasdale\", \"order\": 60}, {\"cast_id\": 82, \"character\": \"Veteran Miner (uncredited)\", \"credit_id\": \"52fe48019251416c750acb1f\", \"gender\": 0, \"id\": 107969, \"name\": \"Mike Bodnar\", \"order\": 61}, {\"cast_id\": 83, \"character\": \"Richard (uncredited)\", \"credit_id\": \"52fe48019251416c750acb23\", \"gender\": 0, \"id\": 1207278, \"name\": \"Matt Clayton\", \"order\": 62}, {\"cast_id\": 84, \"character\": \"Nav\\'i (uncredited)\", \"credit_id\": \"52fe48019251416c750acb27\", \"gender\": 1, \"id\": 147898, \"name\": \"Nicole Dionne\", \"order\": 63}, {\"cast_id\": 85, \"character\": \"Trooper (uncredited)\", \"credit_id\": \"52fe48019251416c750acb2b\", \"gender\": 0, \"id\": 1207280, \"name\": \"Jamie Harrison\", \"order\": 64}, {\"cast_id\": 86, \"character\": \"Trooper (uncredited)\", \"credit_id\": \"52fe48019251416c750acb2f\", \"gender\": 0, \"id\": 1207281, \"name\": \"Allan Henry\", \"order\": 65}, {\"cast_id\": 87, \"character\": \"Ground Technician (uncredited)\", \"credit_id\": \"52fe48019251416c750acb33\", \"gender\": 2, \"id\": 1207282, \"name\": \"Anthony Ingruber\", \"order\": 66}, {\"cast_id\": 88, \"character\": \"Flight Crew Mechanic (uncredited)\", \"credit_id\": \"52fe48019251416c750acb37\", \"gender\": 0, \"id\": 1207283, \"name\": \"Ashley Jeffery\", \"order\": 67}, {\"cast_id\": 14, \"character\": \"Samson Pilot\", \"credit_id\": \"52fe48009251416c750ac9f9\", \"gender\": 0, \"id\": 98216, \"name\": \"Dean Knowsley\", \"order\": 68}, {\"cast_id\": 89, \"character\": \"Trooper (uncredited)\", \"credit_id\": \"52fe48019251416c750acb3b\", \"gender\": 0, \"id\": 1201399, \"name\": \"Joseph Mika-Hunt\", \"order\": 69}, {\"cast_id\": 90, \"character\": \"Banshee (uncredited)\", \"credit_id\": \"52fe48019251416c750acb3f\", \"gender\": 0, \"id\": 236696, \"name\": \"Terry Notary\", \"order\": 70}, {\"cast_id\": 91, \"character\": \"Soldier (uncredited)\", \"credit_id\": \"52fe48019251416c750acb43\", \"gender\": 0, \"id\": 1207287, \"name\": \"Kai Pantano\", \"order\": 71}, {\"cast_id\": 92, \"character\": \"Blast Technician (uncredited)\", \"credit_id\": \"52fe48019251416c750acb47\", \"gender\": 0, \"id\": 1207288, \"name\": \"Logan Pithyou\", \"order\": 72}, {\"cast_id\": 93, \"character\": \"Vindum Raah (uncredited)\", \"credit_id\": \"52fe48019251416c750acb4b\", \"gender\": 0, \"id\": 1207289, \"name\": \"Stuart Pollock\", \"order\": 73}, {\"cast_id\": 94, \"character\": \"Hero (uncredited)\", \"credit_id\": \"52fe48019251416c750acb4f\", \"gender\": 0, \"id\": 584868, \"name\": \"Raja\", \"order\": 74}, {\"cast_id\": 95, \"character\": \"Ops Centreworker (uncredited)\", \"credit_id\": \"52fe48019251416c750acb53\", \"gender\": 0, \"id\": 1207290, \"name\": \"Gareth Ruck\", \"order\": 75}, {\"cast_id\": 96, \"character\": \"Engineer (uncredited)\", \"credit_id\": \"52fe48019251416c750acb57\", \"gender\": 0, \"id\": 1062463, \"name\": \"Rhian Sheehan\", \"order\": 76}, {\"cast_id\": 97, \"character\": \"Col. Quaritch\\'s Mech Suit (uncredited)\", \"credit_id\": \"52fe48019251416c750acb5b\", \"gender\": 0, \"id\": 60656, \"name\": \"T. J. Storm\", \"order\": 77}, {\"cast_id\": 98, \"character\": \"Female Marine (uncredited)\", \"credit_id\": \"52fe48019251416c750acb5f\", \"gender\": 0, \"id\": 1207291, \"name\": \"Jodie Taylor\", \"order\": 78}, {\"cast_id\": 99, \"character\": \"Ikran Clan Leader (uncredited)\", \"credit_id\": \"52fe48019251416c750acb63\", \"gender\": 1, \"id\": 1186027, \"name\": \"Alicia Vela-Bailey\", \"order\": 79}, {\"cast_id\": 100, \"character\": \"Geologist (uncredited)\", \"credit_id\": \"52fe48019251416c750acb67\", \"gender\": 0, \"id\": 1207292, \"name\": \"Richard Whiteside\", \"order\": 80}, {\"cast_id\": 101, \"character\": \"Na\\'vi (uncredited)\", \"credit_id\": \"52fe48019251416c750acb6b\", \"gender\": 0, \"id\": 103259, \"name\": \"Nikie Zambo\", \"order\": 81}, {\"cast_id\": 102, \"character\": \"Ambient Room Tech / Troupe\", \"credit_id\": \"52fe48019251416c750acb6f\", \"gender\": 1, \"id\": 42286, \"name\": \"Julene Renee\", \"order\": 82}]'],\n",
       "      dtype=object)"
      ]
     },
     "execution_count": 9,
     "metadata": {},
     "output_type": "execute_result"
    }
   ],
   "source": [
    "credit.head(1)[\"cast\"].values"
   ]
  },
  {
   "cell_type": "code",
   "execution_count": 10,
   "id": "be56be81",
   "metadata": {},
   "outputs": [
    {
     "data": {
      "text/plain": [
       "array(['[{\"credit_id\": \"52fe48009251416c750aca23\", \"department\": \"Editing\", \"gender\": 0, \"id\": 1721, \"job\": \"Editor\", \"name\": \"Stephen E. Rivkin\"}, {\"credit_id\": \"539c47ecc3a36810e3001f87\", \"department\": \"Art\", \"gender\": 2, \"id\": 496, \"job\": \"Production Design\", \"name\": \"Rick Carter\"}, {\"credit_id\": \"54491c89c3a3680fb4001cf7\", \"department\": \"Sound\", \"gender\": 0, \"id\": 900, \"job\": \"Sound Designer\", \"name\": \"Christopher Boyes\"}, {\"credit_id\": \"54491cb70e0a267480001bd0\", \"department\": \"Sound\", \"gender\": 0, \"id\": 900, \"job\": \"Supervising Sound Editor\", \"name\": \"Christopher Boyes\"}, {\"credit_id\": \"539c4a4cc3a36810c9002101\", \"department\": \"Production\", \"gender\": 1, \"id\": 1262, \"job\": \"Casting\", \"name\": \"Mali Finn\"}, {\"credit_id\": \"5544ee3b925141499f0008fc\", \"department\": \"Sound\", \"gender\": 2, \"id\": 1729, \"job\": \"Original Music Composer\", \"name\": \"James Horner\"}, {\"credit_id\": \"52fe48009251416c750ac9c3\", \"department\": \"Directing\", \"gender\": 2, \"id\": 2710, \"job\": \"Director\", \"name\": \"James Cameron\"}, {\"credit_id\": \"52fe48009251416c750ac9d9\", \"department\": \"Writing\", \"gender\": 2, \"id\": 2710, \"job\": \"Writer\", \"name\": \"James Cameron\"}, {\"credit_id\": \"52fe48009251416c750aca17\", \"department\": \"Editing\", \"gender\": 2, \"id\": 2710, \"job\": \"Editor\", \"name\": \"James Cameron\"}, {\"credit_id\": \"52fe48009251416c750aca29\", \"department\": \"Production\", \"gender\": 2, \"id\": 2710, \"job\": \"Producer\", \"name\": \"James Cameron\"}, {\"credit_id\": \"52fe48009251416c750aca3f\", \"department\": \"Writing\", \"gender\": 2, \"id\": 2710, \"job\": \"Screenplay\", \"name\": \"James Cameron\"}, {\"credit_id\": \"539c4987c3a36810ba0021a4\", \"department\": \"Art\", \"gender\": 2, \"id\": 7236, \"job\": \"Art Direction\", \"name\": \"Andrew Menzies\"}, {\"credit_id\": \"549598c3c3a3686ae9004383\", \"department\": \"Visual Effects\", \"gender\": 0, \"id\": 6690, \"job\": \"Visual Effects Producer\", \"name\": \"Jill Brooks\"}, {\"credit_id\": \"52fe48009251416c750aca4b\", \"department\": \"Production\", \"gender\": 1, \"id\": 6347, \"job\": \"Casting\", \"name\": \"Margery Simkin\"}, {\"credit_id\": \"570b6f419251417da70032fe\", \"department\": \"Art\", \"gender\": 2, \"id\": 6878, \"job\": \"Supervising Art Director\", \"name\": \"Kevin Ishioka\"}, {\"credit_id\": \"5495a0fac3a3686ae9004468\", \"department\": \"Sound\", \"gender\": 0, \"id\": 6883, \"job\": \"Music Editor\", \"name\": \"Dick Bernstein\"}, {\"credit_id\": \"54959706c3a3686af3003e81\", \"department\": \"Sound\", \"gender\": 0, \"id\": 8159, \"job\": \"Sound Effects Editor\", \"name\": \"Shannon Mills\"}, {\"credit_id\": \"54491d58c3a3680fb1001ccb\", \"department\": \"Sound\", \"gender\": 0, \"id\": 8160, \"job\": \"Foley\", \"name\": \"Dennie Thorpe\"}, {\"credit_id\": \"54491d6cc3a3680fa5001b2c\", \"department\": \"Sound\", \"gender\": 0, \"id\": 8163, \"job\": \"Foley\", \"name\": \"Jana Vance\"}, {\"credit_id\": \"52fe48009251416c750aca57\", \"department\": \"Costume & Make-Up\", \"gender\": 1, \"id\": 8527, \"job\": \"Costume Design\", \"name\": \"Deborah Lynn Scott\"}, {\"credit_id\": \"52fe48009251416c750aca2f\", \"department\": \"Production\", \"gender\": 2, \"id\": 8529, \"job\": \"Producer\", \"name\": \"Jon Landau\"}, {\"credit_id\": \"539c4937c3a36810ba002194\", \"department\": \"Art\", \"gender\": 0, \"id\": 9618, \"job\": \"Art Direction\", \"name\": \"Sean Haworth\"}, {\"credit_id\": \"539c49b6c3a36810c10020e6\", \"department\": \"Art\", \"gender\": 1, \"id\": 12653, \"job\": \"Set Decoration\", \"name\": \"Kim Sinclair\"}, {\"credit_id\": \"570b6f2f9251413a0e00020d\", \"department\": \"Art\", \"gender\": 1, \"id\": 12653, \"job\": \"Supervising Art Director\", \"name\": \"Kim Sinclair\"}, {\"credit_id\": \"54491a6c0e0a26748c001b19\", \"department\": \"Art\", \"gender\": 2, \"id\": 14350, \"job\": \"Set Designer\", \"name\": \"Richard F. Mays\"}, {\"credit_id\": \"56928cf4c3a3684cff0025c4\", \"department\": \"Production\", \"gender\": 1, \"id\": 20294, \"job\": \"Executive Producer\", \"name\": \"Laeta Kalogridis\"}, {\"credit_id\": \"52fe48009251416c750aca51\", \"department\": \"Costume & Make-Up\", \"gender\": 0, \"id\": 17675, \"job\": \"Costume Design\", \"name\": \"Mayes C. Rubeo\"}, {\"credit_id\": \"52fe48009251416c750aca11\", \"department\": \"Camera\", \"gender\": 2, \"id\": 18265, \"job\": \"Director of Photography\", \"name\": \"Mauro Fiore\"}, {\"credit_id\": \"5449194d0e0a26748f001b39\", \"department\": \"Art\", \"gender\": 0, \"id\": 42281, \"job\": \"Set Designer\", \"name\": \"Scott Herbertson\"}, {\"credit_id\": \"52fe48009251416c750aca05\", \"department\": \"Crew\", \"gender\": 0, \"id\": 42288, \"job\": \"Stunts\", \"name\": \"Woody Schultz\"}, {\"credit_id\": \"5592aefb92514152de0010f5\", \"department\": \"Costume & Make-Up\", \"gender\": 0, \"id\": 29067, \"job\": \"Makeup Artist\", \"name\": \"Linda DeVetta\"}, {\"credit_id\": \"5592afa492514152de00112c\", \"department\": \"Costume & Make-Up\", \"gender\": 0, \"id\": 29067, \"job\": \"Hairstylist\", \"name\": \"Linda DeVetta\"}, {\"credit_id\": \"54959ed592514130fc002e5d\", \"department\": \"Camera\", \"gender\": 2, \"id\": 33302, \"job\": \"Camera Operator\", \"name\": \"Richard Bluck\"}, {\"credit_id\": \"539c4891c3a36810ba002147\", \"department\": \"Art\", \"gender\": 2, \"id\": 33303, \"job\": \"Art Direction\", \"name\": \"Simon Bright\"}, {\"credit_id\": \"54959c069251417a81001f3a\", \"department\": \"Visual Effects\", \"gender\": 0, \"id\": 113145, \"job\": \"Visual Effects Supervisor\", \"name\": \"Richard Martin\"}, {\"credit_id\": \"54959a0dc3a3680ff5002c8d\", \"department\": \"Crew\", \"gender\": 2, \"id\": 58188, \"job\": \"Visual Effects Editor\", \"name\": \"Steve R. Moore\"}, {\"credit_id\": \"52fe48009251416c750aca1d\", \"department\": \"Editing\", \"gender\": 2, \"id\": 58871, \"job\": \"Editor\", \"name\": \"John Refoua\"}, {\"credit_id\": \"54491a4dc3a3680fc30018ca\", \"department\": \"Art\", \"gender\": 0, \"id\": 92359, \"job\": \"Set Designer\", \"name\": \"Karl J. Martin\"}, {\"credit_id\": \"52fe48009251416c750aca35\", \"department\": \"Camera\", \"gender\": 1, \"id\": 72201, \"job\": \"Director of Photography\", \"name\": \"Chiling Lin\"}, {\"credit_id\": \"52fe48009251416c750ac9ff\", \"department\": \"Crew\", \"gender\": 0, \"id\": 89714, \"job\": \"Stunts\", \"name\": \"Ilram Choi\"}, {\"credit_id\": \"54959c529251416e2b004394\", \"department\": \"Visual Effects\", \"gender\": 2, \"id\": 93214, \"job\": \"Visual Effects Supervisor\", \"name\": \"Steven Quale\"}, {\"credit_id\": \"54491edf0e0a267489001c37\", \"department\": \"Crew\", \"gender\": 1, \"id\": 122607, \"job\": \"Dialect Coach\", \"name\": \"Carla Meyer\"}, {\"credit_id\": \"539c485bc3a368653d001a3a\", \"department\": \"Art\", \"gender\": 2, \"id\": 132585, \"job\": \"Art Direction\", \"name\": \"Nick Bassett\"}, {\"credit_id\": \"539c4903c3a368653d001a74\", \"department\": \"Art\", \"gender\": 0, \"id\": 132596, \"job\": \"Art Direction\", \"name\": \"Jill Cormack\"}, {\"credit_id\": \"539c4967c3a368653d001a94\", \"department\": \"Art\", \"gender\": 0, \"id\": 132604, \"job\": \"Art Direction\", \"name\": \"Andy McLaren\"}, {\"credit_id\": \"52fe48009251416c750aca45\", \"department\": \"Crew\", \"gender\": 0, \"id\": 236696, \"job\": \"Motion Capture Artist\", \"name\": \"Terry Notary\"}, {\"credit_id\": \"54959e02c3a3680fc60027d2\", \"department\": \"Crew\", \"gender\": 2, \"id\": 956198, \"job\": \"Stunt Coordinator\", \"name\": \"Garrett Warren\"}, {\"credit_id\": \"54959ca3c3a3686ae300438c\", \"department\": \"Visual Effects\", \"gender\": 2, \"id\": 957874, \"job\": \"Visual Effects Supervisor\", \"name\": \"Jonathan Rothbart\"}, {\"credit_id\": \"570b6f519251412c74001b2f\", \"department\": \"Art\", \"gender\": 0, \"id\": 957889, \"job\": \"Supervising Art Director\", \"name\": \"Stefan Dechant\"}, {\"credit_id\": \"570b6f62c3a3680b77007460\", \"department\": \"Art\", \"gender\": 2, \"id\": 959555, \"job\": \"Supervising Art Director\", \"name\": \"Todd Cherniawsky\"}, {\"credit_id\": \"539c4a3ac3a36810da0021cc\", \"department\": \"Production\", \"gender\": 0, \"id\": 1016177, \"job\": \"Casting\", \"name\": \"Miranda Rivers\"}, {\"credit_id\": \"539c482cc3a36810c1002062\", \"department\": \"Art\", \"gender\": 0, \"id\": 1032536, \"job\": \"Production Design\", \"name\": \"Robert Stromberg\"}, {\"credit_id\": \"539c4b65c3a36810c9002125\", \"department\": \"Costume & Make-Up\", \"gender\": 2, \"id\": 1071680, \"job\": \"Costume Design\", \"name\": \"John Harding\"}, {\"credit_id\": \"54959e6692514130fc002e4e\", \"department\": \"Camera\", \"gender\": 0, \"id\": 1177364, \"job\": \"Steadicam Operator\", \"name\": \"Roberto De Angelis\"}, {\"credit_id\": \"539c49f1c3a368653d001aac\", \"department\": \"Costume & Make-Up\", \"gender\": 2, \"id\": 1202850, \"job\": \"Makeup Department Head\", \"name\": \"Mike Smithson\"}, {\"credit_id\": \"5495999ec3a3686ae100460c\", \"department\": \"Visual Effects\", \"gender\": 0, \"id\": 1204668, \"job\": \"Visual Effects Producer\", \"name\": \"Alain Lalanne\"}, {\"credit_id\": \"54959cdfc3a3681153002729\", \"department\": \"Visual Effects\", \"gender\": 0, \"id\": 1206410, \"job\": \"Visual Effects Supervisor\", \"name\": \"Lucas Salton\"}, {\"credit_id\": \"549596239251417a81001eae\", \"department\": \"Crew\", \"gender\": 0, \"id\": 1234266, \"job\": \"Post Production Supervisor\", \"name\": \"Janace Tashjian\"}, {\"credit_id\": \"54959c859251416e1e003efe\", \"department\": \"Visual Effects\", \"gender\": 0, \"id\": 1271932, \"job\": \"Visual Effects Supervisor\", \"name\": \"Stephen Rosenbaum\"}, {\"credit_id\": \"5592af28c3a368775a00105f\", \"department\": \"Costume & Make-Up\", \"gender\": 0, \"id\": 1310064, \"job\": \"Makeup Artist\", \"name\": \"Frankie Karena\"}, {\"credit_id\": \"539c4adfc3a36810e300203b\", \"department\": \"Costume & Make-Up\", \"gender\": 1, \"id\": 1319844, \"job\": \"Costume Supervisor\", \"name\": \"Lisa Lovaas\"}, {\"credit_id\": \"54959b579251416e2b004371\", \"department\": \"Visual Effects\", \"gender\": 0, \"id\": 1327028, \"job\": \"Visual Effects Supervisor\", \"name\": \"Jonathan Fawkner\"}, {\"credit_id\": \"539c48a7c3a36810b5001fa7\", \"department\": \"Art\", \"gender\": 0, \"id\": 1330561, \"job\": \"Art Direction\", \"name\": \"Robert Bavin\"}, {\"credit_id\": \"539c4a71c3a36810da0021e0\", \"department\": \"Costume & Make-Up\", \"gender\": 0, \"id\": 1330567, \"job\": \"Costume Supervisor\", \"name\": \"Anthony Almaraz\"}, {\"credit_id\": \"539c4a8ac3a36810ba0021e4\", \"department\": \"Costume & Make-Up\", \"gender\": 0, \"id\": 1330570, \"job\": \"Costume Supervisor\", \"name\": \"Carolyn M. Fenton\"}, {\"credit_id\": \"539c4ab6c3a36810da0021f0\", \"department\": \"Costume & Make-Up\", \"gender\": 0, \"id\": 1330574, \"job\": \"Costume Supervisor\", \"name\": \"Beth Koenigsberg\"}, {\"credit_id\": \"54491ab70e0a267480001ba2\", \"department\": \"Art\", \"gender\": 0, \"id\": 1336191, \"job\": \"Set Designer\", \"name\": \"Sam Page\"}, {\"credit_id\": \"544919d9c3a3680fc30018bd\", \"department\": \"Art\", \"gender\": 0, \"id\": 1339441, \"job\": \"Set Designer\", \"name\": \"Tex Kadonaga\"}, {\"credit_id\": \"54491cf50e0a267483001b0c\", \"department\": \"Editing\", \"gender\": 0, \"id\": 1352422, \"job\": \"Dialogue Editor\", \"name\": \"Kim Foscato\"}, {\"credit_id\": \"544919f40e0a26748c001b09\", \"department\": \"Art\", \"gender\": 0, \"id\": 1352962, \"job\": \"Set Designer\", \"name\": \"Tammy S. Lee\"}, {\"credit_id\": \"5495a115c3a3680ff5002d71\", \"department\": \"Crew\", \"gender\": 0, \"id\": 1357070, \"job\": \"Transportation Coordinator\", \"name\": \"Denny Caira\"}, {\"credit_id\": \"5495a12f92514130fc002e94\", \"department\": \"Crew\", \"gender\": 0, \"id\": 1357071, \"job\": \"Transportation Coordinator\", \"name\": \"James Waitkus\"}, {\"credit_id\": \"5495976fc3a36811530026b0\", \"department\": \"Sound\", \"gender\": 0, \"id\": 1360103, \"job\": \"Supervising Sound Editor\", \"name\": \"Addison Teague\"}, {\"credit_id\": \"54491837c3a3680fb1001c5a\", \"department\": \"Art\", \"gender\": 2, \"id\": 1376887, \"job\": \"Set Designer\", \"name\": \"C. Scott Baker\"}, {\"credit_id\": \"54491878c3a3680fb4001c9d\", \"department\": \"Art\", \"gender\": 0, \"id\": 1376888, \"job\": \"Set Designer\", \"name\": \"Luke Caska\"}, {\"credit_id\": \"544918dac3a3680fa5001ae0\", \"department\": \"Art\", \"gender\": 0, \"id\": 1376889, \"job\": \"Set Designer\", \"name\": \"David Chow\"}, {\"credit_id\": \"544919110e0a267486001b68\", \"department\": \"Art\", \"gender\": 0, \"id\": 1376890, \"job\": \"Set Designer\", \"name\": \"Jonathan Dyer\"}, {\"credit_id\": \"54491967c3a3680faa001b5e\", \"department\": \"Art\", \"gender\": 0, \"id\": 1376891, \"job\": \"Set Designer\", \"name\": \"Joseph Hiura\"}, {\"credit_id\": \"54491997c3a3680fb1001c8a\", \"department\": \"Art\", \"gender\": 0, \"id\": 1376892, \"job\": \"Art Department Coordinator\", \"name\": \"Rebecca Jellie\"}, {\"credit_id\": \"544919ba0e0a26748f001b42\", \"department\": \"Art\", \"gender\": 0, \"id\": 1376893, \"job\": \"Set Designer\", \"name\": \"Robert Andrew Johnson\"}, {\"credit_id\": \"54491b1dc3a3680faa001b8c\", \"department\": \"Art\", \"gender\": 0, \"id\": 1376895, \"job\": \"Assistant Art Director\", \"name\": \"Mike Stassi\"}, {\"credit_id\": \"54491b79c3a3680fbb001826\", \"department\": \"Art\", \"gender\": 0, \"id\": 1376897, \"job\": \"Construction Coordinator\", \"name\": \"John Villarino\"}, {\"credit_id\": \"54491baec3a3680fb4001ce6\", \"department\": \"Art\", \"gender\": 2, \"id\": 1376898, \"job\": \"Assistant Art Director\", \"name\": \"Jeffrey Wisniewski\"}, {\"credit_id\": \"54491d2fc3a3680fb4001d07\", \"department\": \"Editing\", \"gender\": 0, \"id\": 1376899, \"job\": \"Dialogue Editor\", \"name\": \"Cheryl Nardi\"}, {\"credit_id\": \"54491d86c3a3680fa5001b2f\", \"department\": \"Editing\", \"gender\": 0, \"id\": 1376901, \"job\": \"Dialogue Editor\", \"name\": \"Marshall Winn\"}, {\"credit_id\": \"54491d9dc3a3680faa001bb0\", \"department\": \"Sound\", \"gender\": 0, \"id\": 1376902, \"job\": \"Supervising Sound Editor\", \"name\": \"Gwendolyn Yates Whittle\"}, {\"credit_id\": \"54491dc10e0a267486001bce\", \"department\": \"Sound\", \"gender\": 0, \"id\": 1376903, \"job\": \"Sound Re-Recording Mixer\", \"name\": \"William Stein\"}, {\"credit_id\": \"54491f500e0a26747c001c07\", \"department\": \"Crew\", \"gender\": 0, \"id\": 1376909, \"job\": \"Choreographer\", \"name\": \"Lula Washington\"}, {\"credit_id\": \"549599239251412c4e002a2e\", \"department\": \"Visual Effects\", \"gender\": 0, \"id\": 1391692, \"job\": \"Visual Effects Producer\", \"name\": \"Chris Del Conte\"}, {\"credit_id\": \"54959d54c3a36831b8001d9a\", \"department\": \"Visual Effects\", \"gender\": 2, \"id\": 1391695, \"job\": \"Visual Effects Supervisor\", \"name\": \"R. Christopher White\"}, {\"credit_id\": \"54959bdf9251412c4e002a66\", \"department\": \"Visual Effects\", \"gender\": 0, \"id\": 1394070, \"job\": \"Visual Effects Supervisor\", \"name\": \"Dan Lemmon\"}, {\"credit_id\": \"5495971d92514132ed002922\", \"department\": \"Sound\", \"gender\": 0, \"id\": 1394129, \"job\": \"Sound Effects Editor\", \"name\": \"Tim Nielsen\"}, {\"credit_id\": \"5592b25792514152cc0011aa\", \"department\": \"Crew\", \"gender\": 0, \"id\": 1394286, \"job\": \"CG Supervisor\", \"name\": \"Michael Mulholland\"}, {\"credit_id\": \"54959a329251416e2b004355\", \"department\": \"Crew\", \"gender\": 0, \"id\": 1394750, \"job\": \"Visual Effects Editor\", \"name\": \"Thomas Nittmann\"}, {\"credit_id\": \"54959d6dc3a3686ae9004401\", \"department\": \"Visual Effects\", \"gender\": 0, \"id\": 1394755, \"job\": \"Visual Effects Supervisor\", \"name\": \"Edson Williams\"}, {\"credit_id\": \"5495a08fc3a3686ae300441c\", \"department\": \"Editing\", \"gender\": 0, \"id\": 1394953, \"job\": \"Digital Intermediate\", \"name\": \"Christine Carr\"}, {\"credit_id\": \"55402d659251413d6d000249\", \"department\": \"Visual Effects\", \"gender\": 0, \"id\": 1395269, \"job\": \"Visual Effects Supervisor\", \"name\": \"John Bruno\"}, {\"credit_id\": \"54959e7b9251416e1e003f3e\", \"department\": \"Camera\", \"gender\": 0, \"id\": 1398970, \"job\": \"Steadicam Operator\", \"name\": \"David Emmerichs\"}, {\"credit_id\": \"54959734c3a3686ae10045e0\", \"department\": \"Sound\", \"gender\": 0, \"id\": 1400906, \"job\": \"Sound Effects Editor\", \"name\": \"Christopher Scarabosio\"}, {\"credit_id\": \"549595dd92514130fc002d79\", \"department\": \"Production\", \"gender\": 0, \"id\": 1401784, \"job\": \"Production Supervisor\", \"name\": \"Jennifer Teves\"}, {\"credit_id\": \"549596009251413af70028cc\", \"department\": \"Production\", \"gender\": 0, \"id\": 1401785, \"job\": \"Production Manager\", \"name\": \"Brigitte Yorke\"}, {\"credit_id\": \"549596e892514130fc002d99\", \"department\": \"Sound\", \"gender\": 0, \"id\": 1401786, \"job\": \"Sound Effects Editor\", \"name\": \"Ken Fischer\"}, {\"credit_id\": \"549598229251412c4e002a1c\", \"department\": \"Crew\", \"gender\": 0, \"id\": 1401787, \"job\": \"Special Effects Coordinator\", \"name\": \"Iain Hutton\"}, {\"credit_id\": \"549598349251416e2b00432b\", \"department\": \"Crew\", \"gender\": 0, \"id\": 1401788, \"job\": \"Special Effects Coordinator\", \"name\": \"Steve Ingram\"}, {\"credit_id\": \"54959905c3a3686ae3004324\", \"department\": \"Visual Effects\", \"gender\": 0, \"id\": 1401789, \"job\": \"Visual Effects Producer\", \"name\": \"Joyce Cox\"}, {\"credit_id\": \"5495994b92514132ed002951\", \"department\": \"Visual Effects\", \"gender\": 0, \"id\": 1401790, \"job\": \"Visual Effects Producer\", \"name\": \"Jenny Foster\"}, {\"credit_id\": \"549599cbc3a3686ae1004613\", \"department\": \"Crew\", \"gender\": 0, \"id\": 1401791, \"job\": \"Visual Effects Editor\", \"name\": \"Christopher Marino\"}, {\"credit_id\": \"549599f2c3a3686ae100461e\", \"department\": \"Crew\", \"gender\": 0, \"id\": 1401792, \"job\": \"Visual Effects Editor\", \"name\": \"Jim Milton\"}, {\"credit_id\": \"54959a51c3a3686af3003eb5\", \"department\": \"Visual Effects\", \"gender\": 0, \"id\": 1401793, \"job\": \"Visual Effects Producer\", \"name\": \"Cyndi Ochs\"}, {\"credit_id\": \"54959a7cc3a36811530026f4\", \"department\": \"Crew\", \"gender\": 0, \"id\": 1401794, \"job\": \"Visual Effects Editor\", \"name\": \"Lucas Putnam\"}, {\"credit_id\": \"54959b91c3a3680ff5002cb4\", \"department\": \"Visual Effects\", \"gender\": 0, \"id\": 1401795, \"job\": \"Visual Effects Supervisor\", \"name\": \"Anthony \\'Max\\' Ivins\"}, {\"credit_id\": \"54959bb69251412c4e002a5f\", \"department\": \"Visual Effects\", \"gender\": 0, \"id\": 1401796, \"job\": \"Visual Effects Supervisor\", \"name\": \"John Knoll\"}, {\"credit_id\": \"54959cbbc3a3686ae3004391\", \"department\": \"Visual Effects\", \"gender\": 2, \"id\": 1401799, \"job\": \"Visual Effects Supervisor\", \"name\": \"Eric Saindon\"}, {\"credit_id\": \"54959d06c3a3686ae90043f6\", \"department\": \"Visual Effects\", \"gender\": 0, \"id\": 1401800, \"job\": \"Visual Effects Supervisor\", \"name\": \"Wayne Stables\"}, {\"credit_id\": \"54959d259251416e1e003f11\", \"department\": \"Visual Effects\", \"gender\": 0, \"id\": 1401801, \"job\": \"Visual Effects Supervisor\", \"name\": \"David Stinnett\"}, {\"credit_id\": \"54959db49251413af7002975\", \"department\": \"Visual Effects\", \"gender\": 0, \"id\": 1401803, \"job\": \"Visual Effects Supervisor\", \"name\": \"Guy Williams\"}, {\"credit_id\": \"54959de4c3a3681153002750\", \"department\": \"Crew\", \"gender\": 0, \"id\": 1401804, \"job\": \"Stunt Coordinator\", \"name\": \"Stuart Thorp\"}, {\"credit_id\": \"54959ef2c3a3680fc60027f2\", \"department\": \"Lighting\", \"gender\": 0, \"id\": 1401805, \"job\": \"Best Boy Electric\", \"name\": \"Giles Coburn\"}, {\"credit_id\": \"54959f07c3a3680fc60027f9\", \"department\": \"Camera\", \"gender\": 2, \"id\": 1401806, \"job\": \"Still Photographer\", \"name\": \"Mark Fellman\"}, {\"credit_id\": \"54959f47c3a3681153002774\", \"department\": \"Lighting\", \"gender\": 0, \"id\": 1401807, \"job\": \"Lighting Technician\", \"name\": \"Scott Sprague\"}, {\"credit_id\": \"54959f8cc3a36831b8001df2\", \"department\": \"Visual Effects\", \"gender\": 0, \"id\": 1401808, \"job\": \"Animation Director\", \"name\": \"Jeremy Hollobon\"}, {\"credit_id\": \"54959fa0c3a36831b8001dfb\", \"department\": \"Visual Effects\", \"gender\": 0, \"id\": 1401809, \"job\": \"Animation Director\", \"name\": \"Orlando Meunier\"}, {\"credit_id\": \"54959fb6c3a3686af3003f54\", \"department\": \"Visual Effects\", \"gender\": 0, \"id\": 1401810, \"job\": \"Animation Director\", \"name\": \"Taisuke Tanimura\"}, {\"credit_id\": \"54959fd2c3a36831b8001e02\", \"department\": \"Costume & Make-Up\", \"gender\": 0, \"id\": 1401812, \"job\": \"Set Costumer\", \"name\": \"Lilia Mishel Acevedo\"}, {\"credit_id\": \"54959ff9c3a3686ae300440c\", \"department\": \"Costume & Make-Up\", \"gender\": 0, \"id\": 1401814, \"job\": \"Set Costumer\", \"name\": \"Alejandro M. Hernandez\"}, {\"credit_id\": \"5495a0ddc3a3686ae10046fe\", \"department\": \"Editing\", \"gender\": 0, \"id\": 1401815, \"job\": \"Digital Intermediate\", \"name\": \"Marvin Hall\"}, {\"credit_id\": \"5495a1f7c3a3686ae3004443\", \"department\": \"Production\", \"gender\": 0, \"id\": 1401816, \"job\": \"Publicist\", \"name\": \"Judy Alley\"}, {\"credit_id\": \"5592b29fc3a36869d100002f\", \"department\": \"Crew\", \"gender\": 0, \"id\": 1418381, \"job\": \"CG Supervisor\", \"name\": \"Mike Perry\"}, {\"credit_id\": \"5592b23a9251415df8001081\", \"department\": \"Crew\", \"gender\": 0, \"id\": 1426854, \"job\": \"CG Supervisor\", \"name\": \"Andrew Morley\"}, {\"credit_id\": \"55491e1192514104c40002d8\", \"department\": \"Art\", \"gender\": 0, \"id\": 1438901, \"job\": \"Conceptual Design\", \"name\": \"Seth Engstrom\"}, {\"credit_id\": \"5525d5809251417276002b06\", \"department\": \"Crew\", \"gender\": 0, \"id\": 1447362, \"job\": \"Visual Effects Art Director\", \"name\": \"Eric Oliver\"}, {\"credit_id\": \"554427ca925141586500312a\", \"department\": \"Visual Effects\", \"gender\": 0, \"id\": 1447503, \"job\": \"Modeling\", \"name\": \"Matsune Suzuki\"}, {\"credit_id\": \"551906889251415aab001c88\", \"department\": \"Art\", \"gender\": 0, \"id\": 1447524, \"job\": \"Art Department Manager\", \"name\": \"Paul Tobin\"}, {\"credit_id\": \"5592af8492514152cc0010de\", \"department\": \"Costume & Make-Up\", \"gender\": 0, \"id\": 1452643, \"job\": \"Hairstylist\", \"name\": \"Roxane Griffin\"}, {\"credit_id\": \"553d3c109251415852001318\", \"department\": \"Lighting\", \"gender\": 0, \"id\": 1453938, \"job\": \"Lighting Artist\", \"name\": \"Arun Ram-Mohan\"}, {\"credit_id\": \"5592af4692514152d5001355\", \"department\": \"Costume & Make-Up\", \"gender\": 0, \"id\": 1457305, \"job\": \"Makeup Artist\", \"name\": \"Georgia Lockhart-Adams\"}, {\"credit_id\": \"5592b2eac3a36877470012a5\", \"department\": \"Crew\", \"gender\": 0, \"id\": 1466035, \"job\": \"CG Supervisor\", \"name\": \"Thrain Shadbolt\"}, {\"credit_id\": \"5592b032c3a36877450015f1\", \"department\": \"Crew\", \"gender\": 0, \"id\": 1483220, \"job\": \"CG Supervisor\", \"name\": \"Brad Alexander\"}, {\"credit_id\": \"5592b05592514152d80012f6\", \"department\": \"Crew\", \"gender\": 0, \"id\": 1483221, \"job\": \"CG Supervisor\", \"name\": \"Shadi Almassizadeh\"}, {\"credit_id\": \"5592b090c3a36877570010b5\", \"department\": \"Crew\", \"gender\": 0, \"id\": 1483222, \"job\": \"CG Supervisor\", \"name\": \"Simon Clutterbuck\"}, {\"credit_id\": \"5592b0dbc3a368774b00112c\", \"department\": \"Crew\", \"gender\": 0, \"id\": 1483223, \"job\": \"CG Supervisor\", \"name\": \"Graeme Demmocks\"}, {\"credit_id\": \"5592b0fe92514152db0010c1\", \"department\": \"Crew\", \"gender\": 0, \"id\": 1483224, \"job\": \"CG Supervisor\", \"name\": \"Adrian Fernandes\"}, {\"credit_id\": \"5592b11f9251415df8001059\", \"department\": \"Crew\", \"gender\": 0, \"id\": 1483225, \"job\": \"CG Supervisor\", \"name\": \"Mitch Gates\"}, {\"credit_id\": \"5592b15dc3a3687745001645\", \"department\": \"Crew\", \"gender\": 0, \"id\": 1483226, \"job\": \"CG Supervisor\", \"name\": \"Jerry Kung\"}, {\"credit_id\": \"5592b18e925141645a0004ae\", \"department\": \"Crew\", \"gender\": 0, \"id\": 1483227, \"job\": \"CG Supervisor\", \"name\": \"Andy Lomas\"}, {\"credit_id\": \"5592b1bfc3a368775d0010e7\", \"department\": \"Crew\", \"gender\": 0, \"id\": 1483228, \"job\": \"CG Supervisor\", \"name\": \"Sebastian Marino\"}, {\"credit_id\": \"5592b2049251415df8001078\", \"department\": \"Crew\", \"gender\": 0, \"id\": 1483229, \"job\": \"CG Supervisor\", \"name\": \"Matthias Menz\"}, {\"credit_id\": \"5592b27b92514152d800136a\", \"department\": \"Crew\", \"gender\": 0, \"id\": 1483230, \"job\": \"CG Supervisor\", \"name\": \"Sergei Nevshupov\"}, {\"credit_id\": \"5592b2c3c3a36869e800003c\", \"department\": \"Crew\", \"gender\": 0, \"id\": 1483231, \"job\": \"CG Supervisor\", \"name\": \"Philippe Rebours\"}, {\"credit_id\": \"5592b317c3a36877470012af\", \"department\": \"Crew\", \"gender\": 0, \"id\": 1483232, \"job\": \"CG Supervisor\", \"name\": \"Michael Takarangi\"}, {\"credit_id\": \"5592b345c3a36877470012bb\", \"department\": \"Crew\", \"gender\": 0, \"id\": 1483233, \"job\": \"CG Supervisor\", \"name\": \"David Weitzberg\"}, {\"credit_id\": \"5592b37cc3a368775100113b\", \"department\": \"Crew\", \"gender\": 0, \"id\": 1483234, \"job\": \"CG Supervisor\", \"name\": \"Ben White\"}, {\"credit_id\": \"573c8e2f9251413f5d000094\", \"department\": \"Crew\", \"gender\": 1, \"id\": 1621932, \"job\": \"Stunts\", \"name\": \"Min Windle\"}]'],\n",
       "      dtype=object)"
      ]
     },
     "execution_count": 10,
     "metadata": {},
     "output_type": "execute_result"
    }
   ],
   "source": [
    "credit.head(1)[\"crew\"].values"
   ]
  },
  {
   "cell_type": "code",
   "execution_count": 11,
   "id": "ef21b9ac",
   "metadata": {},
   "outputs": [
    {
     "data": {
      "text/html": [
       "<div>\n",
       "<style scoped>\n",
       "    .dataframe tbody tr th:only-of-type {\n",
       "        vertical-align: middle;\n",
       "    }\n",
       "\n",
       "    .dataframe tbody tr th {\n",
       "        vertical-align: top;\n",
       "    }\n",
       "\n",
       "    .dataframe thead th {\n",
       "        text-align: right;\n",
       "    }\n",
       "</style>\n",
       "<table border=\"1\" class=\"dataframe\">\n",
       "  <thead>\n",
       "    <tr style=\"text-align: right;\">\n",
       "      <th></th>\n",
       "      <th>budget</th>\n",
       "      <th>genres</th>\n",
       "      <th>homepage</th>\n",
       "      <th>id</th>\n",
       "      <th>keywords</th>\n",
       "      <th>original_language</th>\n",
       "      <th>original_title</th>\n",
       "      <th>overview</th>\n",
       "      <th>popularity</th>\n",
       "      <th>production_companies</th>\n",
       "      <th>...</th>\n",
       "      <th>runtime</th>\n",
       "      <th>spoken_languages</th>\n",
       "      <th>status</th>\n",
       "      <th>tagline</th>\n",
       "      <th>title</th>\n",
       "      <th>vote_average</th>\n",
       "      <th>vote_count</th>\n",
       "      <th>movie_id</th>\n",
       "      <th>cast</th>\n",
       "      <th>crew</th>\n",
       "    </tr>\n",
       "  </thead>\n",
       "  <tbody>\n",
       "    <tr>\n",
       "      <th>0</th>\n",
       "      <td>237000000</td>\n",
       "      <td>[{\"id\": 28, \"name\": \"Action\"}, {\"id\": 12, \"nam...</td>\n",
       "      <td>http://www.avatarmovie.com/</td>\n",
       "      <td>19995</td>\n",
       "      <td>[{\"id\": 1463, \"name\": \"culture clash\"}, {\"id\":...</td>\n",
       "      <td>en</td>\n",
       "      <td>Avatar</td>\n",
       "      <td>In the 22nd century, a paraplegic Marine is di...</td>\n",
       "      <td>150.437577</td>\n",
       "      <td>[{\"name\": \"Ingenious Film Partners\", \"id\": 289...</td>\n",
       "      <td>...</td>\n",
       "      <td>162.0</td>\n",
       "      <td>[{\"iso_639_1\": \"en\", \"name\": \"English\"}, {\"iso...</td>\n",
       "      <td>Released</td>\n",
       "      <td>Enter the World of Pandora.</td>\n",
       "      <td>Avatar</td>\n",
       "      <td>7.2</td>\n",
       "      <td>11800</td>\n",
       "      <td>19995</td>\n",
       "      <td>[{\"cast_id\": 242, \"character\": \"Jake Sully\", \"...</td>\n",
       "      <td>[{\"credit_id\": \"52fe48009251416c750aca23\", \"de...</td>\n",
       "    </tr>\n",
       "  </tbody>\n",
       "</table>\n",
       "<p>1 rows × 23 columns</p>\n",
       "</div>"
      ],
      "text/plain": [
       "      budget                                             genres  \\\n",
       "0  237000000  [{\"id\": 28, \"name\": \"Action\"}, {\"id\": 12, \"nam...   \n",
       "\n",
       "                      homepage     id  \\\n",
       "0  http://www.avatarmovie.com/  19995   \n",
       "\n",
       "                                            keywords original_language  \\\n",
       "0  [{\"id\": 1463, \"name\": \"culture clash\"}, {\"id\":...                en   \n",
       "\n",
       "  original_title                                           overview  \\\n",
       "0         Avatar  In the 22nd century, a paraplegic Marine is di...   \n",
       "\n",
       "   popularity                               production_companies  ... runtime  \\\n",
       "0  150.437577  [{\"name\": \"Ingenious Film Partners\", \"id\": 289...  ...   162.0   \n",
       "\n",
       "                                    spoken_languages    status  \\\n",
       "0  [{\"iso_639_1\": \"en\", \"name\": \"English\"}, {\"iso...  Released   \n",
       "\n",
       "                       tagline   title vote_average vote_count movie_id  \\\n",
       "0  Enter the World of Pandora.  Avatar          7.2      11800    19995   \n",
       "\n",
       "                                                cast  \\\n",
       "0  [{\"cast_id\": 242, \"character\": \"Jake Sully\", \"...   \n",
       "\n",
       "                                                crew  \n",
       "0  [{\"credit_id\": \"52fe48009251416c750aca23\", \"de...  \n",
       "\n",
       "[1 rows x 23 columns]"
      ]
     },
     "execution_count": 11,
     "metadata": {},
     "output_type": "execute_result"
    }
   ],
   "source": [
    "movies= movie.merge(credit, on=\"title\")\n",
    "movies.head(1)"
   ]
  },
  {
   "cell_type": "code",
   "execution_count": 12,
   "id": "8dde759b",
   "metadata": {},
   "outputs": [
    {
     "data": {
      "text/plain": [
       "(4809, 23)"
      ]
     },
     "execution_count": 12,
     "metadata": {},
     "output_type": "execute_result"
    }
   ],
   "source": [
    "movies.shape"
   ]
  },
  {
   "cell_type": "code",
   "execution_count": 13,
   "id": "817047a1",
   "metadata": {},
   "outputs": [
    {
     "name": "stdout",
     "output_type": "stream",
     "text": [
      "<class 'pandas.core.frame.DataFrame'>\n",
      "RangeIndex: 4809 entries, 0 to 4808\n",
      "Data columns (total 23 columns):\n",
      " #   Column                Non-Null Count  Dtype  \n",
      "---  ------                --------------  -----  \n",
      " 0   budget                4809 non-null   int64  \n",
      " 1   genres                4809 non-null   object \n",
      " 2   homepage              1713 non-null   object \n",
      " 3   id                    4809 non-null   int64  \n",
      " 4   keywords              4809 non-null   object \n",
      " 5   original_language     4809 non-null   object \n",
      " 6   original_title        4809 non-null   object \n",
      " 7   overview              4806 non-null   object \n",
      " 8   popularity            4809 non-null   float64\n",
      " 9   production_companies  4809 non-null   object \n",
      " 10  production_countries  4809 non-null   object \n",
      " 11  release_date          4808 non-null   object \n",
      " 12  revenue               4809 non-null   int64  \n",
      " 13  runtime               4807 non-null   float64\n",
      " 14  spoken_languages      4809 non-null   object \n",
      " 15  status                4809 non-null   object \n",
      " 16  tagline               3965 non-null   object \n",
      " 17  title                 4809 non-null   object \n",
      " 18  vote_average          4809 non-null   float64\n",
      " 19  vote_count            4809 non-null   int64  \n",
      " 20  movie_id              4809 non-null   int64  \n",
      " 21  cast                  4809 non-null   object \n",
      " 22  crew                  4809 non-null   object \n",
      "dtypes: float64(3), int64(5), object(15)\n",
      "memory usage: 864.2+ KB\n"
     ]
    }
   ],
   "source": [
    "movies.info()"
   ]
  },
  {
   "cell_type": "code",
   "execution_count": 14,
   "id": "71525f8a",
   "metadata": {},
   "outputs": [],
   "source": [
    "# genres, id, keywords, overview, title, cast, crew\n",
    "\n",
    "movies_df = movies[[\"movie_id\", \"title\", \"overview\", \"genres\", \"keywords\", \"cast\", \"crew\"]]"
   ]
  },
  {
   "cell_type": "code",
   "execution_count": 15,
   "id": "fe8a7115",
   "metadata": {},
   "outputs": [
    {
     "data": {
      "text/html": [
       "<div>\n",
       "<style scoped>\n",
       "    .dataframe tbody tr th:only-of-type {\n",
       "        vertical-align: middle;\n",
       "    }\n",
       "\n",
       "    .dataframe tbody tr th {\n",
       "        vertical-align: top;\n",
       "    }\n",
       "\n",
       "    .dataframe thead th {\n",
       "        text-align: right;\n",
       "    }\n",
       "</style>\n",
       "<table border=\"1\" class=\"dataframe\">\n",
       "  <thead>\n",
       "    <tr style=\"text-align: right;\">\n",
       "      <th></th>\n",
       "      <th>movie_id</th>\n",
       "      <th>title</th>\n",
       "      <th>overview</th>\n",
       "      <th>genres</th>\n",
       "      <th>keywords</th>\n",
       "      <th>cast</th>\n",
       "      <th>crew</th>\n",
       "    </tr>\n",
       "  </thead>\n",
       "  <tbody>\n",
       "    <tr>\n",
       "      <th>0</th>\n",
       "      <td>19995</td>\n",
       "      <td>Avatar</td>\n",
       "      <td>In the 22nd century, a paraplegic Marine is di...</td>\n",
       "      <td>[{\"id\": 28, \"name\": \"Action\"}, {\"id\": 12, \"nam...</td>\n",
       "      <td>[{\"id\": 1463, \"name\": \"culture clash\"}, {\"id\":...</td>\n",
       "      <td>[{\"cast_id\": 242, \"character\": \"Jake Sully\", \"...</td>\n",
       "      <td>[{\"credit_id\": \"52fe48009251416c750aca23\", \"de...</td>\n",
       "    </tr>\n",
       "    <tr>\n",
       "      <th>1</th>\n",
       "      <td>285</td>\n",
       "      <td>Pirates of the Caribbean: At World's End</td>\n",
       "      <td>Captain Barbossa, long believed to be dead, ha...</td>\n",
       "      <td>[{\"id\": 12, \"name\": \"Adventure\"}, {\"id\": 14, \"...</td>\n",
       "      <td>[{\"id\": 270, \"name\": \"ocean\"}, {\"id\": 726, \"na...</td>\n",
       "      <td>[{\"cast_id\": 4, \"character\": \"Captain Jack Spa...</td>\n",
       "      <td>[{\"credit_id\": \"52fe4232c3a36847f800b579\", \"de...</td>\n",
       "    </tr>\n",
       "  </tbody>\n",
       "</table>\n",
       "</div>"
      ],
      "text/plain": [
       "   movie_id                                     title  \\\n",
       "0     19995                                    Avatar   \n",
       "1       285  Pirates of the Caribbean: At World's End   \n",
       "\n",
       "                                            overview  \\\n",
       "0  In the 22nd century, a paraplegic Marine is di...   \n",
       "1  Captain Barbossa, long believed to be dead, ha...   \n",
       "\n",
       "                                              genres  \\\n",
       "0  [{\"id\": 28, \"name\": \"Action\"}, {\"id\": 12, \"nam...   \n",
       "1  [{\"id\": 12, \"name\": \"Adventure\"}, {\"id\": 14, \"...   \n",
       "\n",
       "                                            keywords  \\\n",
       "0  [{\"id\": 1463, \"name\": \"culture clash\"}, {\"id\":...   \n",
       "1  [{\"id\": 270, \"name\": \"ocean\"}, {\"id\": 726, \"na...   \n",
       "\n",
       "                                                cast  \\\n",
       "0  [{\"cast_id\": 242, \"character\": \"Jake Sully\", \"...   \n",
       "1  [{\"cast_id\": 4, \"character\": \"Captain Jack Spa...   \n",
       "\n",
       "                                                crew  \n",
       "0  [{\"credit_id\": \"52fe48009251416c750aca23\", \"de...  \n",
       "1  [{\"credit_id\": \"52fe4232c3a36847f800b579\", \"de...  "
      ]
     },
     "execution_count": 15,
     "metadata": {},
     "output_type": "execute_result"
    }
   ],
   "source": [
    "movies_df.head(2)"
   ]
  },
  {
   "cell_type": "code",
   "execution_count": 16,
   "id": "a778f5fe",
   "metadata": {},
   "outputs": [
    {
     "data": {
      "text/plain": [
       "movie_id    0\n",
       "title       0\n",
       "overview    3\n",
       "genres      0\n",
       "keywords    0\n",
       "cast        0\n",
       "crew        0\n",
       "dtype: int64"
      ]
     },
     "execution_count": 16,
     "metadata": {},
     "output_type": "execute_result"
    }
   ],
   "source": [
    "movies_df.isnull().sum()"
   ]
  },
  {
   "cell_type": "code",
   "execution_count": 17,
   "id": "d7d39e9d",
   "metadata": {},
   "outputs": [
    {
     "name": "stderr",
     "output_type": "stream",
     "text": [
      "C:\\Users\\user\\AppData\\Local\\Temp\\ipykernel_5500\\191851754.py:1: SettingWithCopyWarning: \n",
      "A value is trying to be set on a copy of a slice from a DataFrame\n",
      "\n",
      "See the caveats in the documentation: https://pandas.pydata.org/pandas-docs/stable/user_guide/indexing.html#returning-a-view-versus-a-copy\n",
      "  movies_df.dropna(inplace=True)\n"
     ]
    }
   ],
   "source": [
    "movies_df.dropna(inplace=True)"
   ]
  },
  {
   "cell_type": "code",
   "execution_count": 18,
   "id": "a93787e1",
   "metadata": {},
   "outputs": [
    {
     "data": {
      "text/plain": [
       "np.int64(0)"
      ]
     },
     "execution_count": 18,
     "metadata": {},
     "output_type": "execute_result"
    }
   ],
   "source": [
    "movies_df.duplicated().sum()"
   ]
  },
  {
   "cell_type": "code",
   "execution_count": 19,
   "id": "5f23f992",
   "metadata": {},
   "outputs": [
    {
     "data": {
      "text/plain": [
       "'[{\"id\": 28, \"name\": \"Action\"}, {\"id\": 12, \"name\": \"Adventure\"}, {\"id\": 14, \"name\": \"Fantasy\"}, {\"id\": 878, \"name\": \"Science Fiction\"}]'"
      ]
     },
     "execution_count": 19,
     "metadata": {},
     "output_type": "execute_result"
    }
   ],
   "source": [
    "movies_df.iloc[0].genres"
   ]
  },
  {
   "cell_type": "code",
   "execution_count": 20,
   "id": "a649a8be",
   "metadata": {},
   "outputs": [],
   "source": [
    "#[{\"id\": 28, \"name\": \"Action\"}, {\"id\": 12, \"name\": \"Adventure\"}, {\"id\": 14, \"name\": \"Fantasy\"}, {\"id\": 878, \"name\": \"Science Fiction\"}]\n",
    "# change in [\"Action\", \"Adventure\", \" Fantasy\", \"Science Fiction\"]"
   ]
  },
  {
   "cell_type": "code",
   "execution_count": 21,
   "id": "e2998e81",
   "metadata": {},
   "outputs": [],
   "source": [
    "def convert(obj):\n",
    "    L = []\n",
    "    for i in ast.literal_eval(obj):\n",
    "        L.append(i[\"name\"])\n",
    "    return L"
   ]
  },
  {
   "cell_type": "code",
   "execution_count": 22,
   "id": "ed3892d5",
   "metadata": {},
   "outputs": [
    {
     "name": "stderr",
     "output_type": "stream",
     "text": [
      "C:\\Users\\user\\AppData\\Local\\Temp\\ipykernel_5500\\208148979.py:1: SettingWithCopyWarning: \n",
      "A value is trying to be set on a copy of a slice from a DataFrame.\n",
      "Try using .loc[row_indexer,col_indexer] = value instead\n",
      "\n",
      "See the caveats in the documentation: https://pandas.pydata.org/pandas-docs/stable/user_guide/indexing.html#returning-a-view-versus-a-copy\n",
      "  movies_df[\"genres\"]= movies_df[\"genres\"].apply(convert)\n"
     ]
    }
   ],
   "source": [
    "movies_df[\"genres\"]= movies_df[\"genres\"].apply(convert)"
   ]
  },
  {
   "cell_type": "code",
   "execution_count": 23,
   "id": "55b25f28",
   "metadata": {},
   "outputs": [
    {
     "data": {
      "text/html": [
       "<div>\n",
       "<style scoped>\n",
       "    .dataframe tbody tr th:only-of-type {\n",
       "        vertical-align: middle;\n",
       "    }\n",
       "\n",
       "    .dataframe tbody tr th {\n",
       "        vertical-align: top;\n",
       "    }\n",
       "\n",
       "    .dataframe thead th {\n",
       "        text-align: right;\n",
       "    }\n",
       "</style>\n",
       "<table border=\"1\" class=\"dataframe\">\n",
       "  <thead>\n",
       "    <tr style=\"text-align: right;\">\n",
       "      <th></th>\n",
       "      <th>movie_id</th>\n",
       "      <th>title</th>\n",
       "      <th>overview</th>\n",
       "      <th>genres</th>\n",
       "      <th>keywords</th>\n",
       "      <th>cast</th>\n",
       "      <th>crew</th>\n",
       "    </tr>\n",
       "  </thead>\n",
       "  <tbody>\n",
       "    <tr>\n",
       "      <th>0</th>\n",
       "      <td>19995</td>\n",
       "      <td>Avatar</td>\n",
       "      <td>In the 22nd century, a paraplegic Marine is di...</td>\n",
       "      <td>[Action, Adventure, Fantasy, Science Fiction]</td>\n",
       "      <td>[{\"id\": 1463, \"name\": \"culture clash\"}, {\"id\":...</td>\n",
       "      <td>[{\"cast_id\": 242, \"character\": \"Jake Sully\", \"...</td>\n",
       "      <td>[{\"credit_id\": \"52fe48009251416c750aca23\", \"de...</td>\n",
       "    </tr>\n",
       "  </tbody>\n",
       "</table>\n",
       "</div>"
      ],
      "text/plain": [
       "   movie_id   title                                           overview  \\\n",
       "0     19995  Avatar  In the 22nd century, a paraplegic Marine is di...   \n",
       "\n",
       "                                          genres  \\\n",
       "0  [Action, Adventure, Fantasy, Science Fiction]   \n",
       "\n",
       "                                            keywords  \\\n",
       "0  [{\"id\": 1463, \"name\": \"culture clash\"}, {\"id\":...   \n",
       "\n",
       "                                                cast  \\\n",
       "0  [{\"cast_id\": 242, \"character\": \"Jake Sully\", \"...   \n",
       "\n",
       "                                                crew  \n",
       "0  [{\"credit_id\": \"52fe48009251416c750aca23\", \"de...  "
      ]
     },
     "execution_count": 23,
     "metadata": {},
     "output_type": "execute_result"
    }
   ],
   "source": [
    "movies_df.head(1)"
   ]
  },
  {
   "cell_type": "code",
   "execution_count": 24,
   "id": "aba44462",
   "metadata": {},
   "outputs": [
    {
     "name": "stderr",
     "output_type": "stream",
     "text": [
      "C:\\Users\\user\\AppData\\Local\\Temp\\ipykernel_5500\\309747831.py:1: SettingWithCopyWarning: \n",
      "A value is trying to be set on a copy of a slice from a DataFrame.\n",
      "Try using .loc[row_indexer,col_indexer] = value instead\n",
      "\n",
      "See the caveats in the documentation: https://pandas.pydata.org/pandas-docs/stable/user_guide/indexing.html#returning-a-view-versus-a-copy\n",
      "  movies_df[\"keywords\"] = movies_df[\"keywords\"].apply(convert)\n"
     ]
    }
   ],
   "source": [
    "movies_df[\"keywords\"] = movies_df[\"keywords\"].apply(convert)"
   ]
  },
  {
   "cell_type": "code",
   "execution_count": 25,
   "id": "13b6a01c",
   "metadata": {},
   "outputs": [
    {
     "data": {
      "text/html": [
       "<div>\n",
       "<style scoped>\n",
       "    .dataframe tbody tr th:only-of-type {\n",
       "        vertical-align: middle;\n",
       "    }\n",
       "\n",
       "    .dataframe tbody tr th {\n",
       "        vertical-align: top;\n",
       "    }\n",
       "\n",
       "    .dataframe thead th {\n",
       "        text-align: right;\n",
       "    }\n",
       "</style>\n",
       "<table border=\"1\" class=\"dataframe\">\n",
       "  <thead>\n",
       "    <tr style=\"text-align: right;\">\n",
       "      <th></th>\n",
       "      <th>movie_id</th>\n",
       "      <th>title</th>\n",
       "      <th>overview</th>\n",
       "      <th>genres</th>\n",
       "      <th>keywords</th>\n",
       "      <th>cast</th>\n",
       "      <th>crew</th>\n",
       "    </tr>\n",
       "  </thead>\n",
       "  <tbody>\n",
       "    <tr>\n",
       "      <th>0</th>\n",
       "      <td>19995</td>\n",
       "      <td>Avatar</td>\n",
       "      <td>In the 22nd century, a paraplegic Marine is di...</td>\n",
       "      <td>[Action, Adventure, Fantasy, Science Fiction]</td>\n",
       "      <td>[culture clash, future, space war, space colon...</td>\n",
       "      <td>[{\"cast_id\": 242, \"character\": \"Jake Sully\", \"...</td>\n",
       "      <td>[{\"credit_id\": \"52fe48009251416c750aca23\", \"de...</td>\n",
       "    </tr>\n",
       "  </tbody>\n",
       "</table>\n",
       "</div>"
      ],
      "text/plain": [
       "   movie_id   title                                           overview  \\\n",
       "0     19995  Avatar  In the 22nd century, a paraplegic Marine is di...   \n",
       "\n",
       "                                          genres  \\\n",
       "0  [Action, Adventure, Fantasy, Science Fiction]   \n",
       "\n",
       "                                            keywords  \\\n",
       "0  [culture clash, future, space war, space colon...   \n",
       "\n",
       "                                                cast  \\\n",
       "0  [{\"cast_id\": 242, \"character\": \"Jake Sully\", \"...   \n",
       "\n",
       "                                                crew  \n",
       "0  [{\"credit_id\": \"52fe48009251416c750aca23\", \"de...  "
      ]
     },
     "execution_count": 25,
     "metadata": {},
     "output_type": "execute_result"
    }
   ],
   "source": [
    "movies_df.head(1)"
   ]
  },
  {
   "cell_type": "code",
   "execution_count": 26,
   "id": "8acfa0fc",
   "metadata": {},
   "outputs": [],
   "source": [
    "# Function to take only top 3 names\n",
    "\n",
    "def convert3(obj):\n",
    "    L = []\n",
    "    counter = 0\n",
    "    for i in ast.literal_eval(obj):\n",
    "        if counter !=3:\n",
    "            L.append(i[\"name\"])\n",
    "            counter += 1\n",
    "        else:\n",
    "            break\n",
    "    return L"
   ]
  },
  {
   "cell_type": "code",
   "execution_count": 27,
   "id": "b9e98b99",
   "metadata": {},
   "outputs": [
    {
     "name": "stderr",
     "output_type": "stream",
     "text": [
      "C:\\Users\\user\\AppData\\Local\\Temp\\ipykernel_5500\\199428637.py:1: SettingWithCopyWarning: \n",
      "A value is trying to be set on a copy of a slice from a DataFrame.\n",
      "Try using .loc[row_indexer,col_indexer] = value instead\n",
      "\n",
      "See the caveats in the documentation: https://pandas.pydata.org/pandas-docs/stable/user_guide/indexing.html#returning-a-view-versus-a-copy\n",
      "  movies_df[\"cast\"]= movies_df[\"cast\"].apply(convert3)\n"
     ]
    }
   ],
   "source": [
    "movies_df[\"cast\"]= movies_df[\"cast\"].apply(convert3)"
   ]
  },
  {
   "cell_type": "code",
   "execution_count": 28,
   "id": "1b2102f2",
   "metadata": {},
   "outputs": [
    {
     "data": {
      "text/plain": [
       "0        [Sam Worthington, Zoe Saldana, Sigourney Weaver]\n",
       "1           [Johnny Depp, Orlando Bloom, Keira Knightley]\n",
       "2            [Daniel Craig, Christoph Waltz, Léa Seydoux]\n",
       "3            [Christian Bale, Michael Caine, Gary Oldman]\n",
       "4          [Taylor Kitsch, Lynn Collins, Samantha Morton]\n",
       "                              ...                        \n",
       "4804    [Carlos Gallardo, Jaime de Hoyos, Peter Marqua...\n",
       "4805         [Edward Burns, Kerry Bishé, Marsha Dietlein]\n",
       "4806           [Eric Mabius, Kristin Booth, Crystal Lowe]\n",
       "4807            [Daniel Henney, Eliza Coupe, Bill Paxton]\n",
       "4808    [Drew Barrymore, Brian Herzlinger, Corey Feldman]\n",
       "Name: cast, Length: 4806, dtype: object"
      ]
     },
     "execution_count": 28,
     "metadata": {},
     "output_type": "execute_result"
    }
   ],
   "source": [
    "movies_df[\"cast\"]"
   ]
  },
  {
   "cell_type": "code",
   "execution_count": 29,
   "id": "2820d112",
   "metadata": {},
   "outputs": [],
   "source": [
    "def fetch_director(obj):\n",
    "    L = []\n",
    "    for i in ast.literal_eval(obj):\n",
    "        if i[\"job\"] == \"Director\":\n",
    "            L.append(i[\"name\"])\n",
    "            break\n",
    "    return L"
   ]
  },
  {
   "cell_type": "code",
   "execution_count": 30,
   "id": "98984e7b",
   "metadata": {},
   "outputs": [
    {
     "name": "stderr",
     "output_type": "stream",
     "text": [
      "C:\\Users\\user\\AppData\\Local\\Temp\\ipykernel_5500\\576212633.py:1: SettingWithCopyWarning: \n",
      "A value is trying to be set on a copy of a slice from a DataFrame.\n",
      "Try using .loc[row_indexer,col_indexer] = value instead\n",
      "\n",
      "See the caveats in the documentation: https://pandas.pydata.org/pandas-docs/stable/user_guide/indexing.html#returning-a-view-versus-a-copy\n",
      "  movies_df[\"crew\"] = movies_df[\"crew\"].apply(fetch_director)\n"
     ]
    }
   ],
   "source": [
    "movies_df[\"crew\"] = movies_df[\"crew\"].apply(fetch_director)"
   ]
  },
  {
   "cell_type": "code",
   "execution_count": 31,
   "id": "715578ce",
   "metadata": {},
   "outputs": [
    {
     "data": {
      "text/html": [
       "<div>\n",
       "<style scoped>\n",
       "    .dataframe tbody tr th:only-of-type {\n",
       "        vertical-align: middle;\n",
       "    }\n",
       "\n",
       "    .dataframe tbody tr th {\n",
       "        vertical-align: top;\n",
       "    }\n",
       "\n",
       "    .dataframe thead th {\n",
       "        text-align: right;\n",
       "    }\n",
       "</style>\n",
       "<table border=\"1\" class=\"dataframe\">\n",
       "  <thead>\n",
       "    <tr style=\"text-align: right;\">\n",
       "      <th></th>\n",
       "      <th>movie_id</th>\n",
       "      <th>title</th>\n",
       "      <th>overview</th>\n",
       "      <th>genres</th>\n",
       "      <th>keywords</th>\n",
       "      <th>cast</th>\n",
       "      <th>crew</th>\n",
       "    </tr>\n",
       "  </thead>\n",
       "  <tbody>\n",
       "    <tr>\n",
       "      <th>0</th>\n",
       "      <td>19995</td>\n",
       "      <td>Avatar</td>\n",
       "      <td>In the 22nd century, a paraplegic Marine is di...</td>\n",
       "      <td>[Action, Adventure, Fantasy, Science Fiction]</td>\n",
       "      <td>[culture clash, future, space war, space colon...</td>\n",
       "      <td>[Sam Worthington, Zoe Saldana, Sigourney Weaver]</td>\n",
       "      <td>[James Cameron]</td>\n",
       "    </tr>\n",
       "  </tbody>\n",
       "</table>\n",
       "</div>"
      ],
      "text/plain": [
       "   movie_id   title                                           overview  \\\n",
       "0     19995  Avatar  In the 22nd century, a paraplegic Marine is di...   \n",
       "\n",
       "                                          genres  \\\n",
       "0  [Action, Adventure, Fantasy, Science Fiction]   \n",
       "\n",
       "                                            keywords  \\\n",
       "0  [culture clash, future, space war, space colon...   \n",
       "\n",
       "                                               cast             crew  \n",
       "0  [Sam Worthington, Zoe Saldana, Sigourney Weaver]  [James Cameron]  "
      ]
     },
     "execution_count": 31,
     "metadata": {},
     "output_type": "execute_result"
    }
   ],
   "source": [
    "movies_df.head(1)"
   ]
  },
  {
   "cell_type": "code",
   "execution_count": 32,
   "id": "93477b1f",
   "metadata": {},
   "outputs": [
    {
     "name": "stderr",
     "output_type": "stream",
     "text": [
      "C:\\Users\\user\\AppData\\Local\\Temp\\ipykernel_5500\\1696881716.py:1: SettingWithCopyWarning: \n",
      "A value is trying to be set on a copy of a slice from a DataFrame.\n",
      "Try using .loc[row_indexer,col_indexer] = value instead\n",
      "\n",
      "See the caveats in the documentation: https://pandas.pydata.org/pandas-docs/stable/user_guide/indexing.html#returning-a-view-versus-a-copy\n",
      "  movies_df[\"overview\"]= movies_df[\"overview\"].apply(lambda x:x.split())\n"
     ]
    }
   ],
   "source": [
    "movies_df[\"overview\"]= movies_df[\"overview\"].apply(lambda x:x.split())"
   ]
  },
  {
   "cell_type": "code",
   "execution_count": 33,
   "id": "8b241716",
   "metadata": {},
   "outputs": [
    {
     "data": {
      "text/html": [
       "<div>\n",
       "<style scoped>\n",
       "    .dataframe tbody tr th:only-of-type {\n",
       "        vertical-align: middle;\n",
       "    }\n",
       "\n",
       "    .dataframe tbody tr th {\n",
       "        vertical-align: top;\n",
       "    }\n",
       "\n",
       "    .dataframe thead th {\n",
       "        text-align: right;\n",
       "    }\n",
       "</style>\n",
       "<table border=\"1\" class=\"dataframe\">\n",
       "  <thead>\n",
       "    <tr style=\"text-align: right;\">\n",
       "      <th></th>\n",
       "      <th>movie_id</th>\n",
       "      <th>title</th>\n",
       "      <th>overview</th>\n",
       "      <th>genres</th>\n",
       "      <th>keywords</th>\n",
       "      <th>cast</th>\n",
       "      <th>crew</th>\n",
       "    </tr>\n",
       "  </thead>\n",
       "  <tbody>\n",
       "    <tr>\n",
       "      <th>0</th>\n",
       "      <td>19995</td>\n",
       "      <td>Avatar</td>\n",
       "      <td>[In, the, 22nd, century,, a, paraplegic, Marin...</td>\n",
       "      <td>[Action, Adventure, Fantasy, Science Fiction]</td>\n",
       "      <td>[culture clash, future, space war, space colon...</td>\n",
       "      <td>[Sam Worthington, Zoe Saldana, Sigourney Weaver]</td>\n",
       "      <td>[James Cameron]</td>\n",
       "    </tr>\n",
       "  </tbody>\n",
       "</table>\n",
       "</div>"
      ],
      "text/plain": [
       "   movie_id   title                                           overview  \\\n",
       "0     19995  Avatar  [In, the, 22nd, century,, a, paraplegic, Marin...   \n",
       "\n",
       "                                          genres  \\\n",
       "0  [Action, Adventure, Fantasy, Science Fiction]   \n",
       "\n",
       "                                            keywords  \\\n",
       "0  [culture clash, future, space war, space colon...   \n",
       "\n",
       "                                               cast             crew  \n",
       "0  [Sam Worthington, Zoe Saldana, Sigourney Weaver]  [James Cameron]  "
      ]
     },
     "execution_count": 33,
     "metadata": {},
     "output_type": "execute_result"
    }
   ],
   "source": [
    "movies_df.head(1)"
   ]
  },
  {
   "cell_type": "code",
   "execution_count": 34,
   "id": "5327fbb3",
   "metadata": {},
   "outputs": [
    {
     "name": "stderr",
     "output_type": "stream",
     "text": [
      "C:\\Users\\user\\AppData\\Local\\Temp\\ipykernel_5500\\2295255300.py:1: SettingWithCopyWarning: \n",
      "A value is trying to be set on a copy of a slice from a DataFrame.\n",
      "Try using .loc[row_indexer,col_indexer] = value instead\n",
      "\n",
      "See the caveats in the documentation: https://pandas.pydata.org/pandas-docs/stable/user_guide/indexing.html#returning-a-view-versus-a-copy\n",
      "  movies_df[\"genres\"]= movies_df[\"genres\"].apply(lambda x:[i.replace(\" \", \"\") for i in x])\n",
      "C:\\Users\\user\\AppData\\Local\\Temp\\ipykernel_5500\\2295255300.py:2: SettingWithCopyWarning: \n",
      "A value is trying to be set on a copy of a slice from a DataFrame.\n",
      "Try using .loc[row_indexer,col_indexer] = value instead\n",
      "\n",
      "See the caveats in the documentation: https://pandas.pydata.org/pandas-docs/stable/user_guide/indexing.html#returning-a-view-versus-a-copy\n",
      "  movies_df[\"keywords\"]= movies_df[\"keywords\"].apply(lambda x:[i.replace(\" \", \"\") for i in x])\n",
      "C:\\Users\\user\\AppData\\Local\\Temp\\ipykernel_5500\\2295255300.py:3: SettingWithCopyWarning: \n",
      "A value is trying to be set on a copy of a slice from a DataFrame.\n",
      "Try using .loc[row_indexer,col_indexer] = value instead\n",
      "\n",
      "See the caveats in the documentation: https://pandas.pydata.org/pandas-docs/stable/user_guide/indexing.html#returning-a-view-versus-a-copy\n",
      "  movies_df[\"cast\"]= movies_df[\"cast\"].apply(lambda x:[i.replace(\" \", \"\") for i in x])\n",
      "C:\\Users\\user\\AppData\\Local\\Temp\\ipykernel_5500\\2295255300.py:4: SettingWithCopyWarning: \n",
      "A value is trying to be set on a copy of a slice from a DataFrame.\n",
      "Try using .loc[row_indexer,col_indexer] = value instead\n",
      "\n",
      "See the caveats in the documentation: https://pandas.pydata.org/pandas-docs/stable/user_guide/indexing.html#returning-a-view-versus-a-copy\n",
      "  movies_df[\"crew\"]= movies_df[\"crew\"].apply(lambda x:[i.replace(\" \", \"\") for i in x])\n"
     ]
    }
   ],
   "source": [
    "movies_df[\"genres\"]= movies_df[\"genres\"].apply(lambda x:[i.replace(\" \", \"\") for i in x])\n",
    "movies_df[\"keywords\"]= movies_df[\"keywords\"].apply(lambda x:[i.replace(\" \", \"\") for i in x])\n",
    "movies_df[\"cast\"]= movies_df[\"cast\"].apply(lambda x:[i.replace(\" \", \"\") for i in x])\n",
    "movies_df[\"crew\"]= movies_df[\"crew\"].apply(lambda x:[i.replace(\" \", \"\") for i in x])"
   ]
  },
  {
   "cell_type": "code",
   "execution_count": 35,
   "id": "50320894",
   "metadata": {},
   "outputs": [
    {
     "data": {
      "text/html": [
       "<div>\n",
       "<style scoped>\n",
       "    .dataframe tbody tr th:only-of-type {\n",
       "        vertical-align: middle;\n",
       "    }\n",
       "\n",
       "    .dataframe tbody tr th {\n",
       "        vertical-align: top;\n",
       "    }\n",
       "\n",
       "    .dataframe thead th {\n",
       "        text-align: right;\n",
       "    }\n",
       "</style>\n",
       "<table border=\"1\" class=\"dataframe\">\n",
       "  <thead>\n",
       "    <tr style=\"text-align: right;\">\n",
       "      <th></th>\n",
       "      <th>movie_id</th>\n",
       "      <th>title</th>\n",
       "      <th>overview</th>\n",
       "      <th>genres</th>\n",
       "      <th>keywords</th>\n",
       "      <th>cast</th>\n",
       "      <th>crew</th>\n",
       "    </tr>\n",
       "  </thead>\n",
       "  <tbody>\n",
       "    <tr>\n",
       "      <th>0</th>\n",
       "      <td>19995</td>\n",
       "      <td>Avatar</td>\n",
       "      <td>[In, the, 22nd, century,, a, paraplegic, Marin...</td>\n",
       "      <td>[Action, Adventure, Fantasy, ScienceFiction]</td>\n",
       "      <td>[cultureclash, future, spacewar, spacecolony, ...</td>\n",
       "      <td>[SamWorthington, ZoeSaldana, SigourneyWeaver]</td>\n",
       "      <td>[JamesCameron]</td>\n",
       "    </tr>\n",
       "  </tbody>\n",
       "</table>\n",
       "</div>"
      ],
      "text/plain": [
       "   movie_id   title                                           overview  \\\n",
       "0     19995  Avatar  [In, the, 22nd, century,, a, paraplegic, Marin...   \n",
       "\n",
       "                                         genres  \\\n",
       "0  [Action, Adventure, Fantasy, ScienceFiction]   \n",
       "\n",
       "                                            keywords  \\\n",
       "0  [cultureclash, future, spacewar, spacecolony, ...   \n",
       "\n",
       "                                            cast            crew  \n",
       "0  [SamWorthington, ZoeSaldana, SigourneyWeaver]  [JamesCameron]  "
      ]
     },
     "execution_count": 35,
     "metadata": {},
     "output_type": "execute_result"
    }
   ],
   "source": [
    "movies_df.head(1)"
   ]
  },
  {
   "cell_type": "code",
   "execution_count": 36,
   "id": "d3f41711",
   "metadata": {},
   "outputs": [
    {
     "name": "stderr",
     "output_type": "stream",
     "text": [
      "C:\\Users\\user\\AppData\\Local\\Temp\\ipykernel_5500\\1311940476.py:3: SettingWithCopyWarning: \n",
      "A value is trying to be set on a copy of a slice from a DataFrame.\n",
      "Try using .loc[row_indexer,col_indexer] = value instead\n",
      "\n",
      "See the caveats in the documentation: https://pandas.pydata.org/pandas-docs/stable/user_guide/indexing.html#returning-a-view-versus-a-copy\n",
      "  movies_df[\"tags\"]= movies_df[\"overview\"] + movies_df[\"genres\"]+ movies_df[\"keywords\"]+ movies_df[\"cast\"]+ movies_df[\"crew\"]\n"
     ]
    }
   ],
   "source": [
    "# Concatenation to create tags\n",
    "\n",
    "movies_df[\"tags\"]= movies_df[\"overview\"] + movies_df[\"genres\"]+ movies_df[\"keywords\"]+ movies_df[\"cast\"]+ movies_df[\"crew\"]"
   ]
  },
  {
   "cell_type": "code",
   "execution_count": 37,
   "id": "d2102e05",
   "metadata": {},
   "outputs": [
    {
     "data": {
      "text/plain": [
       "array([list(['In', 'the', '22nd', 'century,', 'a', 'paraplegic', 'Marine', 'is', 'dispatched', 'to', 'the', 'moon', 'Pandora', 'on', 'a', 'unique', 'mission,', 'but', 'becomes', 'torn', 'between', 'following', 'orders', 'and', 'protecting', 'an', 'alien', 'civilization.', 'Action', 'Adventure', 'Fantasy', 'ScienceFiction', 'cultureclash', 'future', 'spacewar', 'spacecolony', 'society', 'spacetravel', 'futuristic', 'romance', 'space', 'alien', 'tribe', 'alienplanet', 'cgi', 'marine', 'soldier', 'battle', 'loveaffair', 'antiwar', 'powerrelations', 'mindandsoul', '3d', 'SamWorthington', 'ZoeSaldana', 'SigourneyWeaver', 'JamesCameron'])],\n",
       "      dtype=object)"
      ]
     },
     "execution_count": 37,
     "metadata": {},
     "output_type": "execute_result"
    }
   ],
   "source": [
    "movies_df[\"tags\"].head(1).values"
   ]
  },
  {
   "cell_type": "code",
   "execution_count": 38,
   "id": "a6cea23e",
   "metadata": {},
   "outputs": [
    {
     "data": {
      "text/html": [
       "<div>\n",
       "<style scoped>\n",
       "    .dataframe tbody tr th:only-of-type {\n",
       "        vertical-align: middle;\n",
       "    }\n",
       "\n",
       "    .dataframe tbody tr th {\n",
       "        vertical-align: top;\n",
       "    }\n",
       "\n",
       "    .dataframe thead th {\n",
       "        text-align: right;\n",
       "    }\n",
       "</style>\n",
       "<table border=\"1\" class=\"dataframe\">\n",
       "  <thead>\n",
       "    <tr style=\"text-align: right;\">\n",
       "      <th></th>\n",
       "      <th>movie_id</th>\n",
       "      <th>title</th>\n",
       "      <th>overview</th>\n",
       "      <th>genres</th>\n",
       "      <th>keywords</th>\n",
       "      <th>cast</th>\n",
       "      <th>crew</th>\n",
       "      <th>tags</th>\n",
       "    </tr>\n",
       "  </thead>\n",
       "  <tbody>\n",
       "    <tr>\n",
       "      <th>0</th>\n",
       "      <td>19995</td>\n",
       "      <td>Avatar</td>\n",
       "      <td>[In, the, 22nd, century,, a, paraplegic, Marin...</td>\n",
       "      <td>[Action, Adventure, Fantasy, ScienceFiction]</td>\n",
       "      <td>[cultureclash, future, spacewar, spacecolony, ...</td>\n",
       "      <td>[SamWorthington, ZoeSaldana, SigourneyWeaver]</td>\n",
       "      <td>[JamesCameron]</td>\n",
       "      <td>[In, the, 22nd, century,, a, paraplegic, Marin...</td>\n",
       "    </tr>\n",
       "  </tbody>\n",
       "</table>\n",
       "</div>"
      ],
      "text/plain": [
       "   movie_id   title                                           overview  \\\n",
       "0     19995  Avatar  [In, the, 22nd, century,, a, paraplegic, Marin...   \n",
       "\n",
       "                                         genres  \\\n",
       "0  [Action, Adventure, Fantasy, ScienceFiction]   \n",
       "\n",
       "                                            keywords  \\\n",
       "0  [cultureclash, future, spacewar, spacecolony, ...   \n",
       "\n",
       "                                            cast            crew  \\\n",
       "0  [SamWorthington, ZoeSaldana, SigourneyWeaver]  [JamesCameron]   \n",
       "\n",
       "                                                tags  \n",
       "0  [In, the, 22nd, century,, a, paraplegic, Marin...  "
      ]
     },
     "execution_count": 38,
     "metadata": {},
     "output_type": "execute_result"
    }
   ],
   "source": [
    "movies_df.head(1)"
   ]
  },
  {
   "cell_type": "code",
   "execution_count": 39,
   "id": "d82b2384",
   "metadata": {},
   "outputs": [],
   "source": [
    "new_df =  movies_df[[\"movie_id\", \"title\", \"tags\"]]"
   ]
  },
  {
   "cell_type": "code",
   "execution_count": 40,
   "id": "3db378e4",
   "metadata": {},
   "outputs": [
    {
     "data": {
      "text/html": [
       "<div>\n",
       "<style scoped>\n",
       "    .dataframe tbody tr th:only-of-type {\n",
       "        vertical-align: middle;\n",
       "    }\n",
       "\n",
       "    .dataframe tbody tr th {\n",
       "        vertical-align: top;\n",
       "    }\n",
       "\n",
       "    .dataframe thead th {\n",
       "        text-align: right;\n",
       "    }\n",
       "</style>\n",
       "<table border=\"1\" class=\"dataframe\">\n",
       "  <thead>\n",
       "    <tr style=\"text-align: right;\">\n",
       "      <th></th>\n",
       "      <th>movie_id</th>\n",
       "      <th>title</th>\n",
       "      <th>tags</th>\n",
       "    </tr>\n",
       "  </thead>\n",
       "  <tbody>\n",
       "    <tr>\n",
       "      <th>0</th>\n",
       "      <td>19995</td>\n",
       "      <td>Avatar</td>\n",
       "      <td>[In, the, 22nd, century,, a, paraplegic, Marin...</td>\n",
       "    </tr>\n",
       "    <tr>\n",
       "      <th>1</th>\n",
       "      <td>285</td>\n",
       "      <td>Pirates of the Caribbean: At World's End</td>\n",
       "      <td>[Captain, Barbossa,, long, believed, to, be, d...</td>\n",
       "    </tr>\n",
       "    <tr>\n",
       "      <th>2</th>\n",
       "      <td>206647</td>\n",
       "      <td>Spectre</td>\n",
       "      <td>[A, cryptic, message, from, Bond’s, past, send...</td>\n",
       "    </tr>\n",
       "    <tr>\n",
       "      <th>3</th>\n",
       "      <td>49026</td>\n",
       "      <td>The Dark Knight Rises</td>\n",
       "      <td>[Following, the, death, of, District, Attorney...</td>\n",
       "    </tr>\n",
       "  </tbody>\n",
       "</table>\n",
       "</div>"
      ],
      "text/plain": [
       "   movie_id                                     title  \\\n",
       "0     19995                                    Avatar   \n",
       "1       285  Pirates of the Caribbean: At World's End   \n",
       "2    206647                                   Spectre   \n",
       "3     49026                     The Dark Knight Rises   \n",
       "\n",
       "                                                tags  \n",
       "0  [In, the, 22nd, century,, a, paraplegic, Marin...  \n",
       "1  [Captain, Barbossa,, long, believed, to, be, d...  \n",
       "2  [A, cryptic, message, from, Bond’s, past, send...  \n",
       "3  [Following, the, death, of, District, Attorney...  "
      ]
     },
     "execution_count": 40,
     "metadata": {},
     "output_type": "execute_result"
    }
   ],
   "source": [
    "new_df.head(4)"
   ]
  },
  {
   "cell_type": "code",
   "execution_count": 41,
   "id": "2b2076fe",
   "metadata": {},
   "outputs": [
    {
     "name": "stderr",
     "output_type": "stream",
     "text": [
      "C:\\Users\\user\\AppData\\Local\\Temp\\ipykernel_5500\\4121977081.py:1: SettingWithCopyWarning: \n",
      "A value is trying to be set on a copy of a slice from a DataFrame.\n",
      "Try using .loc[row_indexer,col_indexer] = value instead\n",
      "\n",
      "See the caveats in the documentation: https://pandas.pydata.org/pandas-docs/stable/user_guide/indexing.html#returning-a-view-versus-a-copy\n",
      "  new_df[\"tags\"]= new_df[\"tags\"].apply(lambda x:\" \".join(x))\n"
     ]
    }
   ],
   "source": [
    "new_df[\"tags\"]= new_df[\"tags\"].apply(lambda x:\" \".join(x))"
   ]
  },
  {
   "cell_type": "code",
   "execution_count": 42,
   "id": "192efb65",
   "metadata": {},
   "outputs": [
    {
     "data": {
      "text/html": [
       "<div>\n",
       "<style scoped>\n",
       "    .dataframe tbody tr th:only-of-type {\n",
       "        vertical-align: middle;\n",
       "    }\n",
       "\n",
       "    .dataframe tbody tr th {\n",
       "        vertical-align: top;\n",
       "    }\n",
       "\n",
       "    .dataframe thead th {\n",
       "        text-align: right;\n",
       "    }\n",
       "</style>\n",
       "<table border=\"1\" class=\"dataframe\">\n",
       "  <thead>\n",
       "    <tr style=\"text-align: right;\">\n",
       "      <th></th>\n",
       "      <th>movie_id</th>\n",
       "      <th>title</th>\n",
       "      <th>tags</th>\n",
       "    </tr>\n",
       "  </thead>\n",
       "  <tbody>\n",
       "    <tr>\n",
       "      <th>0</th>\n",
       "      <td>19995</td>\n",
       "      <td>Avatar</td>\n",
       "      <td>In the 22nd century, a paraplegic Marine is di...</td>\n",
       "    </tr>\n",
       "    <tr>\n",
       "      <th>1</th>\n",
       "      <td>285</td>\n",
       "      <td>Pirates of the Caribbean: At World's End</td>\n",
       "      <td>Captain Barbossa, long believed to be dead, ha...</td>\n",
       "    </tr>\n",
       "    <tr>\n",
       "      <th>2</th>\n",
       "      <td>206647</td>\n",
       "      <td>Spectre</td>\n",
       "      <td>A cryptic message from Bond’s past sends him o...</td>\n",
       "    </tr>\n",
       "    <tr>\n",
       "      <th>3</th>\n",
       "      <td>49026</td>\n",
       "      <td>The Dark Knight Rises</td>\n",
       "      <td>Following the death of District Attorney Harve...</td>\n",
       "    </tr>\n",
       "    <tr>\n",
       "      <th>4</th>\n",
       "      <td>49529</td>\n",
       "      <td>John Carter</td>\n",
       "      <td>John Carter is a war-weary, former military ca...</td>\n",
       "    </tr>\n",
       "  </tbody>\n",
       "</table>\n",
       "</div>"
      ],
      "text/plain": [
       "   movie_id                                     title  \\\n",
       "0     19995                                    Avatar   \n",
       "1       285  Pirates of the Caribbean: At World's End   \n",
       "2    206647                                   Spectre   \n",
       "3     49026                     The Dark Knight Rises   \n",
       "4     49529                               John Carter   \n",
       "\n",
       "                                                tags  \n",
       "0  In the 22nd century, a paraplegic Marine is di...  \n",
       "1  Captain Barbossa, long believed to be dead, ha...  \n",
       "2  A cryptic message from Bond’s past sends him o...  \n",
       "3  Following the death of District Attorney Harve...  \n",
       "4  John Carter is a war-weary, former military ca...  "
      ]
     },
     "execution_count": 42,
     "metadata": {},
     "output_type": "execute_result"
    }
   ],
   "source": [
    "new_df.head()"
   ]
  },
  {
   "cell_type": "code",
   "execution_count": 43,
   "id": "110a5685",
   "metadata": {},
   "outputs": [
    {
     "data": {
      "text/plain": [
       "'In the 22nd century, a paraplegic Marine is dispatched to the moon Pandora on a unique mission, but becomes torn between following orders and protecting an alien civilization. Action Adventure Fantasy ScienceFiction cultureclash future spacewar spacecolony society spacetravel futuristic romance space alien tribe alienplanet cgi marine soldier battle loveaffair antiwar powerrelations mindandsoul 3d SamWorthington ZoeSaldana SigourneyWeaver JamesCameron'"
      ]
     },
     "execution_count": 43,
     "metadata": {},
     "output_type": "execute_result"
    }
   ],
   "source": [
    "new_df[\"tags\"][0]"
   ]
  },
  {
   "cell_type": "code",
   "execution_count": 44,
   "id": "16ebe21c",
   "metadata": {},
   "outputs": [
    {
     "name": "stderr",
     "output_type": "stream",
     "text": [
      "C:\\Users\\user\\AppData\\Local\\Temp\\ipykernel_5500\\1634414329.py:1: SettingWithCopyWarning: \n",
      "A value is trying to be set on a copy of a slice from a DataFrame.\n",
      "Try using .loc[row_indexer,col_indexer] = value instead\n",
      "\n",
      "See the caveats in the documentation: https://pandas.pydata.org/pandas-docs/stable/user_guide/indexing.html#returning-a-view-versus-a-copy\n",
      "  new_df[\"tags\"]= new_df[\"tags\"].apply(lambda x:x.lower())\n"
     ]
    }
   ],
   "source": [
    "new_df[\"tags\"]= new_df[\"tags\"].apply(lambda x:x.lower())"
   ]
  },
  {
   "cell_type": "code",
   "execution_count": 45,
   "id": "344e2def",
   "metadata": {},
   "outputs": [
    {
     "data": {
      "text/html": [
       "<div>\n",
       "<style scoped>\n",
       "    .dataframe tbody tr th:only-of-type {\n",
       "        vertical-align: middle;\n",
       "    }\n",
       "\n",
       "    .dataframe tbody tr th {\n",
       "        vertical-align: top;\n",
       "    }\n",
       "\n",
       "    .dataframe thead th {\n",
       "        text-align: right;\n",
       "    }\n",
       "</style>\n",
       "<table border=\"1\" class=\"dataframe\">\n",
       "  <thead>\n",
       "    <tr style=\"text-align: right;\">\n",
       "      <th></th>\n",
       "      <th>movie_id</th>\n",
       "      <th>title</th>\n",
       "      <th>tags</th>\n",
       "    </tr>\n",
       "  </thead>\n",
       "  <tbody>\n",
       "    <tr>\n",
       "      <th>0</th>\n",
       "      <td>19995</td>\n",
       "      <td>Avatar</td>\n",
       "      <td>in the 22nd century, a paraplegic marine is di...</td>\n",
       "    </tr>\n",
       "    <tr>\n",
       "      <th>1</th>\n",
       "      <td>285</td>\n",
       "      <td>Pirates of the Caribbean: At World's End</td>\n",
       "      <td>captain barbossa, long believed to be dead, ha...</td>\n",
       "    </tr>\n",
       "    <tr>\n",
       "      <th>2</th>\n",
       "      <td>206647</td>\n",
       "      <td>Spectre</td>\n",
       "      <td>a cryptic message from bond’s past sends him o...</td>\n",
       "    </tr>\n",
       "    <tr>\n",
       "      <th>3</th>\n",
       "      <td>49026</td>\n",
       "      <td>The Dark Knight Rises</td>\n",
       "      <td>following the death of district attorney harve...</td>\n",
       "    </tr>\n",
       "    <tr>\n",
       "      <th>4</th>\n",
       "      <td>49529</td>\n",
       "      <td>John Carter</td>\n",
       "      <td>john carter is a war-weary, former military ca...</td>\n",
       "    </tr>\n",
       "  </tbody>\n",
       "</table>\n",
       "</div>"
      ],
      "text/plain": [
       "   movie_id                                     title  \\\n",
       "0     19995                                    Avatar   \n",
       "1       285  Pirates of the Caribbean: At World's End   \n",
       "2    206647                                   Spectre   \n",
       "3     49026                     The Dark Knight Rises   \n",
       "4     49529                               John Carter   \n",
       "\n",
       "                                                tags  \n",
       "0  in the 22nd century, a paraplegic marine is di...  \n",
       "1  captain barbossa, long believed to be dead, ha...  \n",
       "2  a cryptic message from bond’s past sends him o...  \n",
       "3  following the death of district attorney harve...  \n",
       "4  john carter is a war-weary, former military ca...  "
      ]
     },
     "execution_count": 45,
     "metadata": {},
     "output_type": "execute_result"
    }
   ],
   "source": [
    "new_df.head()"
   ]
  },
  {
   "cell_type": "code",
   "execution_count": 46,
   "id": "48da3e8c",
   "metadata": {},
   "outputs": [],
   "source": [
    "import nltk"
   ]
  },
  {
   "cell_type": "code",
   "execution_count": 47,
   "id": "038171b4",
   "metadata": {},
   "outputs": [],
   "source": [
    "from nltk.stem.porter import PorterStemmer\n",
    "ps = PorterStemmer()"
   ]
  },
  {
   "cell_type": "code",
   "execution_count": 48,
   "id": "8c44e3b5",
   "metadata": {},
   "outputs": [],
   "source": [
    "def stem(text):\n",
    "    y=[]\n",
    "    \n",
    "    for i in text.split():\n",
    "        y.append(ps.stem(i))\n",
    "    \n",
    "    return \" \".join(y)\n"
   ]
  },
  {
   "cell_type": "code",
   "execution_count": 49,
   "id": "3214bf6b",
   "metadata": {},
   "outputs": [
    {
     "name": "stderr",
     "output_type": "stream",
     "text": [
      "C:\\Users\\user\\AppData\\Local\\Temp\\ipykernel_5500\\447794818.py:1: SettingWithCopyWarning: \n",
      "A value is trying to be set on a copy of a slice from a DataFrame.\n",
      "Try using .loc[row_indexer,col_indexer] = value instead\n",
      "\n",
      "See the caveats in the documentation: https://pandas.pydata.org/pandas-docs/stable/user_guide/indexing.html#returning-a-view-versus-a-copy\n",
      "  new_df[\"tags\"]= new_df[\"tags\"].apply(stem)\n"
     ]
    }
   ],
   "source": [
    "new_df[\"tags\"]= new_df[\"tags\"].apply(stem)"
   ]
  },
  {
   "cell_type": "code",
   "execution_count": 50,
   "id": "ed1813d6",
   "metadata": {},
   "outputs": [],
   "source": [
    "from sklearn.feature_extraction.text import CountVectorizer\n",
    "\n",
    "cv = CountVectorizer(max_features=5000, stop_words=\"english\")"
   ]
  },
  {
   "cell_type": "code",
   "execution_count": 51,
   "id": "1f54e55e",
   "metadata": {},
   "outputs": [],
   "source": [
    "vectors = cv.fit_transform(new_df[\"tags\"]).toarray()"
   ]
  },
  {
   "cell_type": "code",
   "execution_count": 52,
   "id": "b14e2e58",
   "metadata": {},
   "outputs": [
    {
     "name": "stdout",
     "output_type": "stream",
     "text": [
      "['000' '007' '10' '100' '11' '12' '13' '14' '15' '16' '17' '17th' '18'\n",
      " '18th' '18thcenturi' '19' '1910' '1920' '1930' '1940' '1944' '1950'\n",
      " '1950s' '1960' '1960s' '1970' '1970s' '1971' '1974' '1976' '1980' '1985'\n",
      " '1990' '1999' '19th' '19thcenturi' '20' '200' '2003' '2009' '20th' '21st'\n",
      " '23' '24' '25' '30' '300' '3d' '40' '50' '500' '60' '70' '80' 'aaron'\n",
      " 'aaroneckhart' 'abandon' 'abduct' 'abigailbreslin' 'abil' 'abl' 'aboard'\n",
      " 'abov' 'abus' 'academ' 'academi' 'accept' 'access' 'accid' 'accident'\n",
      " 'acclaim' 'accompani' 'accomplish' 'account' 'accus' 'ace' 'achiev'\n",
      " 'acquaint' 'act' 'action' 'actionhero' 'activ' 'activist' 'activities'\n",
      " 'actor' 'actress' 'actual' 'ad' 'adam' 'adamsandl' 'adamshankman' 'adapt'\n",
      " 'add' 'addict' 'adjust' 'admir' 'admit' 'adolesc' 'adopt' 'ador'\n",
      " 'adrienbrodi' 'adult' 'adultanim' 'adulteri' 'adulthood' 'advanc'\n",
      " 'adventur' 'adventure' 'adventures' 'advertis' 'advic' 'advis' 'affair'\n",
      " 'affect' 'afghanistan' 'africa' 'african' 'africanamerican'\n",
      " 'aftercreditssting' 'afterlif' 'aftermath' 'ag' 'age' 'agediffer' 'agenc'\n",
      " 'agency' 'agenda' 'agent' 'agents' 'aggress' 'ago' 'agre' 'ahead' 'aid'\n",
      " 'aidanquinn' 'ail' 'aim' 'air' 'airplan' 'airplanecrash' 'airport' 'aka'\n",
      " 'al' 'alabama' 'alan' 'alaska' 'albert' 'alcatraz' 'alcohol'\n",
      " 'alecbaldwin' 'alex' 'alexkendrick' 'alfredhitchcock' 'alfredmolina'\n",
      " 'ali' 'alic' 'alice' 'alien' 'alieninvas' 'alienlife' 'alienplanet'\n",
      " 'aliens' 'alik' 'aliv' 'alive' 'allen' 'alli' 'allianc' 'allow' 'alon'\n",
      " 'alongsid' 'alpacino' 'alpha' 'alreadi' 'alter' 'altern' 'alway' 'alyssa'\n",
      " 'alzheimer' 'amanda' 'amandapeet' 'amandaseyfri' 'amateur' 'amaz'\n",
      " 'ambassador' 'ambit' 'ambiti' 'ambul' 'ambush' 'america' 'american'\n",
      " 'americanabroad' 'americancivilwar' 'americanfootbal'\n",
      " 'americanfootballplay' 'amid' 'amidst' 'amnesia' 'amp' 'amsterdam' 'amus'\n",
      " 'amusementpark' 'amy' 'amyadam' 'amysmart' 'ana' 'anakin' 'analyst'\n",
      " 'anarchiccomedi' 'ancient' 'ancientrom' 'ancientworld' 'anderson' 'andi'\n",
      " 'andiemacdowel' 'andrew' 'android' 'andy' 'andygarcía' 'angel' 'angela'\n",
      " 'angelabassett' 'angeles' 'angelinajoli' 'anger' 'angle' 'angri' 'ani'\n",
      " 'anim' 'animalattack' 'animalhorror' 'animals' 'anjelicahuston' 'ann'\n",
      " 'anna' 'annafari' 'annakendrick' 'anne' 'annehathaway' 'annemoss'\n",
      " 'annetteben' 'anni' 'annie' 'anniversari' 'announc' 'annual' 'anonym'\n",
      " 'anoth' 'answer' 'ant' 'antholog' 'anthoni' 'anthonyanderson'\n",
      " 'anthonyhopkin' 'anthonymacki' 'anthropomorph' 'anti' 'antic' 'antihero'\n",
      " 'antiqu' 'antoinefuqua' 'antoniobandera' 'antonyelchin' 'anyon' 'anyth'\n",
      " 'apart' 'apartheid' 'apartment' 'ape' 'apocalyps' 'apocalypse'\n",
      " 'apocalypt' 'appar' 'appear' 'appl' 'apple' 'appoint' 'appreci'\n",
      " 'apprentic' 'approach' 'april' 'aquarium' 'arab' 'arch' 'archaeologist'\n",
      " 'archeolog' 'archer' 'architect' 'arctic' 'area' 'aren' 'arena'\n",
      " 'argument' 'aris' 'aristocrat' 'arm' 'armi' 'armor' 'armsdeal' 'army'\n",
      " 'arnold' 'arnoldschwarzenegg' 'arrang' 'arrangedmarriag' 'arrest' 'arriv'\n",
      " 'arrog' 'art' 'arthur' 'artifact' 'artifici' 'artificialintellig'\n",
      " 'artist' 'ash' 'ashley' 'ashleyjudd' 'ashtonkutch' 'asia' 'asian' 'asid'\n",
      " 'ask' 'aspect' 'aspir' 'assassin' 'assault' 'assembl' 'assign' 'assist'\n",
      " 'assistant' 'associ' 'assum' 'asteroid' 'astronaut' 'asylum' 'atheist'\n",
      " 'athlet' 'atom' 'atomicbomb' 'attack' 'attacks' 'attempt'\n",
      " 'attempttoescap' 'attend' 'attent' 'attic' 'attitud' 'attorney' 'attract'\n",
      " 'auction' 'audienc' 'audit' 'august' 'aunt' 'austin' 'australia'\n",
      " 'australian' 'author' 'autism' 'auto' 'automobilerac' 'aveng' 'averag'\n",
      " 'avoid' 'await' 'awak' 'awaken' 'awar' 'award' 'away' 'awkward' 'awri'\n",
      " 'awry' 'ax' 'babe' 'babi' 'baby' 'bachelor' 'backdrop' 'background'\n",
      " 'backpack' 'bad' 'bag' 'bahama' 'bail' 'balanc' 'ball' 'ballet' 'balloon'\n",
      " 'baltimor' 'ban' 'band' 'bandit' 'bangkok' 'banish' 'bank' 'banker'\n",
      " 'bankrobb' 'bankrobberi' 'bar' 'barbrastreisand' 'bare' 'bargain' 'barn'\n",
      " 'barney' 'baron' 'barri' 'barrylevinson' 'barrysonnenfeld' 'bas' 'base'\n",
      " 'basebal' 'basedoncomicbook' 'basedongraphicnovel' 'basedonnovel'\n",
      " 'basedonplay' 'basedonstagemus' 'basedontrueev' 'basedontruestori'\n",
      " 'basedontvseri' 'basedonvideogam' 'basedonyoungadultnovel' 'basement'\n",
      " 'basketbal' 'basketball' 'bat' 'batman' 'battl' 'battle' 'battlefield'\n",
      " 'bay' 'beach' 'beam' 'bear' 'beard' 'beast' 'beat' 'beauti' 'beautiful'\n",
      " 'beautifulwoman' 'beauty' 'becam' 'becaus' 'becki' 'becom'\n",
      " 'becominganadult' 'bed' 'bedroom' 'bee' 'beer' 'befor' 'befriend' 'began'\n",
      " 'begin' 'begins' 'behavior' 'belief' 'believ' 'bell' 'bella' 'belong'\n",
      " 'belov' 'ben' 'benaffleck' 'bend' 'beneath' 'benefit' 'benfost'\n",
      " 'beniciodeltoro' 'benjamin' 'benjaminbratt' 'benkingsley' 'bennett'\n",
      " 'benstil' 'bent' 'berlin' 'best' 'bestfriend' 'bestfriendsinlov' 'bet'\n",
      " 'beth' 'betray' 'bettemidl' 'better' 'betti' 'beverli' 'bibl' 'bid' 'big'\n",
      " 'bigger' 'biggest' 'bike' 'biker' 'bikini' 'billhad' 'billi' 'billionair'\n",
      " 'billmurray' 'billnighi' 'billpaxton' 'billpullman' 'billybobthornton'\n",
      " 'billycrudup' 'billycryst' 'biographi' 'biolog' 'bird' 'birth' 'birthday'\n",
      " 'bisexu' 'bishop' 'bit' 'bite' 'bitter' 'bizarr' 'black' 'blackmag'\n",
      " 'blackmail' 'blackpeopl' 'blacksmith' 'blade' 'blame' 'blend' 'blind'\n",
      " 'bliss' 'blizzard' 'block' 'blond' 'blood' 'bloodi' 'bloodsplatt'\n",
      " 'bloodthirsti' 'blow' 'blue' 'board' 'boardingschool' 'boat' 'bob'\n",
      " 'bobbi' 'bobbyfarrelli' 'bobhoskin' 'bodi' 'body' 'bodyguard' 'bold'\n",
      " 'bollywood' 'bomb' 'bond' 'bone' 'book' 'border' 'bore' 'boredom' 'born'\n",
      " 'boss' 'boston' 'botch' 'bound' 'boundari' 'bounti' 'bountyhunt' 'bout'\n",
      " 'box' 'boxer' 'boy' 'boyfriend' 'boys' 'bradleycoop' 'bradpitt' 'brain'\n",
      " 'brainwash' 'brand' 'brandon' 'brave' 'braveri' 'brazil' 'brazilian'\n",
      " 'break' 'breakdown' 'breakup' 'breast' 'breath' 'breed' 'brendanfras'\n",
      " 'brendangleeson' 'brent' 'brettratn' 'brian' 'briandepalma' 'bride'\n",
      " 'bridesmaid' 'bridg' 'brief' 'brielarson' 'brien' 'bright' 'brilliant'\n",
      " 'bring' 'brink' 'britain' 'british' 'britishsecretservic'\n",
      " 'brittanymurphi' 'broadcast' 'broadway' 'broke' 'broken' 'broker' 'bronx'\n",
      " 'brook' 'brooklyn' 'broom' 'brothel' 'brother'\n",
      " 'brotherbrotherrelationship' 'brothers' 'brothersisterrelationship'\n",
      " 'brought' 'brown' 'bruce' 'brucegreenwood' 'brucewilli' 'brutal'\n",
      " 'bryansing' 'bu' 'buck' 'bud' 'buddi' 'buddy' 'buddycomedi' 'buddycop'\n",
      " 'budget' 'build' 'building' 'built' 'bullet' 'bulli' 'bumbl' 'bunch'\n",
      " 'bunker' 'bunni' 'burglar' 'buri' 'burn' 'bush' 'busi' 'business'\n",
      " 'businessman' 'bust' 'butcher' 'butler' 'butt' 'button' 'buy' 'buzz'\n",
      " 'cabin' 'caesar' 'cage' 'cairo' 'cal' 'california' 'calvin' 'camcord'\n",
      " 'came' 'camera' 'cameraman' 'camerondiaz' 'camp' 'campaign' 'campbell'\n",
      " 'campu' 'canada' 'canadian' 'cancer' 'candi' 'candid' 'canin' 'cannib'\n",
      " 'canuxploit' 'capabl' 'caper' 'capit' 'capt' 'captain' 'captiv' 'captur'\n",
      " 'capture' 'car' 'caraccid' 'carchas' 'carcrash' 'card' 'care' 'career'\n",
      " 'carefre' 'caretak' 'careymulligan' 'caribbean' 'carjourney' 'carl'\n",
      " 'carlagugino' 'carmen' 'carol' 'carolina' 'carrac' 'carri' 'carrie'\n",
      " 'cartel' 'carter' 'cartoon' 'caryelw' 'case' 'caseyaffleck' 'cash'\n",
      " 'casino' 'cast' 'castl' 'cat' 'cataclysm' 'catastroph' 'catch'\n",
      " 'cateblanchett' 'catherinedeneuv' 'catherinekeen' 'catherinezeta'\n",
      " 'cathol' 'catholic' 'cattl' 'caught' 'caus' 'cavalri' 'cave' 'cavemen'\n",
      " 'celebr' 'celebration' 'cell' 'cellphon' 'cemeteri' 'center' 'centr'\n",
      " 'central' 'centuri' 'centuries' 'century' 'ceo' 'certain' 'chad' 'chain'\n",
      " 'chainsaw' 'challeng' 'chamber' 'champion' 'championship' 'chanc'\n",
      " 'chance' 'chang' 'change' 'changed' 'changes' 'channingtatum' 'chao'\n",
      " 'chaos' 'chaotic' 'chapter' 'charact' 'character' 'characters' 'charg'\n",
      " 'charismat' 'charl' 'charli' 'charlie' 'charliesheen' 'charlizetheron'\n",
      " 'charm' 'chart' 'chase' 'chauffeur' 'chazzpalminteri' 'cheat' 'check'\n",
      " 'cheerlead' 'chef' 'chemic' 'cher' 'chevychas' 'chicago' 'chicken'\n",
      " 'chief' 'child' 'childabus' 'childhero' 'childhood' 'childprodigi'\n",
      " 'children' 'chill' 'chimp' 'china' 'chines' 'chip' 'chipmunk'\n",
      " 'chiwetelejiofor' 'chloe' 'chloëgracemoretz' 'chloësevigni' 'chocol'\n",
      " 'choic' 'choice' 'choos' 'chosen' 'chowyun' 'chri' 'chriscolumbu'\n",
      " 'chriscoop' 'chrisevan' 'chrishemsworth' 'chrisklein' 'chrispin'\n",
      " 'chrisrock' 'christ' 'christian' 'christianbal' 'christianslat'\n",
      " 'christin' 'christinaappleg' 'christinaricci' 'christma' 'christmas'\n",
      " 'christmasparti' 'christmastre' 'christoph' 'christopherlambert'\n",
      " 'christopherlloyd' 'christophernolan' 'christopherplumm'\n",
      " 'christopherwalken' 'christophwaltz' 'chrisweitz' 'chronicl' 'chuck'\n",
      " 'church' 'cia' 'ciaránhind' 'cigarettesmok' 'cillianmurphi' 'cinema'\n",
      " 'circl' 'circu' 'circuit' 'circumst' 'citi' 'citizen' 'city' 'civil'\n",
      " 'civilian' 'civilwar' 'claim' 'clair' 'clairedan' 'claireforlani' 'clan'\n",
      " 'clark' 'clash' 'class' 'classdiffer' 'classic' 'classmat' 'classroom'\n",
      " 'claudevandamm' 'clay' 'clean' 'clear' 'clerk' 'clever' 'client'\n",
      " 'clients' 'cliff' 'climat' 'climb' 'clinteastwood' 'cliveowen' 'clock'\n",
      " 'clone' 'close' 'closer' 'cloud' 'clown' 'club' 'clue' 'clueless'\n",
      " 'clutch' 'coach' 'coast' 'cocain' 'code' 'coffin' 'cohen' 'col' 'cold'\n",
      " 'coldwar' 'cole' 'colin' 'colinfarrel' 'colinfirth' 'collaps' 'colleagu'\n",
      " 'collect' 'collector' 'colleg' 'college' 'collid' 'collis' 'colombia'\n",
      " 'colonel' 'coloni' 'color' 'colorado' 'coma' 'combat' 'combin' 'come'\n",
      " 'comeback' 'comed' 'comedi' 'comedian' 'comedy' 'comet' 'comfort' 'comic'\n",
      " 'coming' 'comingofag' 'comingout' 'command' 'commando' 'commerci'\n",
      " 'commiss' 'commit' 'common' 'commun' 'communist' 'community' 'compani'\n",
      " 'companion' 'company' 'compet' 'competit' 'competition' 'complet'\n",
      " 'complex' 'complic' 'compos' 'compuls' 'comput' 'computerviru' 'conan'\n",
      " 'concern' 'concert' 'concoct' 'condit' 'condition' 'conduct' 'confeder'\n",
      " 'confess' 'confid' 'confin' 'conflict' 'confront' 'confus' 'congress'\n",
      " 'conman' 'connect' 'connecticut' 'connel' 'connor' 'conquer' 'consequ'\n",
      " 'consequences' 'conserv' 'consid' 'conspir' 'conspiraci' 'conspiracy'\n",
      " 'constant' 'constantli' 'construct' 'consum' 'contact' 'contain'\n",
      " 'contemporari' 'contend' 'content' 'contest' 'continu' 'contract'\n",
      " 'contractor' 'control' 'controversi' 'convent' 'converg' 'convers'\n",
      " 'convict' 'convinc' 'cook' 'cool' 'cooper' 'cop' 'cope' 'cops' 'core'\n",
      " 'corner' 'corp' 'corpor' 'corporation' 'corps' 'corrupt' 'cost' 'costum'\n",
      " 'couldn' 'counselor' 'count' 'countess' 'countless' 'countri' 'country'\n",
      " 'countryhous' 'countrymus' 'countrysid' 'coup' 'coupl' 'couple' 'courag'\n",
      " 'cours' 'court' 'courtcas' 'courteneycox' 'courtroom' 'cousin' 'cover'\n",
      " 'covert' 'covet' 'cow' 'cowardli' 'cowboy' 'crab' 'crack' 'craft' 'craig'\n",
      " 'crane' 'crash' 'crave' 'crazi' 'creat' 'creation' 'creativ' 'creator'\n",
      " 'creatur' 'creature' 'creatures' 'credit' 'creepi' 'crew' 'cri' 'crime'\n",
      " 'crimefight' 'crimes' 'crimin' 'criminal' 'criminals' 'crisi' 'crisis'\n",
      " 'critic' 'crocodil' 'crook' 'cross' 'crossdress' 'crowd' 'crown'\n",
      " 'crucifixion' 'cruel' 'cruelti' 'cruis' 'crusad' 'crush' 'crystal' 'cuba'\n",
      " 'cubagoodingjr' 'culmin' 'cult' 'cultfilm' 'cultur' 'culture'\n",
      " 'cultureclash' 'cun' 'cup' 'cure' 'current' 'curs' 'curse' 'curtishanson'\n",
      " 'custodi' 'custom' 'cut' 'cuttingthecord' 'cyberpunk' 'cyborg' 'cynic'\n",
      " 'dad' 'daili' 'dakotafan' 'dale' 'damag' 'damon' 'dan' 'danaykroyd'\n",
      " 'danc' 'dancer' 'danger' 'daniel' 'danielcraig' 'danielday'\n",
      " 'danielradcliff' 'danni' 'danny' 'dannyboyl' 'dannydevito' 'dannyglov'\n",
      " 'dare' 'dark' 'darkcomedi' 'darkest' 'darkness' 'darylhannah' 'dash'\n",
      " 'date' 'daughter' 'daughters' 'dave' 'davi' 'david' 'davidarquett'\n",
      " 'davidcronenberg' 'davidduchovni' 'davidfinch' 'davidgordongreen'\n",
      " 'davidmors' 'davido' 'davidschwimm' 'davidspad' 'davidthewli' 'dawn'\n",
      " 'daxshepard' 'day' 'daydream' 'days' 'dc' 'dccomic' 'dea' 'dead' 'deadli'\n",
      " 'deadliest' 'deaf' 'deal' 'dealer' 'dean' 'death' 'deathofafriend'\n",
      " 'deathoffath' 'deathpenalti' 'debt' 'debut' 'decad' 'decapit' 'deceas'\n",
      " 'deceit' 'decept' 'decid' 'decis' 'declar' 'dedic' 'deed' 'deep' 'deeper'\n",
      " 'deepli' 'defeat' 'defend' 'defens' 'defi' 'defin' 'delight' 'deliv'\n",
      " 'deliveri' 'delus' 'demand' 'demimoor' 'demon' 'demonicpossess' 'demons'\n",
      " 'deni' 'deniserichard' 'denmark' 'denni' 'dennisdugan' 'dennishopp'\n",
      " 'dennisquaid' 'dentist' 'denzelwashington' 'depart' 'depend' 'depict'\n",
      " 'depress' 'depth' 'deputi' 'derang' 'derek' 'derekluk' 'descend'\n",
      " 'describ' 'desert' 'design' 'desir' 'desk' 'desol' 'despair' 'desper'\n",
      " 'despit' 'destin' 'destini' 'destiny' 'destroy' 'destroyed' 'destruct'\n",
      " 'destruction' 'detect' 'detective' 'determin' 'detroit' 'devast'\n",
      " 'develop' 'devic' 'devil' 'deviou' 'devis' 'devot' 'diabol' 'diagnos'\n",
      " 'dialogu' 'diamond' 'dian' 'dianekeaton' 'dianekrug' 'dianelan' 'diari'\n",
      " 'dick' 'dictat' 'did' 'didn' 'die' 'died' 'diego' 'dies' 'differ'\n",
      " 'different' 'difficult' 'difficulti' 'dig' 'dilemma' 'diner' 'dinner'\n",
      " 'dinosaur' 'diplomat' 'dire' 'direct' 'director' 'dirt' 'dirti'\n",
      " 'dirtycop' 'disabl' 'disappear' 'disappears' 'disast' 'disaster'\n",
      " 'disastr' 'discov' 'discoveri' 'diseas' 'disease' 'disfigur' 'disgrac'\n",
      " 'disguis' 'dishonesti' 'disillus' 'disney' 'disord' 'dispatch' 'disrupt'\n",
      " 'distant' 'district' 'distrust' 'disturb' 'ditch' 'diva' 'dive' 'divid'\n",
      " 'divis' 'divorc' 'divorce' 'dj' 'dna' 'doc' 'doctor' 'document'\n",
      " 'documentari' 'dodg' 'doe' 'doesn' 'dog' 'doll' 'dollar' 'dolphin'\n",
      " 'dolphlundgren' 'domest' 'domin' 'don' 'donaldpetri' 'donaldsutherland'\n",
      " 'doncheadl' 'donnel' 'doom' 'doomsday' 'door' 'doorstep' 'doppelgang'\n",
      " 'dorothi' 'doubl' 'double' 'doublecross' 'doublelif' 'doubt' 'doug'\n",
      " 'dougliman' 'dr' 'dracula' 'drag' 'dragon' 'drama' 'dramat' 'draw'\n",
      " 'drawn' 'dread' 'dream' 'dreams' 'dress' 'drew' 'drewbarrymor' 'drift'\n",
      " 'drifter' 'drink' 'drive' 'driven' 'driver' 'drone' 'drop' 'drown' 'drug'\n",
      " 'drugabus' 'drugaddict' 'drugdeal' 'druglord' 'drugs' 'drugsmuggl'\n",
      " 'drugtraff' 'drugus' 'drunk' 'drunken' 'du' 'dualident' 'dub' 'duck'\n",
      " 'dude' 'duel' 'duke' 'dump' 'duo' 'dure' 'duringcreditssting'\n",
      " 'dustinhoffman' 'dutch' 'duti' 'dwarv' 'dwaynejohnson' 'dyinganddeath'\n",
      " 'dylan' 'dynam' 'dynasti' 'dysfunct' 'dysfunctionalfamili' 'dystopia'\n",
      " 'dystopicfutur' 'eager' 'earli' 'earlier' 'earn' 'earth' 'earthquak'\n",
      " 'easi' 'easili' 'east' 'eat' 'eccentr' 'econom' 'economi' 'eddi'\n",
      " 'eddiegriffin' 'eddiemurphi' 'edg' 'edgar' 'edharri' 'editor' 'educ'\n",
      " 'edward' 'edwardburn' 'edwardnorton' 'edwardzwick' 'effect' 'effort'\n",
      " 'egg' 'ego' 'egypt' 'egyptian' 'el' 'elabor' 'elderli' 'elect' 'element'\n",
      " 'eleph' 'elev' 'eliaskotea' 'elijahwood' 'elimin' 'elisabethshu' 'elit'\n",
      " 'elite' 'elizabeth' 'elizabethbank' 'ella' 'ellenburstyn' 'ellenpag'\n",
      " 'elli' 'elliot' 'elliott' 'els' 'elud' 'elus' 'elv' 'elvi' 'embark'\n",
      " 'embassi' 'embroil' 'emerg' 'emigr' 'emilehirsch' 'emili' 'emilyblunt'\n",
      " 'emilymortim' 'emilywatson' 'emma' 'emmarobert' 'emmaston' 'emmathompson'\n",
      " 'emmawatson' 'emot' 'emperor' 'empir' 'empire' 'employ' 'employe'\n",
      " 'employer' 'enabl' 'enchant' 'encount' 'encourag' 'end' 'endless'\n",
      " 'endoftheworld' 'endur' 'enemi' 'enemies' 'enemy' 'energi' 'enforc'\n",
      " 'engag' 'engin' 'england' 'english' 'enigmat' 'enjoy' 'enlist' 'enorm'\n",
      " 'enrol' 'ensemblecast' 'ensu' 'ensues' 'ensur' 'entangl' 'enter'\n",
      " 'enterpris' 'entertain' 'enthusiast' 'entir' 'entiti' 'environ'\n",
      " 'environment' 'epic' 'epidem' 'episod' 'equal' 'era' 'eric' 'ericbana'\n",
      " 'erin' 'ernest' 'erotic' 'erupt' 'escap' 'escapad' 'escape'\n",
      " 'escapefromprison' 'escort' 'especi' 'espionag' 'establish' 'estat'\n",
      " 'estrang' 'etern' 'ethan' 'ethanhawk' 'ethic' 'eugenelevi' 'europ'\n",
      " 'european' 'eva' 'evacu' 'evad' 'evamend' 'evanrachelwood' 'eve' 'event'\n",
      " 'events' 'eventu' 'eventually' 'everi' 'everybodi' 'everyday' 'everyon'\n",
      " 'everyth' 'evid' 'evil' 'evolut' 'evolv' 'ewanmcgregor' 'ex' 'exact'\n",
      " 'exactli' 'exam' 'examin' 'exchang' 'excit' 'exclus' 'execut' 'exercis'\n",
      " 'exhibit' 'exil' 'exist' 'existence' 'existenti' 'exorc' 'exot'\n",
      " 'exoticisland' 'expect' 'expected' 'expedit' 'experi' 'experienc'\n",
      " 'experience' 'experiment' 'expert' 'explain' 'explod' 'exploit' 'explor'\n",
      " 'explos' 'expos' 'extend' 'extra' 'extramaritalaffair' 'extraordinari'\n",
      " 'extraterrestri' 'extraterrestrialtechnolog' 'extrem' 'extremeviol' 'eye'\n",
      " 'eyes' 'fabl' 'fac' 'face' 'facil' 'fact' 'faction' 'factori' 'fade'\n",
      " 'fail' 'fairi' 'fairytal' 'faith' 'fake' 'falcon' 'fall' 'fallen'\n",
      " 'fallinginlov' 'fals' 'falseident' 'falselyaccus' 'fame' 'famili'\n",
      " 'families' 'family' 'familyconflict' 'familyrelationship' 'famkejanssen'\n",
      " 'famou' 'famous' 'fan' 'fanat' 'fangvamp' 'fans' 'fantasi' 'fantast'\n",
      " 'fantasyworld' 'far' 'farewel' 'farm' 'farmer' 'fascin' 'fashion' 'fast'\n",
      " 'faster' 'fat' 'fatal' 'fate' 'father' 'fatherdaughterrelationship'\n",
      " 'fathersonrelationship' 'favor' 'favorit' 'fbi' 'fbiagent' 'fear'\n",
      " 'fearless' 'fearsom' 'featur' 'fed' 'feder' 'feed' 'feel' 'feet' 'fellow'\n",
      " 'femal' 'female' 'femalecorps' 'femalefriendship' 'femalenud'\n",
      " 'femaleprotagonist' 'fend' 'festiv' 'festival' 'fetish' 'feud' 'fi'\n",
      " 'fiance' 'fiancé' 'fiction' 'fictionalplac' 'field' 'fierc' 'fifth'\n",
      " 'fight' 'fighter' 'figur' 'fil' 'file' 'film' 'filmdirector' 'filmmak'\n",
      " 'filmproduc' 'films' 'final' 'finale' 'financ' 'financi' 'fine' 'finish'\n",
      " 'finn' 'firemen' 'firework' 'firm' 'firsttim' 'fish' 'fisherman'\n",
      " 'fishoutofwat' 'fistfight' 'fit' 'fix' 'flame' 'flash' 'flashback' 'flat'\n",
      " 'fledgl' 'flee' 'flesh' 'fli' 'flight' 'fling' 'flint' 'flirt' 'flood'\n",
      " 'florida' 'florist' 'flower' 'flyingsauc' 'focu' 'focus' 'foe' 'foil'\n",
      " 'foley' 'folk' 'follow' 'food' 'foot' 'footag' 'footbal' 'footchas'\n",
      " 'forbidden' 'forbiddenlov' 'forc' 'force' 'forces' 'ford' 'foreign'\n",
      " 'forest' 'forestwhitak' 'forev' 'forever' 'forg' 'forget' 'forgiv' 'form'\n",
      " 'formid' 'formula' 'fort' 'fortun' 'fortune' 'fortunetel' 'forward'\n",
      " 'foster' 'fought' 'foundfootag' 'fourth' 'fox' 'frame' 'franc' 'france'\n",
      " 'francisco' 'francisfordcoppola' 'frank' 'frankcoraci' 'frankenstein'\n",
      " 'franki' 'frankoz' 'frantic' 'fratern' 'fraud' 'freak' 'fred' 'freddi'\n",
      " 'freddieprinzejr' 'free' 'freedom' 'freeman' 'freez' 'french' 'frequent'\n",
      " 'fresh' 'freshman' 'friend' 'friendli' 'friends' 'friendship' 'frighten'\n",
      " 'frog' 'fromragstorich' 'frontier' 'frozen' 'frustrat' 'fu' 'fuel'\n",
      " 'fugit' 'fulfil' 'fulli' 'fun' 'fund' 'funer' 'funeral' 'furiou' 'futur'\n",
      " 'future' 'futurist' 'fword' 'ga' 'gabriel' 'gabrielbyrn' 'gadget'\n",
      " 'gaelgarcíabern' 'gain' 'galaxi' 'galaxy' 'gambl' 'gambler' 'game'\n",
      " 'games' 'gandhi' 'gang' 'gangs' 'gangster' 'gangsterboss' 'gangwar'\n",
      " 'garag' 'garden' 'garfield' 'gari' 'garrymarshal' 'garygray' 'garyoldman'\n",
      " 'garysinis' 'gasstat' 'gate' 'gather' 'gave' 'gay' 'gayinterest'\n",
      " 'gayrelationship' 'genehackman' 'gener' 'general' 'generation' 'genet'\n",
      " 'geniu' 'genius' 'gentl' 'geoffreyrush' 'georg' 'george' 'georgea'\n",
      " 'georgeclooney' 'georgemil' 'georgia' 'gerardbutl' 'german' 'germani'\n",
      " 'germany' 'getaway' 'ghetto' 'ghost' 'giant' 'giantrobot' 'gift' 'gig'\n",
      " 'girl' 'girlfriend' 'girls' 'given' 'glamor' 'glass' 'glennclos' 'global'\n",
      " 'globe' 'glori' 'goal' 'god' 'goe' 'gold' 'golden' 'golf' 'gone' 'good'\n",
      " 'goodvsevil' 'gordon' 'gore' 'goreverbinski' 'gorgeou' 'gorilla' 'gossip'\n",
      " 'got' 'gotham' 'gothamc' 'gotten' 'govern' 'government' 'governor'\n",
      " 'grace' 'grad' 'grade' 'gradual' 'graduat' 'grand' 'grandfath'\n",
      " 'grandfather' 'grandmoth' 'grandmother' 'grant' 'grave' 'great' 'greater'\n",
      " 'greatest' 'greec' 'greed' 'greedi' 'greek' 'green' 'greg' 'gregkinnear'\n",
      " 'gregorypeck' 'grew' 'grief' 'griev' 'griffin' 'grim' 'grip' 'grisli'\n",
      " 'ground' 'group' 'groupoffriend' 'grow' 'growingup' 'grown' 'gruesom'\n",
      " 'gu' 'guard' 'guardian' 'guerrilla' 'guest' 'guid' 'guilt' 'guitar' 'gun'\n",
      " 'gunfight' 'gunman' 'gunsling' 'guru' 'gusvans' 'guy' 'guypearc'\n",
      " 'guyritchi' 'guys' 'gwynethpaltrow' 'gym' 'gypsi' 'ha' 'hack' 'hacker'\n",
      " 'hair' 'haleyjoelos' 'half' 'hall' 'halleberri' 'halloween' 'hallucin'\n",
      " 'han' 'hand' 'handl' 'hands' 'handsom' 'handtohandcombat' 'hang' 'hangov'\n",
      " 'hannah' 'hansel' 'hapless' 'happen' 'happens' 'happi' 'happili'\n",
      " 'happiness' 'happy' 'hara' 'harass' 'harbor' 'hard' 'harder' 'harlem'\n",
      " 'harmoni' 'harold' 'haroldrami' 'harri' 'harriet' 'harrison'\n",
      " 'harrisonford' 'harrow' 'harry' 'harsh' 'hart' 'harvard' 'harvey'\n",
      " 'harveykeitel' 'hasn' 'hatch' 'hate' 'hatr' 'haunt' 'hauntedhous' 'haven'\n",
      " 'havoc' 'hawaii' 'haydenchristensen' 'haze' 'head' 'headlin' 'heal'\n",
      " 'health' 'hear' 'heard' 'heart' 'heartattack' 'heartbreak' 'heat'\n",
      " 'heather' 'heathergraham' 'heathledg' 'heaven' 'heavi' 'heavili'\n",
      " 'heavymet' 'height' 'heir' 'heiress' 'heist' 'held' 'helen'\n",
      " 'helenabonhamcart' 'helenhunt' 'helenmirren' 'helicopt' 'hell' 'help'\n",
      " 'henchmen' 'henri' 'hero' 'heroes' 'heroic' 'heroin' 'heroism' 'hi'\n",
      " 'hidden' 'hiddencamera' 'hide' 'high' 'higher' 'highest' 'highland'\n",
      " 'highli' 'highschool' 'highschoolsport' 'highschoolstud' 'highway'\n",
      " 'hijack' 'hike' 'hilari' 'hilaryduff' 'hilaryswank' 'hill' 'himalaya'\n",
      " 'hip' 'hippi' 'hire' 'histor' 'histori' 'historicalfigur' 'history' 'hit'\n",
      " 'hitch' 'hitchhik' 'hitman' 'ho' 'hobbit' 'hockey' 'hold' 'hole' 'holi'\n",
      " 'holiday' 'holli' 'hollywood' 'home' 'homeinvas' 'homeland' 'homeless'\n",
      " 'homelessperson' 'hometown' 'homicid' 'homophobia' 'homosexu' 'honey'\n",
      " 'honeymoon' 'hong' 'hongkong' 'honor' 'hood' 'hoodlum' 'hook' 'hop'\n",
      " 'hope' 'hopedavi' 'hopelessli' 'hopper' 'hord' 'horribl' 'horrif'\n",
      " 'horrifi' 'horror' 'hors' 'horsebackrid' 'horserac' 'hospit' 'hospital'\n",
      " 'host' 'hostag' 'hostage' 'hostil' 'hot' 'hotel' 'hotelroom' 'hotshot'\n",
      " 'hour' 'hous' 'house' 'household' 'housewif' 'howard' 'howev' 'hud'\n",
      " 'huge' 'hugh' 'hughgrant' 'hughjackman' 'human' 'humananimalrelationship'\n",
      " 'humanity' 'humankind' 'humans' 'humili' 'humor' 'hundr' 'hunger'\n",
      " 'hungri' 'hunt' 'hunter' 'hunters' 'hurrican' 'hurt' 'husband' 'hustler'\n",
      " 'hypnosi' 'hypnot' 'hyster' 'hyun' 'ianmckellen' 'ice' 'icecub' 'icon'\n",
      " 'idea' 'ideal' 'idealist' 'ident' 'identity' 'idol' 'idyl' 'ignit'\n",
      " 'ignor' 'ii' 'iii' 'il' 'ill' 'illeg' 'illegaldrug' 'illegalimmigr'\n",
      " 'illegalprostitut' 'illness' 'illus' 'illustr' 'imag' 'imagin'\n",
      " 'imaginari' 'imagined' 'imax' 'immedi' 'immens' 'immigr' 'immort'\n",
      " 'impact' 'imperi' 'imperson' 'implic' 'import' 'imposs' 'impostor'\n",
      " 'impress' 'imprison' 'inadvert' 'incest' 'incid' 'includ' 'incompet'\n",
      " 'increas' 'increasingli' 'incred' 'independ' 'independentfilm' 'indi'\n",
      " 'india' 'indian' 'indiana' 'indianlead' 'individu' 'industri' 'industry'\n",
      " 'inevit' 'inexplic' 'infam' 'infant' 'infect' 'infidel' 'infiltr'\n",
      " 'influenc' 'inform' 'inhabit' 'inherit' 'initi' 'inject' 'injur' 'injuri'\n",
      " 'inmat' 'inner' 'innoc' 'insan' 'insecur' 'insid' 'insight' 'insist'\n",
      " 'insomnia' 'inspector' 'inspir' 'instal' 'instant' 'instantli' 'instead'\n",
      " 'instinct' 'institut' 'institution' 'instructor' 'insur' 'insurg'\n",
      " 'intellig' 'intend' 'intens' 'intent' 'intergalact' 'intern' 'internet'\n",
      " 'interpret' 'interrog' 'interspeciesrom' 'intertwin' 'interview' 'intim'\n",
      " 'intoler' 'intrigu' 'introduc' 'invad' 'invas' 'invent' 'inventor'\n",
      " 'invest' 'investig' 'investigate' 'invis' 'invit' 'involv' 'iowa' 'ira'\n",
      " 'iran' 'iranian' 'iraq' 'iraqwar' 'ireland' 'irish' 'iron' 'islam'\n",
      " 'island' 'isn' 'isol' 'isra' 'israel' 'issu' 'itali' 'italian'\n",
      " 'ivanreitman' 'jack' 'jackass' 'jackblack' 'jacki' 'jackiechan'\n",
      " 'jacknicholson' 'jackson' 'jadapinkettsmith' 'jade' 'jail' 'jake'\n",
      " 'jakegyllenha' 'jamaica' 'jame' 'james' 'jamescaan' 'jamescameron'\n",
      " 'jamesfranco' 'jamesivori' 'jamesmangold' 'jamesmarsden' 'jamesmcavoy'\n",
      " 'jameswan' 'jameswood' 'jami' 'jamie' 'jamiefoxx' 'jamieleecurti' 'jan'\n",
      " 'jane' 'janitor' 'japan' 'japanes' 'jaredleto' 'jason' 'jasonbateman'\n",
      " 'jasonbigg' 'jasonle' 'jasonschwartzman' 'jasonsegel' 'jasonstatham'\n",
      " 'javierbardem' 'jay' 'jaychandrasekhar' 'jayroach' 'jazz' 'jealousi'\n",
      " 'jean' 'jeanreno' 'jedi' 'jeff' 'jeffbridg' 'jeffdaniel' 'jeffgoldblum'\n",
      " 'jeffreywright' 'jennif' 'jenniferaniston' 'jenniferconnelli'\n",
      " 'jennifergarn' 'jenniferjasonleigh' 'jenniferlawr' 'jenniferlopez'\n",
      " 'jenniferlovehewitt' 'jeremyiron' 'jeremyrenn' 'jerri' 'jersey'\n",
      " 'jerusalem' 'jess' 'jessebradford' 'jesseeisenberg' 'jessica'\n",
      " 'jessicaalba' 'jessicabiel' 'jessicachastain' 'jesu' 'jesus'\n",
      " 'jesuschrist' 'jetli' 'jew' 'jewel' 'jewish' 'jigsaw' 'jill' 'jim'\n",
      " 'jimbroadb' 'jimcarrey' 'jimcaviezel' 'jimmi' 'jimmy' 'jin' 'joanallen'\n",
      " 'joancusack' 'joaquinphoenix' 'job' 'jobinterview' 'jock' 'jodiefost'\n",
      " 'joe' 'joel' 'joelcoen' 'joeledgerton' 'joelschumach' 'joepesci' 'joey'\n",
      " 'john' 'johnc' 'johncarpent' 'johncusack' 'johngoodman' 'johnhurt'\n",
      " 'johnkrasinski' 'johnleguizamo' 'johnmalkovich' 'johnmctiernan' 'johnni'\n",
      " 'johnny' 'johnnydepp' 'johnnyknoxvil' 'johnsingleton' 'johnson'\n",
      " 'johntravolta' 'johnturturro' 'johnwoo' 'join' 'jon' 'jonahhil'\n",
      " 'jonathan' 'jonathanfrak' 'jonathanrhysmey' 'jone' 'jones' 'jonfavreau'\n",
      " 'jonturteltaub' 'jonvoight' 'jordan' 'joseph' 'josephgordon' 'josh'\n",
      " 'joshbrolin' 'joshhartnett' 'joshhutcherson' 'journal' 'journalist'\n",
      " 'journey' 'joy' 'jr' 'judelaw' 'judg' 'judidench' 'juli' 'julia' 'julian'\n",
      " 'juliannemoor' 'juliarobert' 'juliastil' 'julie' 'jump' 'jungl' 'jungle'\n",
      " 'junior' 'junki' 'just' 'justic' 'justice' 'justinlong' 'justintimberlak'\n",
      " 'kansa' 'karat' 'karen' 'karlurban' 'kat' 'kate' 'katebeckinsal'\n",
      " 'katebosworth' 'katehudson' 'katemara' 'katewinslet' 'katherin'\n",
      " 'katherineheigl' 'kathi' 'kathyb' 'kati' 'katieholm' 'katniss' 'kay'\n",
      " 'keanureev' 'keiraknightley' 'kelli' 'kelly' 'kellypreston' 'ken'\n",
      " 'kennethbranagh' 'kermit' 'kevin' 'kevinbacon' 'kevincostn' 'kevinhart'\n",
      " 'kevinjam' 'kevinklin' 'kevinsmith' 'kevinspacey' 'key' 'kgb' 'khan'\n",
      " 'kick' 'kid' 'kidnap' 'kidnapp' 'kidnapped' 'kids' 'kidsandfamili'\n",
      " 'kiefersutherland' 'kill' 'killed' 'killer' 'killerrobot' 'killers' 'kim'\n",
      " 'kimbasing' 'kind' 'king' 'kingdom' 'kingpin' 'kirk' 'kirstendunst'\n",
      " 'kiss' 'kit' 'kitchen' 'knew' 'knife' 'knight' 'knit' 'knock' 'know'\n",
      " 'knowledg' 'known' 'kong' 'korea' 'korean' 'kowalski' 'kriskristofferson'\n",
      " 'kristenbel' 'kristenstewart' 'kristenwiig' 'kristinscottthoma' 'krueger'\n",
      " 'kung' 'kungfu' 'kurt' 'kurtrussel' 'kyle' 'la' 'lab' 'labor'\n",
      " 'laboratori' 'lac' 'lack' 'ladi' 'ladies' 'ladykil' 'laid' 'lake' 'land'\n",
      " 'landscap' 'lane' 'languag' 'lapd' 'larg' 'larger' 'largest' 'larri'\n",
      " 'laser' 'lasergun' 'lassehallström' 'lasvega' 'late' 'later' 'latest'\n",
      " 'laugh' 'launch' 'laura' 'lauralinney' 'laurencefishburn' 'lavish' 'law'\n",
      " 'lawman' 'lawrenc' 'lawyer' 'lax' 'lay' 'lazi' 'le' 'lead' 'leader'\n",
      " 'leadership' 'leagu' 'learn' 'leav' 'led' 'lee' 'left' 'leg' 'legaci'\n",
      " 'legacy' 'legal' 'legend' 'legendari' 'legends' 'legion' 'lenaheadey'\n",
      " 'length' 'leo' 'leon' 'leonardnimoy' 'leonardodicaprio' 'lesbian'\n",
      " 'lesbianrelationship' 'lesliemann' 'lesson' 'let' 'lethal' 'letter'\n",
      " 'level' 'levitt' 'lewi' 'lgbt' 'li' 'liaison' 'liamneeson' 'liar' 'liber'\n",
      " 'lie' 'lieuten' 'lievschreib' 'lif' 'life' 'lifeanddeath' 'lifelong'\n",
      " 'lifestyl' 'lifetim' 'lift' 'light' 'lightn' 'lik' 'like' 'lili' 'limit'\n",
      " 'lincoln' 'linda' 'lindsaylohan' 'line' 'lines' 'link' 'lion' 'lisa'\n",
      " 'lisakudrow' 'list' 'listen' 'liter' 'literatur' 'littl' 'littleboy'\n",
      " 'live' 'liveactionandanim' 'lives' 'living' 'lizzi' 'll' 'lloyd' 'lo'\n",
      " 'loan' 'local' 'locat' 'lock' 'logan' 'loganlerman' 'lola' 'london'\n",
      " 'londonengland' 'lone' 'loneli' 'loner' 'lonewolf' 'long' 'longer'\n",
      " 'longtim' 'look' 'loop' 'loos' 'loose' 'loot' 'lord' 'losangel' 'lose'\n",
      " 'loser' 'loss' 'lossofbroth' 'lossofchild' 'lossoffamili' 'lossoffath'\n",
      " 'lossofhusband' 'lossoflov' 'lossofmoth' 'lossofpar' 'lossofson' 'lost'\n",
      " 'lot' 'lotteri' 'lou' 'loui' 'louisiana' 'lov' 'lovabl' 'love'\n",
      " 'loveatfirstsight' 'loveless' 'lovelett' 'loveofone' 'lover' 'loves'\n",
      " 'lovesick' 'lovetriangl' 'low' 'loyal' 'loyalti' 'lt' 'luca' 'luci'\n",
      " 'luck' 'lucki' 'lucy' 'lucyliu' 'luke' 'lukewilson' 'lure' 'lurk' 'lust'\n",
      " 'luxuri' 'ma' 'machin' 'machine' 'machinegun' 'maci' 'mad' 'madam'\n",
      " 'madea' 'madison' 'madness' 'madonna' 'mafia' 'magazin' 'maggi' 'maggie'\n",
      " 'magic' 'magician' 'maid' 'mail' 'main' 'maintain' 'major' 'mak' 'make'\n",
      " 'malcolm' 'malcolmd' 'male' 'malefemalerelationship' 'malefriendship'\n",
      " 'malenud' 'malibu' 'mall' 'man' 'manag' 'manager' 'mandymoor' 'manhattan'\n",
      " 'manhunt' 'mani' 'maniac' 'manipul' 'mankind' 'mann' 'manner' 'mansion'\n",
      " 'manufactur' 'manvsmachin' 'map' 'mar' 'marcforst' 'march' 'marcu' 'mari'\n",
      " 'maria' 'mariabello' 'marijuana' 'marin' 'marisatomei' 'mark' 'market'\n",
      " 'markruffalo' 'markstrong' 'markwahlberg' 'marlonbrando' 'marlonwayan'\n",
      " 'marri' 'marriag' 'marriage' 'marriagecrisi' 'marriagepropos' 'married'\n",
      " 'marriedcoupl' 'marsh' 'marshal' 'martha' 'marti' 'martial' 'martialart'\n",
      " 'martian' 'martin' 'martincampbel' 'martinfreeman' 'martinlawr'\n",
      " 'martinscorses' 'marvelcinematicunivers' 'marvelcom' 'mary'\n",
      " 'marymccormack' 'mask' 'maskedkil' 'mass' 'massacr' 'massiv' 'massmurd'\n",
      " 'master' 'mastermind' 'masturb' 'match' 'mate' 'materi' 'mathemat'\n",
      " 'mathematician' 'matrix' 'matt' 'mattdamon' 'mattdillon' 'matter'\n",
      " 'matteroflifeanddeath' 'matthew' 'matthewbroderick' 'matthewlillard'\n",
      " 'matthewmcconaughey' 'maverick' 'max' 'maya' 'mayb' 'mayhem' 'mayor'\n",
      " 'maze' 'mccall' 'mcclane' 'mean' 'meant' 'meanwhil' 'meat' 'mechan'\n",
      " 'medal' 'medallion' 'media' 'medic' 'medicin' 'mediev' 'meet' 'mega'\n",
      " 'megan' 'megryan' 'melbrook' 'melgibson' 'melissa' 'melvin' 'member'\n",
      " 'members' 'memoir' 'memori' 'memoryloss' 'men' 'menac' 'mental'\n",
      " 'mentalil' 'mentallydis' 'mentor' 'mephisto' 'mercenari' 'merchant'\n",
      " 'merciless' 'mere' 'mermaid' 'merylstreep' 'messag' 'met' 'metal'\n",
      " 'meteor' 'method' 'metro' 'mexican' 'mexicanstandoff' 'mexico' 'mia'\n",
      " 'miami' 'michael' 'michaelangarano' 'michaelbay' 'michaelcain'\n",
      " 'michaeldougla' 'michaelfassbend' 'michaelj' 'michaelkeaton'\n",
      " 'michaelmoor' 'michaelshannon' 'michaelsheen' 'michel' 'michellemonaghan'\n",
      " 'michellepfeiff' 'michellerodriguez' 'michigan' 'mickey' 'mickeyrourk'\n",
      " 'mid' 'middl' 'middle' 'middleag' 'middleeast' 'midlifecrisi' 'midnight'\n",
      " 'midst' 'midwest' 'mighti' 'mike' 'mikemy' 'mikenewel' 'milakuni' 'mild'\n",
      " 'mile' 'militari' 'millajovovich' 'miller' 'million' 'millionair' 'milo'\n",
      " 'mind' 'mindcontrol' 'miner' 'minion' 'minist' 'minnesota' 'minniedriv'\n",
      " 'minor' 'minut' 'miracl' 'miracul' 'miranda' 'mirror' 'misadventur'\n",
      " 'misanthrop' 'mischiev' 'miser' 'misfit' 'misguid' 'mismatch'\n",
      " 'misogynist' 'miss' 'missil' 'missing' 'missingperson' 'mission'\n",
      " 'missionari' 'missionofmurd' 'mississippi' 'missouri' 'mistak' 'mistaken'\n",
      " 'mistakenident' 'mistakenli' 'mistress' 'mitch' 'mitchel' 'mix' 'mob'\n",
      " 'mobster' 'mockumentari' 'model' 'modern' 'mole' 'molli' 'mom' 'moment'\n",
      " 'money' 'monica' 'monk' 'monkey' 'monster' 'monstrou' 'montana' 'month'\n",
      " 'months' 'montreal' 'moon' 'moonlight' 'moor' 'moore' 'moral'\n",
      " 'morganfreeman' 'morgu' 'mormon' 'morn' 'morrischestnut' 'mortal'\n",
      " 'moscow' 'mose' 'mossad' 'mostli' 'motel' 'mother'\n",
      " 'motherdaughterrelationship' 'motherrol' 'mothersonrelationship' 'motion'\n",
      " 'motiv' 'motley' 'motor' 'motorcycl' 'mount' 'mountain' 'mountains'\n",
      " 'mous' 'mouth' 'movement' 'movi' 'movie' 'movieinmovi' 'movies'\n",
      " 'moviestar' 'mr' 'multi' 'multipl' 'multiplestorylin' 'mumblecor'\n",
      " 'mumblegor' 'murder' 'murdered' 'murderer' 'murderhunt' 'murphi' 'murray'\n",
      " 'muse' 'museum' 'music' 'musicband' 'musician' 'musket' 'muslim' 'mut'\n",
      " 'mutant' 'mutat' 'mutini' 'mutual' 'mysteri' 'mystery' 'mystic' 'myth'\n",
      " 'mythic' 'mytholog' 'naiv' 'nam' 'nanni' 'naomiwatt' 'narcot' 'narnia'\n",
      " 'narrat' 'nasa' 'nasti' 'natalieportman' 'nathan' 'nation' 'nativ'\n",
      " 'nativeamerican' 'natur' 'naturaldisast' 'nature' 'navi' 'navig' 'navys'\n",
      " 'nazi' 'nazigermani' 'nba' 'near' 'nearbi' 'nearli' 'necessari' 'need'\n",
      " 'nefari' 'negoti' 'neighbor' 'neighborhood' 'neil' 'neiljordan' 'nelson'\n",
      " 'nemesi' 'nemesis' 'neo' 'nephew' 'nerd' 'nerdi' 'netherland' 'network'\n",
      " 'nevada' 'nevecampbel' 'new' 'newborn' 'newcom' 'newfound' 'newident'\n",
      " 'newjersey' 'newli' 'newlov' 'newlyw' 'newmexico' 'news' 'newspap'\n",
      " 'newyear' 'newyork' 'newyorkc' 'nialong' 'nice' 'nick' 'nicknolt' 'nicol'\n",
      " 'nicolascag' 'nicolekidman' 'niec' 'niece' 'night' 'nightclub' 'nightlif'\n",
      " 'nightmar' 'nightmare' 'nightshyamalan' 'nightstand' 'ninja' 'noah'\n",
      " 'nobl' 'nobodi' 'noir' 'nomad' 'non' 'normal' 'norman' 'north' 'northern'\n",
      " 'nose' 'note' 'noth' 'notic' 'notori' 'novel' 'novelist' 'nowher'\n",
      " 'nuclear' 'nuclearmissil' 'nuditi' 'number' 'numberintitl' 'numer' 'nun'\n",
      " 'nurs' 'nypd' 'object' 'observ' 'obsess' 'obsession' 'obstacl' 'obtain'\n",
      " 'occasion' 'occult' 'occup' 'occupi' 'occur' 'ocean' 'odd' 'oddbal'\n",
      " 'odds' 'odyssey' 'offer' 'offic' 'office' 'officer' 'offici' 'ogr' 'ohio'\n",
      " 'oil' 'old' 'older' 'oliv' 'oliverston' 'olivia' 'oliviawild' 'olymp'\n",
      " 'olympicgam' 'omar' 'onc' 'onli' 'onlin' 'ontherun' 'open' 'oper' 'opera'\n",
      " 'operation' 'opportun' 'oppos' 'opposit' 'oppositesattract' 'oppress'\n",
      " 'orc' 'orchestr' 'order' 'ordinari' 'oregon' 'organ' 'organization'\n",
      " 'organizedcrim' 'origin' 'orlandobloom' 'orlean' 'orphan' 'orphanag'\n",
      " 'orphanage' 'oscar' 'oscaraward' 'oscarisaac' 'otherworldli' 'outback'\n",
      " 'outbreak' 'outcast' 'outerspac' 'outlaw' 'outrag' 'outsid' 'outwit'\n",
      " 'overcom' 'overrun' 'overthrow' 'overwhelm' 'owenwilson' 'owl' 'owner'\n",
      " 'oxford' 'oz' 'pacif' 'pack' 'packag' 'pact' 'pageant' 'paid' 'pain'\n",
      " 'paint' 'painter' 'pair' 'pal' 'palac' 'pam' 'pan' 'pandora' 'panic'\n",
      " 'panther' 'paper' 'parallel' 'parallelworld' 'paranoia' 'paranoid'\n",
      " 'paranorm' 'parent' 'parents' 'parentskidsrelationship' 'pari' 'paris'\n",
      " 'parisian' 'park' 'parker' 'parodi' 'parol' 'parrish' 'parti' 'particip'\n",
      " 'particularli' 'parties' 'partner' 'partners' 'partnership' 'party'\n",
      " 'pass' 'passeng' 'passion' 'past' 'pastor' 'path' 'patient' 'patriarch'\n",
      " 'patriciaarquett' 'patrick' 'patrickstewart' 'patrickwilson' 'patriot'\n",
      " 'patrol' 'paul' 'paulapatton' 'paulbettani' 'paulgiamatti'\n",
      " 'paulgreengrass' 'paulnewman' 'paulrudd' 'paulw' 'paulwalk' 'pawn' 'pay'\n",
      " 'peac' 'peace' 'pearl' 'peasant' 'pedophilia' 'penguin' 'penn'\n",
      " 'pennsylvania' 'penélopecruz' 'peopl' 'people' 'perfect' 'perform'\n",
      " 'perhap' 'peril' 'period' 'perioddrama' 'perry' 'persian' 'person'\n",
      " 'persuad' 'peru' 'pet' 'pete' 'peter' 'peterberg' 'peterjackson'\n",
      " 'petersarsgaard' 'peterseg' 'petti' 'phantom' 'phil' 'philadelphia'\n",
      " 'philipseymourhoffman' 'phillipnoyc' 'philosoph' 'philosophi' 'phone'\n",
      " 'photo' 'photograph' 'photographi' 'physic' 'pianist' 'piano' 'picard'\n",
      " 'pick' 'pictur' 'picture' 'piec' 'piercebrosnan' 'pig' 'pilot' 'pimp'\n",
      " 'pink' 'pinocchio' 'piperperabo' 'pirat' 'pistol' 'pit' 'pitch' 'place'\n",
      " 'plagu' 'plan' 'plane' 'planet' 'plannedmurd' 'plans' 'plant' 'plantat'\n",
      " 'play' 'playboy' 'player' 'playground' 'playwright' 'pleasur' 'pledg'\n",
      " 'plenti' 'plot' 'plung' 'po' 'poet' 'poetri' 'point' 'poison' 'poker'\n",
      " 'polar' 'polic' 'police' 'policebrut' 'policechas' 'policeman'\n",
      " 'policeoffic' 'policeoper' 'polit' 'politician' 'polli' 'pool' 'poor'\n",
      " 'pop' 'popstar' 'popul' 'popular' 'porn' 'pornographi' 'port' 'portal'\n",
      " 'porter' 'portrait' 'portray' 'pose' 'posit' 'possess' 'possibl' 'post'\n",
      " 'posttraumaticstressdisord' 'pot' 'potenti' 'potter' 'pound' 'poverti'\n",
      " 'pow' 'power' 'poweroutag' 'powers' 'practic' 'prank' 'prayer' 'pre'\n",
      " 'preacher' 'preciou' 'predat' 'predict' 'pregnanc' 'pregnancyandbirth'\n",
      " 'pregnant' 'prehistor' 'prejudic' 'premonit' 'prepar' 'prequel' 'presenc'\n",
      " 'present' 'presid' 'president' 'presidenti' 'presidentialelect' 'press'\n",
      " 'pressur' 'prestigi' 'presum' 'pretend' 'pretti' 'prevent' 'previou'\n",
      " 'prey' 'price' 'priceless' 'pride' 'priest' 'prime' 'princ' 'prince'\n",
      " 'princess' 'princip' 'principl' 'prison' 'prisonersofwar' 'privat'\n",
      " 'privatedetect' 'privileg' 'prize' 'pro' 'problem' 'problems' 'process'\n",
      " 'prodigi' 'produc' 'product' 'production' 'profession' 'professor'\n",
      " 'profil' 'profit' 'program' 'progress' 'project' 'prom' 'promin' 'promis'\n",
      " 'promot' 'prompt' 'promptli' 'proof' 'properti' 'propheci' 'propos'\n",
      " 'prosecut' 'prospect' 'prostitut' 'protect' 'protest' 'prove' 'provid'\n",
      " 'psychiatr' 'psychiatrist' 'psychic' 'psycholog' 'psychologist'\n",
      " 'psychopath' 'psychot' 'pub' 'puberti' 'public' 'publicist' 'publish'\n",
      " 'pull' 'punish' 'punk' 'puppet' 'puppi' 'purchas' 'pure' 'purpos' 'pursu'\n",
      " 'pursuit' 'push' 'quarantin' 'quarterback' 'queen' 'queenlatifah'\n",
      " 'quentintarantino' 'quest' 'question' 'quick' 'quickli' 'quiet' 'quirki'\n",
      " 'quit' 'rabbit' 'race' 'raceagainsttim' 'racehors' 'racer'\n",
      " 'rachaelleighcook' 'rachel' 'rachelmcadam' 'rachelweisz' 'racial'\n",
      " 'racism' 'radiat' 'radic' 'radio' 'rag' 'rage' 'rageandh' 'ragtag' 'raid'\n",
      " 'railroad' 'rain' 'rais' 'ralli' 'ralph' 'ralphfienn' 'rampag' 'ranch'\n",
      " 'ranger' 'rank' 'ransom' 'rape' 'rapidli' 'rapmus' 'rapper' 'rare' 'rat'\n",
      " 'rate' 'ravag' 'raw' 'ray' 'rayliotta' 'raymond' 'raywinston' 'reach'\n",
      " 'reaction' 'read' 'readi' 'real' 'realis' 'realiti' 'reality' 'realiz'\n",
      " 'realli' 'realm' 'reaper' 'reason' 'rebecca' 'rebeccahal' 'rebel'\n",
      " 'rebelli' 'rebellion' 'reboot' 'rebuild' 'receiv' 'recent' 'reckless'\n",
      " 'reclaim' 'reclus' 'reconcil' 'reconnect' 'record' 'recount' 'recov'\n",
      " 'recreat' 'recruit' 'red' 'redempt' 'redemption' 'rediscov' 'redneck'\n",
      " 'reel' 'reesewitherspoon' 'reflect' 'refug' 'refus' 'regain' 'regard'\n",
      " 'regim' 'regret' 'regular' 'reign' 'reilli' 'reject' 'rekindl' 'rel'\n",
      " 'relat' 'relationship' 'relationshipproblem' 'relationships' 'releas'\n",
      " 'relentless' 'reli' 'religi' 'religion' 'religionandsupernatur' 'reloc'\n",
      " 'reluct' 'reluctantli' 'remain' 'remak' 'remark' 'rememb' 'remind'\n",
      " 'reminisc' 'remot' 'renegad' 'renerusso' 'rennyharlin' 'renown' 'rent'\n",
      " 'renéezellweg' 'repair' 'repay' 'replac' 'report' 'reporter' 'repres'\n",
      " 'repress' 'reput' 'request' 'requir' 'rescu' 'rescue' 'research' 'resid'\n",
      " 'resist' 'resistance' 'resolv' 'resort' 'resourc' 'resources' 'respect'\n",
      " 'respond' 'respons' 'rest' 'restaur' 'restaurant' 'restor' 'result'\n",
      " 'results' 'resurfac' 'resurrect' 'retel' 'retir' 'retreat' 'retriev'\n",
      " 'return' 'reunion' 'reunit' 'reveal' 'revealed' 'revel' 'reveng'\n",
      " 'revenge' 'reverend' 'reviv' 'revolut' 'revolutionari' 'revolv' 'reward'\n",
      " 'rich' 'richard' 'richarddonn' 'richarddreyfuss' 'richardger'\n",
      " 'richardlinklat' 'rick' 'ricki' 'rid' 'riddl' 'ride' 'rider' 'ridicul'\n",
      " 'ridleyscott' 'rifl' 'rig' 'right' 'rightandjustic' 'riley' 'ring' 'riot'\n",
      " 'rip' 'ripley' 'rise' 'risk' 'ritual' 'rival' 'rivalri' 'river' 'road'\n",
      " 'roadmovi' 'roadtrip' 'roam' 'roar' 'rob' 'robber' 'robberi' 'robcohen'\n",
      " 'robert' 'robertdeniro' 'robertdowneyjr' 'robertduval' 'robertenglund'\n",
      " 'robertredford' 'robertrodriguez' 'robertzemecki' 'robin' 'robinson'\n",
      " 'robinwilliam' 'robinwright' 'robot' 'robrein' 'rock' 'rockandrol'\n",
      " 'rocket' 'rocki' 'rockstar' 'roger' 'rogerdonaldson' 'rogermoor' 'rogu'\n",
      " 'rolandemmerich' 'role' 'roll' 'roller' 'roman' 'romanc' 'romance'\n",
      " 'romant' 'romanticcomedi' 'rome' 'romeo' 'romero' 'ron' 'ronhoward'\n",
      " 'ronni' 'roof' 'rooftop' 'rooki' 'room' 'roommat' 'root' 'rosamundpik'\n",
      " 'rosariodawson' 'rose' 'rosebyrn' 'ross' 'rough' 'round' 'routin' 'row'\n",
      " 'roy' 'royal' 'royalti' 'rubi' 'rugbi' 'rugrat' 'ruin' 'rule' 'ruler'\n",
      " 'rules' 'rumor' 'run' 'runaway' 'runner' 'rupertgrint' 'rural' 'ruralset'\n",
      " 'rush' 'russel' 'russell' 'russellcrow' 'russia' 'russian' 'ruth'\n",
      " 'ruthless' 'ryan' 'ryangosl' 'ryanphillipp' 'ryanreynold' 'sabotag'\n",
      " 'sacr' 'sacrific' 'sad' 'sadism' 'sadist' 'safe' 'safeti' 'safety' 'saga'\n",
      " 'said' 'sail' 'sailor' 'saint' 'sale' 'salesman' 'salli' 'salmahayek'\n",
      " 'sam' 'samantha' 'samanthamorton' 'sammend' 'samneil' 'samraimi'\n",
      " 'samrockwel' 'samuel' 'samuell' 'samurai' 'san' 'sand' 'sandi'\n",
      " 'sandrabullock' 'sanfrancisco' 'santa' 'santaclau' 'sara' 'sarah'\n",
      " 'sarahjessicapark' 'sarahmichellegellar' 'sarapaxton' 'satan' 'satellit'\n",
      " 'satir' 'satisfi' 'savag' 'save' 'savingtheworld' 'saw' 'say' 'sbook'\n",
      " 'scam' 'scandal' 'scar' 'scare' 'scari' 'scarlettjohansson' 'scene'\n",
      " 'schedul' 'scheme' 'schizophrenia' 'scholarship' 'school' 'schoolteach'\n",
      " 'sci' 'scienc' 'sciencefict' 'scientif' 'scientist' 'score' 'scotland'\n",
      " 'scott' 'scottglenn' 'scottish' 'scout' 'scrambl' 'scream' 'screen'\n",
      " 'screenplay' 'screenwrit' 'script' 'scubadiv' 'sdailylif' 'sea' 'seal'\n",
      " 'sean' 'seanbean' 'seanconneri' 'seannwilliamscott' 'seanpenn' 'search'\n",
      " 'seas' 'seasid' 'season' 'seattl' 'sebastian' 'seclud' 'second' 'secret'\n",
      " 'secretag' 'secretari' 'secretident' 'secretintelligenceservic'\n",
      " 'secretli' 'secretlov' 'secretmiss' 'secretorgan' 'secrets'\n",
      " 'secretservic' 'secretsocieti' 'section' 'secur' 'securityguard' 'seduc'\n",
      " 'seduct' 'seek' 'seemingli' 'seen' 'seiz' 'sel' 'self' 'selfsacrific'\n",
      " 'sell' 'selmablair' 'semi' 'senat' 'send' 'senior' 'sens' 'sensat'\n",
      " 'sensit' 'sent' 'sentenc' 'seo' 'separ' 'sequel' 'sergeant' 'seri'\n",
      " 'serial' 'serialkil' 'series' 'seriesofmurd' 'seriou' 'seriously' 'serv'\n",
      " 'servant' 'servic' 'service' 'session' 'set' 'seth' 'sethgreen'\n",
      " 'sethrogen' 'settl' 'settler' 'sev' 'seven' 'sever' 'sewer' 'sex'\n",
      " 'sexaddict' 'sexi' 'sexual' 'sexualabus' 'sexualobsess' 'shadi' 'shadow'\n",
      " 'shadowi' 'shake' 'shaken' 'shakespear' 'shakespeare' 'shane' 'shanghai'\n",
      " 'shannynsossamon' 'shape' 'share' 'shark' 'sharkattack' 'sharonston'\n",
      " 'sharp' 'shatter' 'shaw' 'shawnlevi' 'shelter' 'shepherd' 'sheriff' 'shi'\n",
      " 'shialabeouf' 'shield' 'shift' 'ship' 'shipwreck' 'shock' 'shoe' 'shoot'\n",
      " 'shootout' 'shop' 'short' 'shot' 'shotgun' 'showdown' 'shower' 'shredder'\n",
      " 'shrek' 'shut' 'shuttl' 'shyness' 'sibl' 'sick' 'sid' 'sidekick' 'sidney'\n",
      " 'sight' 'sign' 'signal' 'sigourneyweav' 'silenc' 'silent' 'silentfilm'\n",
      " 'silver' 'similar' 'simon' 'simonpegg' 'simonwest' 'simpl' 'simpli'\n",
      " 'simpson' 'simultan' 'sin' 'sinc' 'sing' 'singer' 'singl' 'single'\n",
      " 'singlefath' 'singlemoth' 'singlepar' 'sinist' 'sir' 'sister' 'sisters'\n",
      " 'sistersisterrelationship' 'sit' 'site' 'sittingonatoilet' 'situat'\n",
      " 'situation' 'size' 'skateboard' 'skeleton' 'skeptic' 'ski' 'skill'\n",
      " 'skull' 'sky' 'skyscrap' 'slacker' 'slapstick' 'slasher' 'slaughter'\n",
      " 'slave' 'slaveri' 'slavery' 'sleazi' 'sleep' 'sleepi' 'sleepwalk' 'slif'\n",
      " 'slip' 'slowli' 'slum' 'small' 'smalltown' 'smart' 'smash' 'smith'\n",
      " 'smitten' 'smoke' 'smuggl' 'smuggler' 'smurf' 'snake' 'snatch' 'sniper'\n",
      " 'snow' 'snowstorm' 'soccer' 'social' 'societi' 'society' 'sociopath'\n",
      " 'sofia' 'solar' 'sold' 'soldi' 'soldier' 'soldiers' 'sole' 'solitari'\n",
      " 'solomon' 'solv' 'somebodi' 'someon' 'someth' 'sometim' 'somewhat'\n",
      " 'somewher' 'son' 'song' 'songwrit' 'soon' 'sophi' 'sorcer' 'sorcerer'\n",
      " 'sorceri' 'soror' 'sort' 'soul' 'soulmat' 'sound' 'soundtrack' 'sour'\n",
      " 'south' 'southafrica' 'southern' 'southernusa' 'soviet' 'sovietunion'\n",
      " 'space' 'spacecraft' 'spacemarin' 'spacemiss' 'spaceopera' 'spaceship'\n",
      " 'spacetravel' 'spain' 'span' 'spanish' 'spark' 'speak' 'speci' 'special'\n",
      " 'specialist' 'spectacular' 'speech' 'speed' 'spell' 'spencer' 'spend'\n",
      " 'spent' 'spi' 'spider' 'spike' 'spikele' 'spin' 'spiral' 'spirit'\n",
      " 'spiritu' 'spite' 'spoil' 'spoof' 'sport' 'sportsteam' 'spot' 'spotlight'\n",
      " 'spread' 'spring' 'squad' 'squar' 'st' 'stab' 'stadium' 'staff' 'stage'\n",
      " 'stak' 'stake' 'stalk' 'stalker' 'stan' 'stand' 'stanley' 'star'\n",
      " 'starcrossedlov' 'stardom' 'starfleet' 'stark' 'start' 'state' 'states'\n",
      " 'station' 'statu' 'stay' 'steal' 'steampunk' 'steel' 'stella' 'step'\n",
      " 'stepfath' 'stephen' 'stephendorff' 'stephenfrear' 'stephenherek'\n",
      " 'stephenrea' 'stepmoth' 'steve' 'stevebuscemi' 'stevecarel' 'stevemartin'\n",
      " 'steven' 'stevenseag' 'stevensoderbergh' 'stevenspielberg' 'stevezahn'\n",
      " 'stewardess' 'stewart' 'stick' 'stir' 'stock' 'stockbrok' 'stolen'\n",
      " 'stone' 'stoneag' 'stoner' 'stop' 'stopmot' 'store' 'stori' 'stories'\n",
      " 'storm' 'story' 'straight' 'strain' 'strand' 'strang' 'stranger'\n",
      " 'strateg' 'strategi' 'stray' 'street' 'streetgang' 'streets' 'strength'\n",
      " 'stress' 'stretch' 'strict' 'strike' 'strikes' 'strip' 'stripclub'\n",
      " 'stripper' 'strive' 'strong' 'struggl' 'stu' 'stuart' 'stuck' 'student'\n",
      " 'students' 'studi' 'studio' 'stumbl' 'stun' 'stunt' 'stupid' 'style' 'su'\n",
      " 'sub' 'subject' 'submachinegun' 'submarin' 'subsequ' 'suburb' 'suburban'\n",
      " 'suburbia' 'subway' 'succeed' 'success' 'successful' 'successor' 'sudden'\n",
      " 'suddenli' 'sue' 'suffer' 'suggest' 'suicid' 'suicide' 'suicideattempt'\n",
      " 'suit' 'suitor' 'sullivan' 'summer' 'summon' 'sun' 'sunglass' 'super'\n",
      " 'supercomput' 'superhero' 'superhuman' 'superhumanstrength' 'superman'\n",
      " 'supermarket' 'supernatur' 'supernaturalpow' 'superpow' 'superstar'\n",
      " 'supervillain' 'supervisor' 'suppli' 'support' 'suppos' 'suppress'\n",
      " 'suppressedpast' 'sure' 'surf' 'surfac' 'surface' 'surfer' 'surgeon'\n",
      " 'surgeri' 'surpris' 'surreal' 'surround' 'surveil' 'surviv' 'survival'\n",
      " 'survive' 'survivor' 'survivors' 'susan' 'susansarandon' 'suspect'\n",
      " 'suspens' 'suspici' 'suspicion' 'swallow' 'swap' 'sweep' 'sweet'\n",
      " 'sweetheart' 'swept' 'swimmingpool' 'swing' 'switch' 'sword'\n",
      " 'swordandsorceri' 'swordfight' 'swordplay' 'sylvesterstallon' 'symbol'\n",
      " 'tabl' 'tabloid' 'tactic' 'tag' 'tail' 'tak' 'taken' 'tale' 'talent'\n",
      " 'talk' 'talkinganim' 'tall' 'tank' 'tap' 'tape' 'target' 'task' 'tast'\n",
      " 'tattoo' 'taxi' 'taxidriv' 'taylor' 'teach' 'teacher' 'team' 'tear'\n",
      " 'tech' 'technolog' 'technology' 'ted' 'teen' 'teenag' 'teenagecrush'\n",
      " 'teenagegirl' 'teenager' 'teenagers' 'teenagesexu' 'teencomedi'\n",
      " 'teenmovi' 'teens' 'telekinesi' 'telepathi' 'teleport' 'televis' 'tell'\n",
      " 'tens' 'tension' 'term' 'termin' 'terminalil' 'terrencehoward' 'terri'\n",
      " 'terribl' 'terrier' 'terrifi' 'territori' 'terror' 'terrorist'\n",
      " 'terrygilliam' 'tess' 'test' 'tested' 'texa' 'texas' 'th' 'thailand'\n",
      " 'thandienewton' 'thank' 'thanksgiv' 'theater' 'theatremilieu' 'theft'\n",
      " 'theme' 'themselv' 'theori' 'therapist' 'thi' 'thief' 'thiev' 'thing'\n",
      " 'things' 'think' 'thirst' 'thirti' 'thoma' 'thomashadenchurch'\n",
      " 'thomasjan' 'thompson' 'thought' 'thousand' 'threat' 'threaten' 'thrill'\n",
      " 'thriller' 'throne' 'throw' 'thrown' 'thrust' 'thu' 'thug' 'thwart'\n",
      " 'tibet' 'tick' 'ticket' 'tie' 'tiger' 'tildaswinton' 'tim' 'timallen'\n",
      " 'timburton' 'time' 'timeless' 'times' 'timetravel' 'timothyolyph'\n",
      " 'timrobbin' 'timroth' 'timstori' 'tini' 'tire' 'titan' 'titl'\n",
      " 'tobeymaguir' 'today' 'todd' 'toddphillip' 'togeth' 'tokyo' 'told' 'tom'\n",
      " 'tomcruis' 'tomhank' 'tomhardi' 'tommi' 'tommyleejon' 'tomshadyac'\n",
      " 'tomwilkinson' 'toni' 'tonicollett' 'tonyscott' 'took' 'tool' 'tooth'\n",
      " 'torment' 'torn' 'tornado' 'toronto' 'tortur' 'total' 'totalitarian'\n",
      " 'touch' 'tough' 'toughest' 'tour' 'tourist' 'tournament' 'tower' 'town'\n",
      " 'toxic' 'toy' 'toycomestolif' 'trace' 'track' 'trade' 'trader' 'tradit'\n",
      " 'traffic' 'traffick' 'tragedi' 'tragedy' 'tragic' 'trail' 'train'\n",
      " 'trainer' 'traitor' 'transfer' 'transform' 'transit' 'transplant'\n",
      " 'transport' 'trap' 'trauma' 'traumat' 'travel' 'treacher' 'treasur'\n",
      " 'treasurehunt' 'treat' 'treatment' 'tree' 'trek' 'tri' 'trial' 'triangl'\n",
      " 'triangle' 'tribe' 'trick' 'trigger' 'trio' 'trip' 'triumph' 'troop'\n",
      " 'tropic' 'troubl' 'trouble' 'troy' 'truck' 'trucker' 'true' 'truli'\n",
      " 'trust' 'truth' 'tsunami' 'tunnel' 'turbul' 'turmoil' 'turn' 'turned'\n",
      " 'turner' 'turtl' 'tv' 'tvmovi' 'tvshow' 'tvstation' 'twenti' 'twin'\n",
      " 'twinbroth' 'twist' 'tycoon' 'tyler' 'tylerperri' 'type' 'typic' 'tyrann'\n",
      " 'téaleoni' 'ufo' 'ugli' 'ultim' 'ultra' 'umathurman' 'unabl' 'unawar'\n",
      " 'unbeknownst' 'uncl' 'uncle' 'uncomfort' 'unconvent' 'uncov' 'undead'\n",
      " 'undercov' 'undercoverag' 'undercovercop' 'underdog' 'undergo'\n",
      " 'underground' 'understand' 'undertak' 'underwat' 'underworld' 'unemploy'\n",
      " 'unexpect' 'unexpectedli' 'unexplain' 'unfaith' 'unfold' 'unforeseen'\n",
      " 'unforgett' 'unfortun' 'unfortunately' 'unhappi' 'unimagin' 'union'\n",
      " 'uniqu' 'unit' 'univers' 'universe' 'university' 'unknown' 'unleash'\n",
      " 'unless' 'unlik' 'unlikelyfriendship' 'unlock' 'unorthodox' 'unpreced'\n",
      " 'unpredict' 'unravel' 'unrequitedlov' 'unsimulatedsex' 'unsoci' 'unstabl'\n",
      " 'unstopp' 'unsuspect' 'unusu' 'unveil' 'unwit' 'unwittingli' 'upcom'\n",
      " 'upper' 'upperclass' 'upris' 'upset' 'upsid' 'uptight' 'urban' 'urg'\n",
      " 'usa' 'usapresid' 'use' 'usual' 'utah' 'vacat' 'vacation' 'val'\n",
      " 'valentine' 'valkilm' 'valley' 'valu' 'valuabl' 'vampir' 'vampire'\n",
      " 'vampires' 'van' 'vandal' 'vanessa' 'vanessahudgen' 'vanish' 'varieti'\n",
      " 'variou' 'vast' 'vatican' 'vault' 'vega' 'vegas' 'vegetarian' 'veng'\n",
      " 'vengeanc' 'vengeance' 'venic' 'ventur' 'verafarmiga' 'verg' 'veri'\n",
      " 'version' 'verylittledialogu' 'vet' 'veteran' 'vice' 'viciou' 'victim'\n",
      " 'victims' 'victor' 'victori' 'victoria' 'victorian' 'victory' 'video'\n",
      " 'videogam' 'vienna' 'vietnam' 'vietnamveteran' 'vietnamwar' 'view'\n",
      " 'viewer' 'viggomortensen' 'vigilant' 'vike' 'villag' 'village' 'villain'\n",
      " 'vincent' 'vincevaughn' 'vindiesel' 'vineyard' 'violenc' 'violence'\n",
      " 'violent' 'virgin' 'virginia' 'virginiamadsen' 'virtual' 'virtualr'\n",
      " 'viru' 'vision' 'visit' 'visitor' 'visual' 'voic' 'voice' 'volatil'\n",
      " 'volcano' 'volunt' 'vomit' 'von' 'voodoo' 'vorort' 'vow' 'voyag' 'voyeur'\n",
      " 'wa' 'wacki' 'wade' 'wage' 'wager' 'wai' 'wait' 'waiter' 'waitress'\n",
      " 'wake' 'walk' 'walker' 'wall' 'wallet' 'wallstreet' 'walt' 'walter'\n",
      " 'wander' 'wang' 'want' 'war' 'warcrim' 'ward' 'warden' 'warehous'\n",
      " 'warhead' 'warlock' 'warlord' 'warm' 'warn' 'warondrug' 'warren'\n",
      " 'warrenbeatti' 'warrior' 'wars' 'warship' 'warveteran' 'wash'\n",
      " 'washington' 'washingtond' 'wasn' 'wast' 'wasteland' 'watch' 'water'\n",
      " 'wave' 'way' 'ways' 'weak' 'wealth' 'wealthi' 'weapon' 'weapons' 'wear'\n",
      " 'weather' 'web' 'wed' 'wedding' 'week' 'weekend' 'weird' 'welcom' 'went'\n",
      " 'werewolf' 'wesanderson' 'wesbentley' 'wescraven' 'wesley' 'wesleysnip'\n",
      " 'west' 'western' 'whale' 'whatev' 'wheelchair' 'whi' 'whip' 'whisk'\n",
      " 'white' 'whitehous' 'whoopigoldberg' 'wick' 'widow' 'wield' 'wif' 'wife'\n",
      " 'wifehusbandrelationship' 'wild' 'wilder' 'wilderness' 'wildli'\n",
      " 'willemdafo' 'willferrel' 'willi' 'william' 'williamh' 'williamhurt'\n",
      " 'williamshatn' 'willpatton' 'willsmith' 'wilson' 'win' 'wind' 'window'\n",
      " 'wine' 'wing' 'winner' 'winonaryd' 'winter' 'wipe' 'wise' 'wish' 'wit'\n",
      " 'witch' 'witchhunt' 'wizard' 'wolf' 'wolfgangpetersen' 'woman'\n",
      " 'womandirector' 'womanrel' 'women' 'won' 'wonder' 'woo' 'wood' 'woodi'\n",
      " 'woods' 'woodyallen' 'woodyharrelson' 'word' 'work' 'workahol' 'worker'\n",
      " 'workers' 'working' 'world' 'worlds' 'worldwari' 'worldwarii' 'worldwid'\n",
      " 'worri' 'wors' 'worse' 'worship' 'worst' 'worth' 'wound' 'wreak' 'wrestl'\n",
      " 'wrestler' 'wretch' 'wright' 'write' 'writer' 'written' 'wrong' 'wwii'\n",
      " 'wyom' 'xenophobia' 'yacht' 'yakuza' 'yard' 'year' 'yearn' 'years'\n",
      " 'yellow' 'york' 'yorker' 'young' 'youngadult' 'youngboy' 'younger'\n",
      " 'youngest' 'youngster' 'youth' 'yuppi' 'zacefron' 'zachgalifianaki'\n",
      " 'zealand' 'zebra' 'zeu' 'zoe' 'zoesaldana' 'zombi' 'zombies' 'zone' 'zoo'\n",
      " 'zooeydeschanel']\n"
     ]
    }
   ],
   "source": [
    "np.set_printoptions(threshold=np.inf)\n",
    "\n",
    "print(cv.get_feature_names_out())"
   ]
  },
  {
   "cell_type": "code",
   "execution_count": 53,
   "id": "474a57ad",
   "metadata": {},
   "outputs": [],
   "source": [
    "from sklearn.metrics.pairwise import cosine_similarity"
   ]
  },
  {
   "cell_type": "code",
   "execution_count": 54,
   "id": "0bd642cd",
   "metadata": {},
   "outputs": [],
   "source": [
    "similarity = cosine_similarity(vectors)"
   ]
  },
  {
   "cell_type": "code",
   "execution_count": 55,
   "id": "e100caa2",
   "metadata": {},
   "outputs": [
    {
     "data": {
      "text/plain": [
       "(4806, 4806)"
      ]
     },
     "execution_count": 55,
     "metadata": {},
     "output_type": "execute_result"
    }
   ],
   "source": [
    "similarity.shape"
   ]
  },
  {
   "cell_type": "code",
   "execution_count": 56,
   "id": "e478b0e7",
   "metadata": {},
   "outputs": [
    {
     "data": {
      "text/plain": [
       "[(1214, np.float64(0.28676966733820225)),\n",
       " (2405, np.float64(0.26901379342448517)),\n",
       " (3728, np.float64(0.2605130246476754)),\n",
       " (507, np.float64(0.255608593705383)),\n",
       " (539, np.float64(0.25038669783359574))]"
      ]
     },
     "execution_count": 56,
     "metadata": {},
     "output_type": "execute_result"
    }
   ],
   "source": [
    "sorted(list(enumerate(similarity[0])), reverse = True, key= lambda x:x[1])[1:6]"
   ]
  },
  {
   "cell_type": "code",
   "execution_count": 57,
   "id": "f150427f",
   "metadata": {},
   "outputs": [],
   "source": [
    "def recommend(movie):\n",
    "    movie_index = new_df[new_df[\"title\"]== movie].index[0]\n",
    "    distance = similarity[movie_index]\n",
    "    movies_list = sorted(list(enumerate(distance)), reverse = True, key= lambda x:x[1])[1:11]\n",
    "    \n",
    "    for i in movies_list:\n",
    "        print(new_df.iloc[i[0]].title)"
   ]
  },
  {
   "cell_type": "code",
   "execution_count": 58,
   "id": "f61292cc",
   "metadata": {},
   "outputs": [
    {
     "name": "stdout",
     "output_type": "stream",
     "text": [
      "The Notebook\n",
      "Under the Same Moon\n",
      "Ghost Ship\n",
      "The Bounty\n",
      "Pirates of the Caribbean: On Stranger Tides\n",
      "Poseidon\n",
      "Dear Frankie\n",
      "Baby Boy\n",
      "The Switch\n",
      "Master and Commander: The Far Side of the World\n"
     ]
    }
   ],
   "source": [
    "recommend(\"Titanic\")"
   ]
  },
  {
   "cell_type": "code",
   "execution_count": 59,
   "id": "bddb452a",
   "metadata": {},
   "outputs": [],
   "source": [
    "import pickle"
   ]
  },
  {
   "cell_type": "code",
   "execution_count": 60,
   "id": "4fcf8d29",
   "metadata": {},
   "outputs": [],
   "source": [
    "pickle.dump(new_df, open(\"movies.pkl\", 'wb'))"
   ]
  },
  {
   "cell_type": "code",
   "execution_count": 61,
   "id": "9a7d5a5d",
   "metadata": {},
   "outputs": [],
   "source": [
    "pickle.dump(similarity, open(\"similarity.pkl\", 'wb'))"
   ]
  }
 ],
 "metadata": {
  "kernelspec": {
   "display_name": "env",
   "language": "python",
   "name": "python3"
  },
  "language_info": {
   "codemirror_mode": {
    "name": "ipython",
    "version": 3
   },
   "file_extension": ".py",
   "mimetype": "text/x-python",
   "name": "python",
   "nbconvert_exporter": "python",
   "pygments_lexer": "ipython3",
   "version": "3.13.2"
  }
 },
 "nbformat": 4,
 "nbformat_minor": 5
}
